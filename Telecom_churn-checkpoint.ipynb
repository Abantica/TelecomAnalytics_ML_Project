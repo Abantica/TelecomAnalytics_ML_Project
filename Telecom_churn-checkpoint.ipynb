{
 "cells": [
  {
   "cell_type": "code",
   "execution_count": 1,
   "id": "172e04e4",
   "metadata": {},
   "outputs": [],
   "source": [
    "import os,sys\n",
    "import numpy as np\n",
    "import pandas as pd\n",
    "%matplotlib inline\n",
    "import matplotlib.pyplot as plt\n",
    "import seaborn as sns\n",
    "sns.set()\n",
    "import warnings\n",
    "warnings.filterwarnings('ignore')"
   ]
  },
  {
   "cell_type": "code",
   "execution_count": 92,
   "id": "f93fee3f",
   "metadata": {},
   "outputs": [
    {
     "data": {
      "text/html": [
       "<div>\n",
       "<style scoped>\n",
       "    .dataframe tbody tr th:only-of-type {\n",
       "        vertical-align: middle;\n",
       "    }\n",
       "\n",
       "    .dataframe tbody tr th {\n",
       "        vertical-align: top;\n",
       "    }\n",
       "\n",
       "    .dataframe thead th {\n",
       "        text-align: right;\n",
       "    }\n",
       "</style>\n",
       "<table border=\"1\" class=\"dataframe\">\n",
       "  <thead>\n",
       "    <tr style=\"text-align: right;\">\n",
       "      <th></th>\n",
       "      <th>customerID</th>\n",
       "      <th>gender</th>\n",
       "      <th>SeniorCitizen</th>\n",
       "      <th>Partner</th>\n",
       "      <th>Dependents</th>\n",
       "      <th>tenure</th>\n",
       "      <th>PhoneService</th>\n",
       "      <th>MultipleLines</th>\n",
       "      <th>InternetService</th>\n",
       "      <th>OnlineSecurity</th>\n",
       "      <th>...</th>\n",
       "      <th>DeviceProtection</th>\n",
       "      <th>TechSupport</th>\n",
       "      <th>StreamingTV</th>\n",
       "      <th>StreamingMovies</th>\n",
       "      <th>Contract</th>\n",
       "      <th>PaperlessBilling</th>\n",
       "      <th>PaymentMethod</th>\n",
       "      <th>MonthlyCharges</th>\n",
       "      <th>TotalCharges</th>\n",
       "      <th>Churn</th>\n",
       "    </tr>\n",
       "  </thead>\n",
       "  <tbody>\n",
       "    <tr>\n",
       "      <th>0</th>\n",
       "      <td>7590-VHVEG</td>\n",
       "      <td>Female</td>\n",
       "      <td>0</td>\n",
       "      <td>Yes</td>\n",
       "      <td>No</td>\n",
       "      <td>1</td>\n",
       "      <td>No</td>\n",
       "      <td>No phone service</td>\n",
       "      <td>DSL</td>\n",
       "      <td>No</td>\n",
       "      <td>...</td>\n",
       "      <td>No</td>\n",
       "      <td>No</td>\n",
       "      <td>No</td>\n",
       "      <td>No</td>\n",
       "      <td>Month-to-month</td>\n",
       "      <td>Yes</td>\n",
       "      <td>Electronic check</td>\n",
       "      <td>29.85</td>\n",
       "      <td>29.85</td>\n",
       "      <td>No</td>\n",
       "    </tr>\n",
       "    <tr>\n",
       "      <th>1</th>\n",
       "      <td>5575-GNVDE</td>\n",
       "      <td>Male</td>\n",
       "      <td>0</td>\n",
       "      <td>No</td>\n",
       "      <td>No</td>\n",
       "      <td>34</td>\n",
       "      <td>Yes</td>\n",
       "      <td>No</td>\n",
       "      <td>DSL</td>\n",
       "      <td>Yes</td>\n",
       "      <td>...</td>\n",
       "      <td>Yes</td>\n",
       "      <td>No</td>\n",
       "      <td>No</td>\n",
       "      <td>No</td>\n",
       "      <td>One year</td>\n",
       "      <td>No</td>\n",
       "      <td>Mailed check</td>\n",
       "      <td>56.95</td>\n",
       "      <td>1889.5</td>\n",
       "      <td>No</td>\n",
       "    </tr>\n",
       "    <tr>\n",
       "      <th>2</th>\n",
       "      <td>3668-QPYBK</td>\n",
       "      <td>Male</td>\n",
       "      <td>0</td>\n",
       "      <td>No</td>\n",
       "      <td>No</td>\n",
       "      <td>2</td>\n",
       "      <td>Yes</td>\n",
       "      <td>No</td>\n",
       "      <td>DSL</td>\n",
       "      <td>Yes</td>\n",
       "      <td>...</td>\n",
       "      <td>No</td>\n",
       "      <td>No</td>\n",
       "      <td>No</td>\n",
       "      <td>No</td>\n",
       "      <td>Month-to-month</td>\n",
       "      <td>Yes</td>\n",
       "      <td>Mailed check</td>\n",
       "      <td>53.85</td>\n",
       "      <td>108.15</td>\n",
       "      <td>Yes</td>\n",
       "    </tr>\n",
       "    <tr>\n",
       "      <th>3</th>\n",
       "      <td>7795-CFOCW</td>\n",
       "      <td>Male</td>\n",
       "      <td>0</td>\n",
       "      <td>No</td>\n",
       "      <td>No</td>\n",
       "      <td>45</td>\n",
       "      <td>No</td>\n",
       "      <td>No phone service</td>\n",
       "      <td>DSL</td>\n",
       "      <td>Yes</td>\n",
       "      <td>...</td>\n",
       "      <td>Yes</td>\n",
       "      <td>Yes</td>\n",
       "      <td>No</td>\n",
       "      <td>No</td>\n",
       "      <td>One year</td>\n",
       "      <td>No</td>\n",
       "      <td>Bank transfer (automatic)</td>\n",
       "      <td>42.30</td>\n",
       "      <td>1840.75</td>\n",
       "      <td>No</td>\n",
       "    </tr>\n",
       "    <tr>\n",
       "      <th>4</th>\n",
       "      <td>9237-HQITU</td>\n",
       "      <td>Female</td>\n",
       "      <td>0</td>\n",
       "      <td>No</td>\n",
       "      <td>No</td>\n",
       "      <td>2</td>\n",
       "      <td>Yes</td>\n",
       "      <td>No</td>\n",
       "      <td>Fiber optic</td>\n",
       "      <td>No</td>\n",
       "      <td>...</td>\n",
       "      <td>No</td>\n",
       "      <td>No</td>\n",
       "      <td>No</td>\n",
       "      <td>No</td>\n",
       "      <td>Month-to-month</td>\n",
       "      <td>Yes</td>\n",
       "      <td>Electronic check</td>\n",
       "      <td>70.70</td>\n",
       "      <td>151.65</td>\n",
       "      <td>Yes</td>\n",
       "    </tr>\n",
       "  </tbody>\n",
       "</table>\n",
       "<p>5 rows × 21 columns</p>\n",
       "</div>"
      ],
      "text/plain": [
       "   customerID  gender  SeniorCitizen Partner Dependents  tenure PhoneService  \\\n",
       "0  7590-VHVEG  Female              0     Yes         No       1           No   \n",
       "1  5575-GNVDE    Male              0      No         No      34          Yes   \n",
       "2  3668-QPYBK    Male              0      No         No       2          Yes   \n",
       "3  7795-CFOCW    Male              0      No         No      45           No   \n",
       "4  9237-HQITU  Female              0      No         No       2          Yes   \n",
       "\n",
       "      MultipleLines InternetService OnlineSecurity  ... DeviceProtection  \\\n",
       "0  No phone service             DSL             No  ...               No   \n",
       "1                No             DSL            Yes  ...              Yes   \n",
       "2                No             DSL            Yes  ...               No   \n",
       "3  No phone service             DSL            Yes  ...              Yes   \n",
       "4                No     Fiber optic             No  ...               No   \n",
       "\n",
       "  TechSupport StreamingTV StreamingMovies        Contract PaperlessBilling  \\\n",
       "0          No          No              No  Month-to-month              Yes   \n",
       "1          No          No              No        One year               No   \n",
       "2          No          No              No  Month-to-month              Yes   \n",
       "3         Yes          No              No        One year               No   \n",
       "4          No          No              No  Month-to-month              Yes   \n",
       "\n",
       "               PaymentMethod MonthlyCharges  TotalCharges Churn  \n",
       "0           Electronic check          29.85         29.85    No  \n",
       "1               Mailed check          56.95        1889.5    No  \n",
       "2               Mailed check          53.85        108.15   Yes  \n",
       "3  Bank transfer (automatic)          42.30       1840.75    No  \n",
       "4           Electronic check          70.70        151.65   Yes  \n",
       "\n",
       "[5 rows x 21 columns]"
      ]
     },
     "execution_count": 92,
     "metadata": {},
     "output_type": "execute_result"
    }
   ],
   "source": [
    "cust_churn =pd.read_csv('WA_Fn-UseC_-Telco-Customer-Churn.csv')\n",
    "cust_churn.head()"
   ]
  },
  {
   "cell_type": "code",
   "execution_count": 3,
   "id": "a9052522",
   "metadata": {},
   "outputs": [
    {
     "name": "stdout",
     "output_type": "stream",
     "text": [
      "<class 'pandas.core.frame.DataFrame'>\n",
      "RangeIndex: 7043 entries, 0 to 7042\n",
      "Data columns (total 21 columns):\n",
      " #   Column            Non-Null Count  Dtype  \n",
      "---  ------            --------------  -----  \n",
      " 0   customerID        7043 non-null   object \n",
      " 1   gender            7043 non-null   object \n",
      " 2   SeniorCitizen     7043 non-null   int64  \n",
      " 3   Partner           7043 non-null   object \n",
      " 4   Dependents        7043 non-null   object \n",
      " 5   tenure            7043 non-null   int64  \n",
      " 6   PhoneService      7043 non-null   object \n",
      " 7   MultipleLines     7043 non-null   object \n",
      " 8   InternetService   7043 non-null   object \n",
      " 9   OnlineSecurity    7043 non-null   object \n",
      " 10  OnlineBackup      7043 non-null   object \n",
      " 11  DeviceProtection  7043 non-null   object \n",
      " 12  TechSupport       7043 non-null   object \n",
      " 13  StreamingTV       7043 non-null   object \n",
      " 14  StreamingMovies   7043 non-null   object \n",
      " 15  Contract          7043 non-null   object \n",
      " 16  PaperlessBilling  7043 non-null   object \n",
      " 17  PaymentMethod     7043 non-null   object \n",
      " 18  MonthlyCharges    7043 non-null   float64\n",
      " 19  TotalCharges      7043 non-null   object \n",
      " 20  Churn             7043 non-null   object \n",
      "dtypes: float64(1), int64(2), object(18)\n",
      "memory usage: 1.1+ MB\n"
     ]
    }
   ],
   "source": [
    "cust_churn.info() # lots of object but no missing data"
   ]
  },
  {
   "cell_type": "code",
   "execution_count": 4,
   "id": "369292f2",
   "metadata": {},
   "outputs": [
    {
     "data": {
      "text/plain": [
       "No     73.463013\n",
       "Yes    26.536987\n",
       "Name: Churn, dtype: float64"
      ]
     },
     "execution_count": 4,
     "metadata": {},
     "output_type": "execute_result"
    }
   ],
   "source": [
    "cust_churn['Churn'].value_counts()/(len(cust_churn))*100\n",
    "# ''' 73.463013 % cust happy and 26.536987 % cust not happy with the \n",
    "# performance'''"
   ]
  },
  {
   "cell_type": "code",
   "execution_count": 5,
   "id": "241552c6",
   "metadata": {},
   "outputs": [],
   "source": [
    "churn_no= cust_churn[cust_churn['Churn'] == 'No']\n",
    "churn_yes= cust_churn[cust_churn['Churn'] == 'Yes']"
   ]
  },
  {
   "cell_type": "code",
   "execution_count": 6,
   "id": "a2558c17",
   "metadata": {},
   "outputs": [
    {
     "data": {
      "text/plain": [
       "((5174, 21), (1869, 21))"
      ]
     },
     "execution_count": 6,
     "metadata": {},
     "output_type": "execute_result"
    }
   ],
   "source": [
    "churn_no.shape , churn_yes.shape\n",
    "# '''when i am doing oversampling then my target is minority class and \n",
    "# when i am doing undersampling then my target is majority class.\n",
    "# Here majority is 5147 i.e., cust happy --> No and 1869 i.e., cust unhappy\n",
    "#  ----> yes'''"
   ]
  },
  {
   "cell_type": "code",
   "execution_count": 7,
   "id": "3a437120",
   "metadata": {},
   "outputs": [
    {
     "data": {
      "text/html": [
       "<div>\n",
       "<style scoped>\n",
       "    .dataframe tbody tr th:only-of-type {\n",
       "        vertical-align: middle;\n",
       "    }\n",
       "\n",
       "    .dataframe tbody tr th {\n",
       "        vertical-align: top;\n",
       "    }\n",
       "\n",
       "    .dataframe thead th {\n",
       "        text-align: right;\n",
       "    }\n",
       "</style>\n",
       "<table border=\"1\" class=\"dataframe\">\n",
       "  <thead>\n",
       "    <tr style=\"text-align: right;\">\n",
       "      <th></th>\n",
       "      <th>customerID</th>\n",
       "      <th>gender</th>\n",
       "      <th>SeniorCitizen</th>\n",
       "      <th>Partner</th>\n",
       "      <th>Dependents</th>\n",
       "      <th>tenure</th>\n",
       "      <th>PhoneService</th>\n",
       "      <th>MultipleLines</th>\n",
       "      <th>InternetService</th>\n",
       "      <th>OnlineSecurity</th>\n",
       "      <th>...</th>\n",
       "      <th>DeviceProtection</th>\n",
       "      <th>TechSupport</th>\n",
       "      <th>StreamingTV</th>\n",
       "      <th>StreamingMovies</th>\n",
       "      <th>Contract</th>\n",
       "      <th>PaperlessBilling</th>\n",
       "      <th>PaymentMethod</th>\n",
       "      <th>MonthlyCharges</th>\n",
       "      <th>TotalCharges</th>\n",
       "      <th>Churn</th>\n",
       "    </tr>\n",
       "  </thead>\n",
       "  <tbody>\n",
       "    <tr>\n",
       "      <th>2</th>\n",
       "      <td>3668-QPYBK</td>\n",
       "      <td>Male</td>\n",
       "      <td>0</td>\n",
       "      <td>No</td>\n",
       "      <td>No</td>\n",
       "      <td>2</td>\n",
       "      <td>Yes</td>\n",
       "      <td>No</td>\n",
       "      <td>DSL</td>\n",
       "      <td>Yes</td>\n",
       "      <td>...</td>\n",
       "      <td>No</td>\n",
       "      <td>No</td>\n",
       "      <td>No</td>\n",
       "      <td>No</td>\n",
       "      <td>Month-to-month</td>\n",
       "      <td>Yes</td>\n",
       "      <td>Mailed check</td>\n",
       "      <td>53.85</td>\n",
       "      <td>108.15</td>\n",
       "      <td>Yes</td>\n",
       "    </tr>\n",
       "    <tr>\n",
       "      <th>4</th>\n",
       "      <td>9237-HQITU</td>\n",
       "      <td>Female</td>\n",
       "      <td>0</td>\n",
       "      <td>No</td>\n",
       "      <td>No</td>\n",
       "      <td>2</td>\n",
       "      <td>Yes</td>\n",
       "      <td>No</td>\n",
       "      <td>Fiber optic</td>\n",
       "      <td>No</td>\n",
       "      <td>...</td>\n",
       "      <td>No</td>\n",
       "      <td>No</td>\n",
       "      <td>No</td>\n",
       "      <td>No</td>\n",
       "      <td>Month-to-month</td>\n",
       "      <td>Yes</td>\n",
       "      <td>Electronic check</td>\n",
       "      <td>70.70</td>\n",
       "      <td>151.65</td>\n",
       "      <td>Yes</td>\n",
       "    </tr>\n",
       "  </tbody>\n",
       "</table>\n",
       "<p>2 rows × 21 columns</p>\n",
       "</div>"
      ],
      "text/plain": [
       "   customerID  gender  SeniorCitizen Partner Dependents  tenure PhoneService  \\\n",
       "2  3668-QPYBK    Male              0      No         No       2          Yes   \n",
       "4  9237-HQITU  Female              0      No         No       2          Yes   \n",
       "\n",
       "  MultipleLines InternetService OnlineSecurity  ... DeviceProtection  \\\n",
       "2            No             DSL            Yes  ...               No   \n",
       "4            No     Fiber optic             No  ...               No   \n",
       "\n",
       "  TechSupport StreamingTV StreamingMovies        Contract PaperlessBilling  \\\n",
       "2          No          No              No  Month-to-month              Yes   \n",
       "4          No          No              No  Month-to-month              Yes   \n",
       "\n",
       "      PaymentMethod MonthlyCharges  TotalCharges Churn  \n",
       "2      Mailed check          53.85        108.15   Yes  \n",
       "4  Electronic check          70.70        151.65   Yes  \n",
       "\n",
       "[2 rows x 21 columns]"
      ]
     },
     "execution_count": 7,
     "metadata": {},
     "output_type": "execute_result"
    }
   ],
   "source": [
    "# Handling imbalanced data by oversampling method -- target Minority Class\n",
    "churn_yes.head(2)"
   ]
  },
  {
   "cell_type": "code",
   "execution_count": 8,
   "id": "0c6a29f1",
   "metadata": {},
   "outputs": [],
   "source": [
    "cust_churn['Churn']= cust_churn['Churn'].replace({'Yes':1 , 'No':0})\n",
    "# Replacing Yes with 1 and No as 0."
   ]
  },
  {
   "cell_type": "code",
   "execution_count": 9,
   "id": "e2c6a21a",
   "metadata": {},
   "outputs": [
    {
     "data": {
      "text/plain": [
       "Index(['customerID', 'gender', 'SeniorCitizen', 'Partner', 'Dependents',\n",
       "       'tenure', 'PhoneService', 'MultipleLines', 'InternetService',\n",
       "       'OnlineSecurity', 'OnlineBackup', 'DeviceProtection', 'TechSupport',\n",
       "       'StreamingTV', 'StreamingMovies', 'Contract', 'PaperlessBilling',\n",
       "       'PaymentMethod', 'MonthlyCharges', 'TotalCharges', 'Churn'],\n",
       "      dtype='object')"
      ]
     },
     "execution_count": 9,
     "metadata": {},
     "output_type": "execute_result"
    }
   ],
   "source": [
    "cust_churn.columns"
   ]
  },
  {
   "cell_type": "code",
   "execution_count": 10,
   "id": "bab2ea47",
   "metadata": {},
   "outputs": [
    {
     "data": {
      "text/plain": [
       "Male      3555\n",
       "Female    3488\n",
       "Name: gender, dtype: int64"
      ]
     },
     "execution_count": 10,
     "metadata": {},
     "output_type": "execute_result"
    }
   ],
   "source": [
    "cust_churn['gender'].value_counts()\n",
    "'''We have almost equal male and female'''"
   ]
  },
  {
   "cell_type": "code",
   "execution_count": 11,
   "id": "cabd7785",
   "metadata": {},
   "outputs": [
    {
     "data": {
      "text/plain": [
       "0    5901\n",
       "1    1142\n",
       "Name: SeniorCitizen, dtype: int64"
      ]
     },
     "execution_count": 11,
     "metadata": {},
     "output_type": "execute_result"
    }
   ],
   "source": [
    "cust_churn['SeniorCitizen'].value_counts()\n",
    "'''There are 1142 senior citizen'''"
   ]
  },
  {
   "cell_type": "code",
   "execution_count": 93,
   "id": "3e5ff581",
   "metadata": {},
   "outputs": [
    {
     "data": {
      "text/plain": [
       "No     3641\n",
       "Yes    3402\n",
       "Name: Partner, dtype: int64"
      ]
     },
     "execution_count": 93,
     "metadata": {},
     "output_type": "execute_result"
    }
   ],
   "source": [
    "cust_churn['Partner'].value_counts()\n",
    "'''Almost Equal'''"
   ]
  },
  {
   "cell_type": "code",
   "execution_count": 94,
   "id": "d6b179c9",
   "metadata": {},
   "outputs": [
    {
     "data": {
      "text/plain": [
       "No     4933\n",
       "Yes    2110\n",
       "Name: Dependents, dtype: int64"
      ]
     },
     "execution_count": 94,
     "metadata": {},
     "output_type": "execute_result"
    }
   ],
   "source": [
    "cust_churn['Dependents'].value_counts()\n",
    "'''Whether the customer has dependents or not (Yes, No)  '''"
   ]
  },
  {
   "cell_type": "code",
   "execution_count": 12,
   "id": "6b0e611c",
   "metadata": {},
   "outputs": [
    {
     "data": {
      "text/plain": [
       "1     613\n",
       "72    362\n",
       "2     238\n",
       "3     200\n",
       "4     176\n",
       "     ... \n",
       "28     57\n",
       "39     56\n",
       "44     51\n",
       "36     50\n",
       "0      11\n",
       "Name: tenure, Length: 73, dtype: int64"
      ]
     },
     "execution_count": 12,
     "metadata": {},
     "output_type": "execute_result"
    }
   ],
   "source": [
    "cust_churn['tenure'].value_counts()\n",
    "'''Number of months the` customer has stayed with the company'''"
   ]
  },
  {
   "cell_type": "code",
   "execution_count": null,
   "id": "b5069a1b",
   "metadata": {},
   "outputs": [],
   "source": [
    "cust_churn['PhoneService'].value_counts()\n",
    "'''Whether the customer has a phone service or not (Yes, No)'''"
   ]
  },
  {
   "cell_type": "code",
   "execution_count": 13,
   "id": "3c6d3367",
   "metadata": {},
   "outputs": [
    {
     "data": {
      "text/plain": [
       "No                  3390\n",
       "Yes                 2971\n",
       "No phone service     682\n",
       "Name: MultipleLines, dtype: int64"
      ]
     },
     "execution_count": 13,
     "metadata": {},
     "output_type": "execute_result"
    }
   ],
   "source": [
    "cust_churn['MultipleLines'].value_counts()\n",
    "''' Whether the customer has multiple lines or not (Yes, No, No phone service). Stakeholders can \n",
    "motivate them to take multiple lines by providing offers to the 3390 people repeatedly'''"
   ]
  },
  {
   "cell_type": "code",
   "execution_count": 14,
   "id": "e4c39c83",
   "metadata": {},
   "outputs": [
    {
     "data": {
      "text/plain": [
       "Fiber optic    3096\n",
       "DSL            2421\n",
       "No             1526\n",
       "Name: InternetService, dtype: int64"
      ]
     },
     "execution_count": 14,
     "metadata": {},
     "output_type": "execute_result"
    }
   ],
   "source": [
    "cust_churn['InternetService'].value_counts()\n",
    "'''Customer's internet service provider (DSL, Fiber optic, No)'''"
   ]
  },
  {
   "cell_type": "code",
   "execution_count": 15,
   "id": "4f98777d",
   "metadata": {},
   "outputs": [
    {
     "data": {
      "text/plain": [
       "No                     3498\n",
       "Yes                    2019\n",
       "No internet service    1526\n",
       "Name: OnlineSecurity, dtype: int64"
      ]
     },
     "execution_count": 15,
     "metadata": {},
     "output_type": "execute_result"
    }
   ],
   "source": [
    "cust_churn['OnlineSecurity'].value_counts()\n",
    "'''Whether the customer has online security or not (Yes, No, No internet service)'''"
   ]
  },
  {
   "cell_type": "code",
   "execution_count": 17,
   "id": "ddaadc73",
   "metadata": {},
   "outputs": [
    {
     "data": {
      "text/plain": [
       "No                     3088\n",
       "Yes                    2429\n",
       "No internet service    1526\n",
       "Name: OnlineBackup, dtype: int64"
      ]
     },
     "execution_count": 17,
     "metadata": {},
     "output_type": "execute_result"
    }
   ],
   "source": [
    "cust_churn['OnlineBackup'].value_counts()\n",
    "'''Whether the customer has online backup or not (Yes, No, No internet service)'''"
   ]
  },
  {
   "cell_type": "code",
   "execution_count": 18,
   "id": "aa9dc3d7",
   "metadata": {},
   "outputs": [
    {
     "data": {
      "text/plain": [
       "No                     3095\n",
       "Yes                    2422\n",
       "No internet service    1526\n",
       "Name: DeviceProtection, dtype: int64"
      ]
     },
     "execution_count": 18,
     "metadata": {},
     "output_type": "execute_result"
    }
   ],
   "source": [
    "cust_churn['DeviceProtection'].value_counts()\n",
    "'''Whether the customer has device protection or not (Yes, No, No internet service)'''"
   ]
  },
  {
   "cell_type": "code",
   "execution_count": 19,
   "id": "6e2f0169",
   "metadata": {},
   "outputs": [
    {
     "data": {
      "text/plain": [
       "No                     3473\n",
       "Yes                    2044\n",
       "No internet service    1526\n",
       "Name: TechSupport, dtype: int64"
      ]
     },
     "execution_count": 19,
     "metadata": {},
     "output_type": "execute_result"
    }
   ],
   "source": [
    "cust_churn['TechSupport'].value_counts()\n",
    "'''Whether the customer has taken tech support or not (Yes, No, No internet service) '''"
   ]
  },
  {
   "cell_type": "code",
   "execution_count": 20,
   "id": "559de994",
   "metadata": {},
   "outputs": [
    {
     "data": {
      "text/plain": [
       "No                     2810\n",
       "Yes                    2707\n",
       "No internet service    1526\n",
       "Name: StreamingTV, dtype: int64"
      ]
     },
     "execution_count": 20,
     "metadata": {},
     "output_type": "execute_result"
    }
   ],
   "source": [
    "cust_churn['StreamingTV'].value_counts()\n",
    "'''Whether the customer has streaming TV or not (Yes, No, No internet service) '''"
   ]
  },
  {
   "cell_type": "code",
   "execution_count": 21,
   "id": "46edb60c",
   "metadata": {},
   "outputs": [
    {
     "data": {
      "text/plain": [
       "No                     2785\n",
       "Yes                    2732\n",
       "No internet service    1526\n",
       "Name: StreamingMovies, dtype: int64"
      ]
     },
     "execution_count": 21,
     "metadata": {},
     "output_type": "execute_result"
    }
   ],
   "source": [
    "cust_churn['StreamingMovies'].value_counts()\n",
    "'''Whether the customer has streaming movies or not (Yes, No, No internet service)'''"
   ]
  },
  {
   "cell_type": "code",
   "execution_count": 22,
   "id": "47fb962f",
   "metadata": {},
   "outputs": [
    {
     "data": {
      "text/plain": [
       "Month-to-month    3875\n",
       "Two year          1695\n",
       "One year          1473\n",
       "Name: Contract, dtype: int64"
      ]
     },
     "execution_count": 22,
     "metadata": {},
     "output_type": "execute_result"
    }
   ],
   "source": [
    "cust_churn['Contract'].value_counts()\n",
    "'''The contract term of the customer (Month-to-month, One year, Two year) '''"
   ]
  },
  {
   "cell_type": "code",
   "execution_count": 23,
   "id": "1ad06584",
   "metadata": {},
   "outputs": [
    {
     "data": {
      "text/plain": [
       "Yes    4171\n",
       "No     2872\n",
       "Name: PaperlessBilling, dtype: int64"
      ]
     },
     "execution_count": 23,
     "metadata": {},
     "output_type": "execute_result"
    }
   ],
   "source": [
    "cust_churn['PaperlessBilling'].value_counts()\n",
    "'''Whether the customer has paperless billing or not (Yes, No) . Stakeholders can emphasis\n",
    "to go paperless'''"
   ]
  },
  {
   "cell_type": "code",
   "execution_count": 24,
   "id": "f47e4841",
   "metadata": {},
   "outputs": [
    {
     "data": {
      "text/plain": [
       "Electronic check             2365\n",
       "Mailed check                 1612\n",
       "Bank transfer (automatic)    1544\n",
       "Credit card (automatic)      1522\n",
       "Name: PaymentMethod, dtype: int64"
      ]
     },
     "execution_count": 24,
     "metadata": {},
     "output_type": "execute_result"
    }
   ],
   "source": [
    "cust_churn['PaymentMethod'].value_counts()\n",
    "#'''We have to motivate them so that they use automatic method if possible the stakeholders\n",
    "# can impose discount on the automatic payment method as other methods can lead to delay \n",
    "# payments through messaging or mailing'''"
   ]
  },
  {
   "cell_type": "code",
   "execution_count": 25,
   "id": "3faca736",
   "metadata": {},
   "outputs": [
    {
     "data": {
      "text/plain": [
       "20.05     61\n",
       "19.85     45\n",
       "19.95     44\n",
       "19.90     44\n",
       "20.00     43\n",
       "          ..\n",
       "23.65      1\n",
       "114.70     1\n",
       "43.65      1\n",
       "87.80      1\n",
       "78.70      1\n",
       "Name: MonthlyCharges, Length: 1585, dtype: int64"
      ]
     },
     "execution_count": 25,
     "metadata": {},
     "output_type": "execute_result"
    }
   ],
   "source": [
    "cust_churn['MonthlyCharges'].value_counts()\n",
    "# '''There is a monthly certain amount to keep the connection active which should not be very \n",
    "# high otherwise it can exceed customer's budget and cannot be very low '''"
   ]
  },
  {
   "cell_type": "code",
   "execution_count": 26,
   "id": "ad259f56",
   "metadata": {},
   "outputs": [
    {
     "data": {
      "text/plain": [
       "          11\n",
       "20.2      11\n",
       "19.75      9\n",
       "20.05      8\n",
       "19.9       8\n",
       "          ..\n",
       "6849.4     1\n",
       "692.35     1\n",
       "130.15     1\n",
       "3211.9     1\n",
       "6844.5     1\n",
       "Name: TotalCharges, Length: 6531, dtype: int64"
      ]
     },
     "execution_count": 26,
     "metadata": {},
     "output_type": "execute_result"
    }
   ],
   "source": [
    "cust_churn['TotalCharges'].value_counts()"
   ]
  },
  {
   "cell_type": "code",
   "execution_count": 27,
   "id": "a285dcc3",
   "metadata": {},
   "outputs": [
    {
     "name": "stdout",
     "output_type": "stream",
     "text": [
      "<class 'pandas.core.frame.DataFrame'>\n",
      "RangeIndex: 7043 entries, 0 to 7042\n",
      "Data columns (total 21 columns):\n",
      " #   Column            Non-Null Count  Dtype  \n",
      "---  ------            --------------  -----  \n",
      " 0   customerID        7043 non-null   object \n",
      " 1   gender            7043 non-null   object \n",
      " 2   SeniorCitizen     7043 non-null   int64  \n",
      " 3   Partner           7043 non-null   object \n",
      " 4   Dependents        7043 non-null   object \n",
      " 5   tenure            7043 non-null   int64  \n",
      " 6   PhoneService      7043 non-null   object \n",
      " 7   MultipleLines     7043 non-null   object \n",
      " 8   InternetService   7043 non-null   object \n",
      " 9   OnlineSecurity    7043 non-null   object \n",
      " 10  OnlineBackup      7043 non-null   object \n",
      " 11  DeviceProtection  7043 non-null   object \n",
      " 12  TechSupport       7043 non-null   object \n",
      " 13  StreamingTV       7043 non-null   object \n",
      " 14  StreamingMovies   7043 non-null   object \n",
      " 15  Contract          7043 non-null   object \n",
      " 16  PaperlessBilling  7043 non-null   object \n",
      " 17  PaymentMethod     7043 non-null   object \n",
      " 18  MonthlyCharges    7043 non-null   float64\n",
      " 19  TotalCharges      7043 non-null   object \n",
      " 20  Churn             7043 non-null   int64  \n",
      "dtypes: float64(1), int64(3), object(17)\n",
      "memory usage: 1.1+ MB\n"
     ]
    }
   ],
   "source": [
    "cust_churn.info()"
   ]
  },
  {
   "cell_type": "code",
   "execution_count": 28,
   "id": "0af637d8",
   "metadata": {},
   "outputs": [
    {
     "name": "stdout",
     "output_type": "stream",
     "text": [
      "************************* customerID *************************\n",
      "\n",
      "{'1730-VFMWO', '3181-VTHOE', '8241-JUIQO', '7311-MQJCH', '1846-XWOQN', '1636-NTNCO', '8039-EQPIM', '1217-VASWC', '1541-ETJZO', '6674-KVJHG', '0023-HGHWL', '0305-SQECB', '3422-WJOYD', '7409-KIUTL', '5377-NDTOU', '8039-ACLPL', '2485-ITVKB', '3144-KMTWZ', '2486-WYVVE', '4250-WAROZ', '9057-MSWCO', '9137-NOQKA', '6168-WFVVF', '5018-HEKFO', '6908-VVYHM', '3934-HXCFZ', '5081-NWSUP', '1501-SGHBW', '0505-SPOOW', '3407-JMJQQ', '4846-WHAFZ', '8012-SOUDQ', '8981-FJGLA', '0621-JFHOL', '2501-XWWTZ', '6681-ZSEXG', '4307-KTUMW', '6728-VOIFY', '7041-TXQJH', '8809-RIHDD', '7408-OFWXJ', '4220-TINQT', '2897-DOVND', '3363-DTIVD', '0699-NDKJM', '7297-DVYGA', '5266-PFRQK', '8305-VHZBZ', '7130-CTCUS', '8908-SLFCJ', '7336-RLLRH', '1833-VGRUM', '4694-PHWFW', '4332-MUOEZ', '3057-VJJQE', '3795-CAWEX', '1952-DVVSW', '4236-XPXAV', '9152-AMKAK', '7952-OBOYL', '1536-HBSWP', '6447-EGDIV', '8249-THVEC', '8143-ETQTI', '4947-DSMXK', '5960-MVTUK', '5975-BAICR', '6286-SUUWT', '5998-DZLYR', '7182-OVLBJ', '8083-YTZES', '2040-XBAVJ', '9167-APMXZ', '8267-KFGYD', '0311-UNPFF', '2082-CEFLT', '5666-CYCYZ', '2639-UGMAZ', '5449-FIBXJ', '9168-INPSZ', '6234-RAAPL', '8098-LLAZX', '2799-ARNLO', '6339-RZCBJ', '5935-FCCNB', '0378-XSZPU', '3336-JORSO', '0504-HHAPI', '7771-CFQRQ', '9500-IWPXQ', '8467-WYNSR', '6000-APYLU', '5916-QEWPT', '2506-CLAKW', '0812-WUPTB', '8421-WZOOW', '7501-IWUNG', '1481-ZUWZA', '7531-GQHME', '7305-ZWMAJ', '8049-WJCLQ', '0947-IDHRQ', '2920-RNCEZ', '4895-TMWIR', '6305-YLBMM', '1212-GLHMD', '5837-LXSDN', '8543-MSDMF', '5862-BRIXZ', '5294-IMHHT', '6854-EXGSF', '8268-YDIXR', '7762-ONLJY', '3249-VHRIP', '9924-JPRMC', '0471-LVHGK', '4503-BDXBD', '4821-WQOYN', '3021-VLNRJ', '8295-FHIVV', '6175-IRFIT', '5519-YLDGW', '0727-BMPLR', '3627-FCRDW', '5448-VWNAM', '8592-PLTMQ', '7206-GZCDC', '9367-OIUXP', '6701-YVNQG', '2685-SREOM', '1626-ERCMM', '8226-BXGES', '4547-LYTDD', '5863-OOKCL', '3167-SNQPL', '5095-ETBRJ', '6288-CHQJB', '5481-NTDOH', '5002-GCQFH', '8738-JOKAR', '3318-NMQXL', '8065-YKXKD', '2025-JKFWI', '4054-CUMIA', '6615-NGGZJ', '6338-AVWCY', '5899-OUVKV', '9574-RKJIF', '4749-OJKQU', '0709-TVGUR', '0017-IUDMW', '0244-LGNFY', '2254-DLXRI', '3125-RAHBV', '4952-YSOGZ', '0186-CAERR', '5130-YPIRV', '4439-JMPMT', '8207-DMRVL', '2150-UWTFY', '3884-UEBXB', '4697-LUPSU', '7301-ABVAD', '5093-FEGLU', '5956-VKDTT', '3058-HJCUY', '1951-IEYXM', '2277-BKJKN', '0277-ORXQS', '9750-BOOHV', '8763-KIAFH', '4338-EYCER', '5089-IFSDP', '8246-SHFGA', '6339-DKLMK', '7056-IMHCC', '8485-GJCDN', '6860-YRJZP', '5226-NOZFC', '7767-UXAGJ', '5914-XRFQB', '6261-LHRTG', '5049-MUBWG', '1179-INLAT', '1709-EJDOX', '5302-BDJNT', '1052-QJIBV', '1084-MNSMJ', '5569-KGJHX', '3470-BTGQO', '3462-BJQQA', '3272-VUHPV', '1029-QFBEN', '4282-MSACW', '0488-GSLFR', '0237-YFUTL', '1877-HKBQX', '4726-DLWQN', '9762-YAQAA', '9919-KNPOO', '0020-INWCK', '1455-ESIQH', '2135-RXIHG', '0093-XWZFY', '2737-YNGYW', '8690-ZVLCL', '4690-LLKUA', '1498-NHTLT', '8898-KASCD', '3474-BAFSJ', '1768-HNVGJ', '5325-UWTWJ', '2096-XOTMO', '3932-CMDTD', '2985-FMWYF', '4323-OHFOW', '5277-ZLOOR', '7714-YXSMB', '3131-NWVFJ', '9805-FILKB', '5003-XZWWO', '5663-QBGIS', '2746-DIJLO', '6769-DYBQN', '8990-ZXLSU', '8329-GWVPJ', '1635-FJFCC', '7470-MCQTK', '8800-JOOCF', '5382-SOYZL', '6022-UGGSO', '8111-BKVDS', '3709-OIJEA', '3106-ULWFW', '9548-ZMVTX', '1353-GHZOS', '2432-TFSMK', '4922-CVPDX', '0096-BXERS', '7270-BDIOA', '3128-YOVTD', '0308-IVGOK', '0827-ITJPH', '5380-WJKOV', '4188-FRABG', '5472-CVMDX', '4282-ACRXS', '7472-EQOAV', '2296-DKZFP', '4522-XRWWI', '2017-CCBLH', '2587-EKXTS', '8242-SOQUO', '6813-GZQCG', '6729-GDNGC', '6120-RJKLU', '0897-FEGMU', '2592-HODOV', '0916-KNFAJ', '8098-TDCBU', '6365-MTGZX', '0587-DMGBH', '4472-LVYGI', '3604-WLABM', '4892-VLANZ', '7993-PYKOF', '3030-YZADT', '4500-HKANN', '6469-MRVET', '9764-REAFF', '0235-KGSLC', '6469-QJKZW', '6519-ZHPXP', '4881-GQJTW', '8805-JNRAZ', '9499-XPZXM', '5647-URDKA', '6317-YPKDH', '6635-MYYYZ', '1035-IPQPU', '3750-RNQKR', '2100-BDNSN', '3733-UOCWF', '4573-JKNAE', '3865-ZFZIB', '4670-TABXH', '6082-OQFBA', '2955-PSXOE', '1925-LFCZZ', '2320-TZRRH', '8642-GVWRF', '2731-GJRDG', '2725-KXXWT', '6522-YRBXD', '3722-WPXTK', '2968-SSGAA', '2351-RRBUE', '6993-YGFJV', '7274-RTAPZ', '4763-PGDPO', '7614-QVWQL', '8624-GIOUT', '4419-UJMUS', '5572-ZDXHY', '3657-COGMW', '8199-ZLLSA', '0064-YIJGF', '1686-STUHN', '1293-BSEUN', '9069-LGEUL', '8474-UMLNT', '3594-KADLU', '4581-LNWUM', '1498-DQNRX', '7892-QVYKW', '9862-KJTYK', '5043-TRZWM', '1265-HVPZB', '9711-FJTBX', '6023-YEBUP', '9512-PHSMG', '2812-REYAT', '9565-DJPIB', '7274-CGTOD', '5961-VUSRV', '2061-VVFST', '0687-ZVTHB', '3707-GNWHM', '9746-UGFAC', '4195-PNGZS', '8181-YHCMF', '5671-RQRLP', '4654-GGUII', '3370-HXOPH', '5153-RTHKF', '3547-LQRIK', '4826-TZEVA', '0269-XFESX', '0420-TXVSG', '5091-HFAZW', '0679-TDGAK', '6380-ARCEH', '8883-GRDWQ', '8245-UMPYT', '3197-ARFOY', '6353-BRMMA', '9279-CJEOJ', '0266-GMEAO', '7839-QRKXN', '6583-QGCSI', '3196-NVXLZ', '9606-PBKBQ', '5982-FPVQN', '1685-VAYJF', '0121-SNYRK', '8614-VGMMV', '6121-VZNQB', '2359-KMGLI', '4829-AUOAX', '7926-IJOOU', '5696-JVVQY', '8191-XWSZG', '2931-VUVJN', '9308-ANMVE', '9018-PCIOK', '6741-EGCBI', '1575-KRZZE', '5832-TRLPB', '8722-PRFDV', '6599-SFQVE', '2274-XUATA', '8473-VUVJN', '6994-KERXL', '3069-SSVSN', '7410-YTJIK', '0013-MHZWF', '9178-JHUVJ', '6217-KDYWC', '2108-YKQTY', '3948-XHGNA', '5197-YPYBZ', '9619-GSATL', '1195-OIYEJ', '4908-XAXAY', '9802-CAQUT', '2272-WUSPA', '2957-JIRMN', '8169-SAEJD', '9614-RMGHA', '8875-AKBYH', '1689-MRZQR', '9127-QRZMH', '3521-HTQTV', '0829-XXPLX', '9801-GDWGV', '2027-DNKIV', '9944-AEXBM', '7869-ZYDST', '8221-HVAYI', '3882-IYOIJ', '8727-JQFHV', '7198-GLXTC', '2710-WYVXG', '9492-TOKRI', '3070-DVEYC', '8406-LNMHF', '4163-HFTUK', '0419-YAAPX', '6870-ECSHE', '6559-ILWKJ', '6670-MFRPK', '6108-OQZDQ', '9339-FIIJL', '2521-NPUZR', '1941-HOSAM', '8213-TAZPM', '0643-OKLRP', '6114-TCFID', '5966-EMAZU', '6475-VHUIZ', '2792-LSHWX', '8920-NAVAY', '7216-EWTRS', '4183-WCSEP', '6806-YDEUL', '4986-MXSFP', '2013-SGDXK', '9415-DPEWS', '9507-HSMMZ', '7781-HVGMK', '1347-KTTTA', '3503-TYDAY', '2550-AEVRU', '3812-LRZIR', '2362-IBOOY', '8755-OGKNA', '3976-NLDEZ', '5180-UCIIQ', '6896-SRVYQ', '4123-DVHPH', '3488-PGMQJ', '6537-QLGEX', '4291-SHSBH', '6242-SGYTS', '6797-LNAQX', '9469-WEJBT', '2576-HXMPA', '8200-LGKSR', '0386-CWRGM', '7623-HKYRK', '0307-BCOPK', '1779-PWPMG', '4510-PYUSH', '6513-EECDB', '9060-HJJRW', '7379-FNIUJ', '8399-YNDCH', '4342-HENTK', '9396-ZSFLL', '6691-CCIHA', '9087-EYCPR', '2433-KMEAS', '9272-LSVYH', '8734-FNWVH', '7078-NVFAM', '1925-GMVBW', '0778-NELLA', '3518-PZXZQ', '5989-PGKJB', '3572-UOLYZ', '9194-GFVOI', '6986-IJDHX', '3794-NFNCH', '2325-ZUSFD', '6496-JDSSB', '8766-PAFNE', '2397-BRLOM', '7868-BGSZA', '3162-KKZXO', '5161-XEUVX', '1156-ZFYDO', '1017-FBQMM', '6416-JNVRK', '2040-VZIKE', '6034-YMTOB', '5151-HQRDG', '4566-QVRRW', '0917-EZOLA', '7764-BDPEE', '0253-ZTEOB', '2925-VDZHY', '3550-SAHFP', '3904-UKFRE', '0388-EOPEX', '5178-LMXOP', '4807-IZYOZ', '3507-GASNP', '4256-ZWTZI', '2371-JUNGC', '5197-PYEPU', '9481-SFCQY', '6413-XKKPU', '9943-VSZUV', '2856-NNASM', '9837-FWLCH', '7401-JIXNM', '3519-ZKXGG', '9351-HXDMR', '3164-AALRN', '4822-YCXMX', '0247-SLUJI', '6198-PNNSZ', '9926-PJHDQ', '2866-IKBTM', '9174-FKWZE', '7315-WYOAW', '7168-HDQHG', '7184-LRUUR', '3346-BRMIS', '7426-GSWPO', '0872-CASZJ', '9362-MWODR', '0599-XNYDO', '0376-YMCJC', '2387-KDZQY', '2162-FRZAA', '0318-QUUOB', '6857-TKDJV', '1960-UOTYM', '1583-IHQZE', '6377-KSLXC', '4238-HFHSN', '6904-JLBGY', '4774-HHGGS', '6772-WFQRD', '3486-HOOGQ', '2774-LVQUS', '2672-HUYVI', '2984-TBYKU', '5884-FBCTL', '5804-HYIEZ', '4213-HKBJO', '3177-LASXD', '4482-FTFFX', '6173-ITPWD', '7660-HDPJV', '9117-SHLZX', '0491-KAPQG', '2378-YIZKA', '2391-IPLOP', '4291-HYEBC', '6917-IAYHD', '6728-CZFEI', '2208-UGTGR', '2538-OIMXF', '4554-YGZIH', '3549-ZTMNH', '4012-ZTHBR', '0946-FKYTX', '3458-IDMFK', '2144-BFDSO', '9576-ANLXO', '2380-DAMQP', '7706-DZNKK', '6265-FRMTQ', '7721-JXEAW', '2359-KLTEK', '8637-XJIVR', '7134-MJPDY', '2001-EWBQU', '7047-YXDMZ', '3815-SLMEF', '4627-MIHJH', '4013-TLDHQ', '0930-EHUZA', '4378-MYPGO', '3055-MJDSB', '8337-MSSXB', '7176-WRTNX', '2924-KHUVI', '2122-SZZZD', '6211-WWLTF', '3754-DXMRT', '5820-PTRYM', '1696-HXOWK', '8565-WUXZU', '4274-DRSQT', '5170-PTRKA', '3428-MMGUB', '4011-ARPHK', '3831-YCPUO', '1936-CZAKF', '1471-GIQKQ', '2123-VSCOT', '1522-VVDMG', '0942-KOWSM', '6996-KNSML', '3795-GWTRD', '2697-NQBPF', '5583-EJXRD', '8838-GPHZP', '7739-LAXOG', '4395-PZMSN', '9773-PEQBZ', '2665-NPTGL', '2542-HYGIQ', '4231-LZUYM', '4396-KLSEH', '7143-BQIBA', '1599-EAHXY', '7641-TQFHN', '3785-NRHYR', '2737-WFVYW', '1066-JKSGK', '0601-WZHJF', '2037-XJFUP', '9985-MWVIX', '7663-YJHSN', '3442-ZHHCC', '6825-UYPFK', '9286-BHDQG', '5696-EXCYS', '5445-PZWGX', '3423-HHXAO', '5947-SGKCL', '0002-ORFBO', '7460-ITWWP', '8029-XYPWT', '2898-MRKPI', '3329-WDIOK', '1821-BUCWY', '5923-GXUOC', '7629-WIXZF', '6518-LGAOV', '7673-BQGKU', '6999-CHVCF', '6127-IYJOZ', '8903-XEBGX', '3129-AAQOU', '0810-DHDBD', '5228-EXCET', '2676-OXPPQ', '5671-UUNXD', '8138-EALND', '1121-QSIVB', '3258-ZKPAI', '9039-RBEEE', '4918-FYJNT', '9891-NQDBD', '0254-KCJGT', '2954-PIBKO', '5693-PIPCS', '1228-ZLNBX', '5208-HFSBT', '6135-OZQVA', '4808-YNLEU', '7349-ALMUX', '6680-WKXRZ', '9801-NOSHQ', '8205-MQUGY', '6030-REHUX', '6980-CDGFC', '7890-VYYWG', '7074-IEVOJ', '8606-CIQUL', '8338-QIUNR', '4633-MKHYU', '5186-EJEGL', '1960-UYCNN', '4003-FUSHP', '4659-NZRUF', '3084-DOWLE', '1809-DMJHQ', '0076-LVEPS', '4468-KAZHE', '8204-YJCLA', '1852-XEMDW', '3498-LZGQZ', '2137-DQMEV', '1084-UQCHV', '2332-EFBJY', '8544-JNBOX', '0480-BIXDE', '7101-HRBLJ', '6837-BJYDQ', '4424-TKOPW', '3359-DSRKA', '2931-FSOHN', '6384-VMJHP', '7779-LGOVN', '3585-YNADK', '7014-ZZXAW', '5656-MJEFC', '7721-DVEKZ', '3987-KQDDU', '5229-PRWKT', '5456-ITGIC', '1075-BGWOH', '2972-YDYUW', '2649-HWLYB', '6695-FRVEC', '8378-LKJAF', '1098-KFQEC', '1061-PNTHC', '9965-YOKZB', '5630-IXDXV', '7880-XSOJX', '1099-BTKWT', '9708-KFDBY', '7794-JASDG', '0704-VCUMB', '5520-FVEWJ', '3811-VBYBZ', '5955-EPOAZ', '9054-FOWNV', '2796-NNUFI', '8901-HJXTF', '4565-EVZMJ', '7831-QGOXH', '5376-DEQCP', '5158-RIVOP', '0301-FIDRB', '3647-GMGDH', '6075-SLNIL', '5364-XYIRR', '4779-ZGICK', '6010-DDPPW', '0112-QAWRZ', '4971-PUYQO', '9867-JCZSP', '6968-MHOMU', '3669-WHAFY', '9552-TGUZV', '6185-TASNN', '2055-BFOCC', '1496-GGSUK', '1623-NLDOT', '2821-WARNZ', '0082-OQIQY', '2969-QWUBZ', '4106-HADHQ', '3914-FDRHP', '1472-TNCWL', '5312-TSZVC', '4737-AQCPU', '3640-PHQXK', '3886-CERTZ', '0423-UDIJQ', '1299-AURJA', '5998-VVEJY', '3387-PLKUI', '5498-TXHLF', '7813-TKCVO', '6899-PPEEA', '2669-OIDSD', '7595-EUIVN', '4184-VODJZ', '6166-ILMNY', '5173-WXOQV', '7369-TRPFD', '2903-YYTBW', '5602-BVFMK', '0562-FGDCR', '5843-TTHGI', '6821-BUXUX', '7074-STDCN', '7951-VRDVK', '8194-PEEBY', '5642-MHDQT', '9031-ZVQPT', '7055-HNEOJ', '6661-EIPZC', '8784-CGILN', '0224-RLWWD', '1871-MOWRM', '2294-SALNE', '7529-ZDFXI', '0048-PIHNL', '0822-GAVAP', '9475-NNDGC', '9600-UDOPK', '7787-BNTZM', '8785-CJSHH', '1582-RAFML', '1257-SXUXQ', '0970-QXPXW', '5681-LLOEI', '2453-SAFNS', '8680-CGLTP', '6116-RFVHN', '7716-YTYHG', '2075-PUEPR', '5364-EVNIB', '4429-WYGFR', '6217-TOWGS', '1015-OWJKI', '5546-BYZSM', '5204-HMGYF', '1307-ATKGB', '1028-FFNJK', '9000-PLFUZ', '2205-LPVGL', '6158-DWPZT', '9593-CVZKR', '7037-MTYVW', '6481-LXPWL', '0946-CLJTI', '9074-KGVOX', '5370-IIVVL', '1600-DILPE', '3771-PZOBW', '3597-MVHJT', '5386-THSLQ', '4622-YNKIJ', '6322-HRPFA', '7351-KYHQH', '3282-ZISZV', '3063-QFSZL', '9825-YCXWZ', '6727-IOTLZ', '3315-IKYZQ', '4611-ANLQC', '7552-KEYGT', '4648-YPBTM', '0761-AETCS', '6352-TWCAU', '3247-MHJKM', '1707-HABPF', '5063-IUOKK', '4993-JCRGJ', '4612-THJBS', '4501-UYKBC', '5156-UMKOW', '1427-VERSM', '3022-BEXHZ', '0224-HJAPT', '1041-RXHRA', '9524-EGPJC', '2894-QOJRX', '3978-YNKDD', '6693-FRIRW', '7207-RMRDB', '4178-EGMON', '7153-OANIO', '8257-RZAHR', '1564-HJUVY', '0813-TAXXS', '6772-KSATR', '5216-WASFJ', '6870-ZWMNX', '9979-RGMZT', '2805-EDJPQ', '6047-YHPVI', '5269-NRGDP', '8204-TIFGJ', '6575-SUVOI', '0056-EPFBG', '8071-SBTRN', '9885-AIBVB', '5781-RFZRP', '8714-CTZJW', '5149-TGWDZ', '2911-WDXMV', '2474-BRUCM', '1576-PFZIW', '9364-YKUVW', '7774-OJSXI', '3255-GRXMG', '0644-OQMDK', '1571-SAVHK', '2812-ENYMO', '2074-GKOWZ', '1853-ARAAQ', '7636-PEPNS', '1089-HDMKP', '8728-SKJLR', '4193-IBKSW', '0756-MPZRL', '7341-LXCAF', '5701-ZIKJE', '6581-NQCBA', '5055-BRMNE', '4439-YRNVD', '1090-PYKCI', '8118-TJAFG', '5965-GGPRW', '4623-ZKHLY', '8949-JTMAY', '3737-GCSPV', '2911-IJORQ', '4800-CZMPC', '2107-FBPTK', '2592-YKDIF', '6614-VBEGU', '6297-NOOPG', '5206-XZZQI', '9540-JYROE', '5787-KXGIY', '7854-FOKSF', '5997-OPVFA', '3259-FDWOY', '5857-XRECV', '1666-JXLKU', '4086-ATNFV', '9052-DHNKM', '5382-TEMLV', '6776-TLWOI', '4077-CROMM', '7649-SIJJF', '0856-NAOES', '1803-BGNBD', '5655-JSMZM', '6614-YOLAC', '7188-CBBBA', '1266-NZYUI', '3692-JHONH', '3365-SAIGS', '2709-UQGNP', '4983-CLMLV', '8015-IHCGW', '7439-DKZTW', '9239-GZHZE', '5380-XPJNZ', '2926-JEJJC', '0842-IWYCP', '8024-XNAFQ', '2408-WITXK', '9480-BQJEI', '3420-ZDBMA', '1241-EZFMJ', '9778-OGKQZ', '1298-PHBTI', '4962-CHQPW', '6207-WIOLX', '4877-EVATK', '0496-AHOOK', '4191-XOVOM', '9576-SYUHJ', '9391-EOYLI', '7783-YKGDV', '0248-PGHBZ', '0330-BGYZE', '1098-TDVUQ', '2237-ZFSMY', '5124-EOGYE', '3223-DWFIO', '2692-AQCPF', '5815-HGGHV', '4119-ZYPZY', '4825-FUREZ', '1867-BDVFH', '4283-FUTGF', '3374-PZLXD', '1904-WAJAA', '3132-TVFDZ', '1530-ZTDOZ', '1866-ZSLJM', '2262-SLNVK', '0924-BJCRC', '8591-NXRCV', '6341-AEVKX', '8084-OIVBS', '2691-NZETQ', '5375-XLDOF', '0455-ENTCR', '2232-DMLXU', '4039-PIMHX', '2081-KJSQF', '6818-DJXAA', '0201-MIBOL', '4797-MIWUM', '1360-JYXKQ', '8582-KRHPJ', '2612-PHGOX', '1656-DRSMG', '1548-ARAGG', '0324-BRPCJ', '0818-OCPZO', '2235-EZAIK', '6963-KQYQB', '7861-UVUFT', '2410-CIYFZ', '5236-XMZJY', '4919-IKATY', '8603-IJWDN', '0909-SELIE', '3473-XIIIT', '5996-DAOQL', '5955-ERIHD', '0928-XUTSN', '0104-PPXDV', '6035-BXTTY', '3842-IYKUE', '6849-OYAMU', '5939-SXWHM', '6961-MJKBO', '7874-ECPQJ', '0577-WHMEV', '1970-KKFWL', '5751-USDBL', '4446-BZKHU', '7658-UYUQS', '3179-GBRWV', '2026-TGDHM', '0909-SDHNU', '4946-EDSEW', '8042-JVNFH', '0774-IFUVM', '3308-MHOOC', '5155-AZQPB', '4818-DRBQT', '6242-MBHPK', '9835-ZIITK', '2144-ESWKO', '1488-SYSFC', '9974-JFBHQ', '6008-NAIXK', '1907-UBQFC', '3740-RLMVT', '5071-FBJFS', '1926-QUZNN', '1794-SWWKL', '5338-YHWYT', '0907-HQNTS', '8752-GHJFU', '1676-MQAOA', '3655-SNQYZ', '4228-ZGYUW', '8174-LNWMW', '4817-KEQSP', '9251-AWQGT', '6516-NKQBO', '5934-RMPOV', '4718-WXBGI', '6647-ZEDXT', '5215-LNLDJ', '6791-YBNAK', '4576-CSAJH', '6838-HVLXG', '3283-WCWXT', '5433-KYGHE', '8224-IVVPA', '0439-IFYUN', '0824-VWDPO', '0749-IRGQE', '7176-WIONM', '7608-RGIRO', '5896-NPFWW', '4190-MFLUW', '6061-PQHMK', '0347-UBKUZ', '4806-KEXQR', '9730-DRTMJ', '0988-AADSA', '1474-JUWSM', '5143-WMWOG', '4822-NGOCH', '1982-FEBTD', '3612-YUNGG', '4598-XLKNJ', '9625-QSTYE', '0794-YVSGE', '5445-UTODQ', '2748-MYRVK', '4884-TVUQF', '9208-OLGAQ', '9743-DQKQW', '3466-RITXD', '3521-SYVOR', '9114-VEPUF', '0634-SZPQA', '7196-LIWRH', '7054-LGEQW', '0206-TBWLC', '3413-BMNZE', '4020-KIUDI', '4910-AQFFX', '1565-RHDJD', '9720-JJJOR', '2034-CGRHZ', '0487-VVUVK', '3313-QKNKB', '7284-ZZLOH', '9947-OTFQU', '6128-AQBMT', '1898-JSNDC', '2789-CZANW', '5753-QQWPW', '1236-WFCDV', '6981-TDRFT', '8361-LTMKD', '4360-QRAVE', '9508-ILZDG', '3717-OEAUQ', '9541-ZPSEA', '0178-SZBHO', '3776-EKTKM', '3923-CSIHK', '1162-ECVII', '6900-PXRMS', '0869-PAPRP', '9129-UXERG', '4079-WWQQQ', '5673-FSSMF', '3234-VKACU', '4121-AGSIN', '8966-KZXXA', '4186-ZBUEW', '1356-MKYSK', '8905-IAZPF', '8486-AYEQH', '4955-VCWBI', '1564-NTYXF', '6789-HJBWG', '1867-TJHTS', '0257-ZESQC', '2252-JHJGE', '8149-AIQCG', '3566-VVORZ', '3317-HRTNN', '3572-UUHRS', '5271-DBYSJ', '2694-CIUMO', '0459-SPZHJ', '6124-ACRHJ', '4393-OBCRR', '5627-TVBPP', '1518-OMDIK', '0851-DFJKB', '5044-LRQAQ', '3468-DRVQJ', '5468-BPMMO', '7389-KBFIT', '8125-QPFJD', '1956-YIFGE', '3982-DQLUS', '7077-XJMET', '5760-WRAHC', '3345-JHUEO', '0621-TSSMU', '9766-HGEDE', '2609-IAICY', '6654-QGBZZ', '7028-DVOIQ', '0886-QGENL', '6598-KELSS', '3878-AVSOQ', '8734-DKSTZ', '7883-ROJOC', '2826-UWHIS', '4238-JSSWH', '1574-DYCWE', '5989-AXPUC', '8313-AFGBW', '0596-BQCEQ', '1226-JZNKR', '5159-YFPKQ', '7797-EJMDP', '5457-COLHT', '2439-LYPMQ', '3262-EIDHV', '2959-FENLU', '4304-TSPVK', '4299-SIMNS', '7605-SNLQG', '9170-ARBTB', '3541-ZNUHK', '3836-FZSDJ', '9770-LXDBK', '0840-DFEZH', '5281-BUZGT', '5016-LIPDW', '2018-PZKMU', '6890-PFRQX', '9822-BIIGN', '0572-ZJKLT', '7503-MIOGA', '8670-MEFCP', '5498-IBWPI', '4578-PHJYZ', '1703-MGIAB', '2824-DXNKN', '4632-PAOYU', '6172-FECYY', '4310-KEDTB', '1428-GTBJJ', '7343-EOBEU', '1921-KYSAY', '6551-VLJMV', '2454-RPBRZ', '1849-RJYIG', '0637-KVDLV', '3677-IYRBF', '8713-IGZSO', '3496-LFSZU', '7245-NIIWQ', '4712-UYOOI', '2834-JKOOW', '5297-MDOIR', '2606-PKWJB', '6823-SIDFQ', '2952-QAYZF', '4701-AHWMW', '6648-INWPS', '6096-EGVTU', '3982-XWFZQ', '9424-CMPOG', '2030-BTZRO', '3985-HOYPM', '6230-BSUXY', '4514-GFCFI', '9961-JBNMK', '4226-KKDON', '1136-XGEQU', '9489-JMTTN', '4334-HOWRP', '3445-HXXGF', '4829-ZLJTK', '5126-RCXYW', '7338-ERIVA', '2002-MZHWP', '1196-AMORA', '6719-FGEDO', '7677-SJJJK', '0921-OHLVP', '3174-RKMOW', '2667-WYLWJ', '7602-MVRMB', '3841-CONLJ', '9283-LZQOH', '9207-ZPANB', '3977-QCRSL', '7758-UJWYS', '2522-WLNSF', '9742-XOKTS', '4994-OBRSZ', '7054-ENNGU', '8623-ULFNQ', '1415-YFWLT', '6967-PEJLL', '3279-DYZQM', '4750-ZRXIU', '4075-JFPGR', '1399-UBQIU', '2305-MRGLV', '2750-BJLSB', '3012-VFFMN', '0617-FHSGK', '5650-YLIBA', '7932-WPTDS', '7577-SWIFR', '0708-LGSMF', '0195-IESCP', '2080-GKCWQ', '5013-SBUIH', '4957-TREIR', '0148-DCDOS', '9112-WSNPU', '5294-CDGWY', '6922-NCEDI', '3038-PQIUY', '0719-SYFRB', '2045-BMBTJ', '0508-OOLTO', '2664-XJZNO', '4749-VFKVB', '9372-TXXPS', '7337-CINUD', '4080-OGPJL', '8441-SHIPE', '9585-KKMFD', '3429-IFLEM', '6630-UJZMY', '4065-JJAVA', '5442-PPTJY', '0804-YGEQV', '4452-ROHMO', '0635-WKOLD', '0218-QNVAS', '4359-INNWN', '1492-KGETH', '9788-YTFGE', '2955-BJZHG', '6485-QXWWE', '4505-EXZHB', '6734-FQAJX', '7361-YPXFS', '9780-FKVVF', '2481-SBOYW', '7446-KQISO', '8174-TBVCF', '9555-SAHUZ', '9365-SRSZE', '1142-WACZW', '4884-ZTHVF', '5131-PONJI', '4361-FEBGN', '1628-BIZYP', '5119-KEPFY', '4111-BNXIF', '9639-BUJXT', '6393-WRYZE', '8089-UZWLX', '0356-ERHVT', '6715-OFDBP', '1945-XISKS', '6500-JVEGC', '9633-DENPU', '8963-JLGJT', '9755-JHNMN', '5902-WBLSE', '0515-YPMCW', '6087-YPWHO', '5887-IKKYO', '2761-OCIAX', '2133-TSRRM', '6204-IEUXJ', '7803-XOCCZ', '8718-PTMEZ', '4581-SSPWD', '0708-SJDIS', '9681-OXGVC', '0550-DCXLH', '5494-WOZRZ', '4785-NKHCX', '9066-QRSDU', '2858-MOFSQ', '1384-RCUXW', '4853-OITSN', '7402-EYFXX', '5593-SUAOO', '6916-HIJSE', '0667-NSRGI', '6629-CZTTH', '5919-TMRGD', '3190-ITQXP', '0082-LDZUE', '6427-FEFIG', '9227-UAQFT', '6196-HBOBZ', '6281-FKEWS', '3376-BMGFE', '3318-ISQFQ', '9405-GPBBG', '1488-PBLJN', '9885-MFVSU', '1550-EENBN', '0023-UYUPN', '8782-LKFPK', '9139-TWBAS', '7789-CRUVC', '7596-LDUXP', '3420-YJLQT', '5702-SKUOB', '1336-EZFZY', '6383-ZTSIW', '6223-DHJGV', '8364-TRMMK', '5130-IEKQT', '3896-RCYYE', '7722-CVFXN', '4075-WKNIU', '3635-QQRQD', '1223-UNPKS', '5908-QMGOE', '6082-GLJIX', '3908-MKIMJ', '0345-HKJVM', '4903-CNOZC', '2054-PJOCK', '5539-TMZLF', '5883-GTGVD', '4109-CYRBD', '6979-ZNSFF', '3301-LSLWQ', '3454-JFUBC', '9055-MOJJJ', '4328-VUFWD', '2379-GYFLQ', '5804-LEPIM', '1297-VQDRP', '1621-YNCJH', '5019-GQVCR', '0219-QAERP', '2027-CWDNU', '9571-EDEBV', '8628-MFKAX', '8945-GRKHX', '4316-XCSLJ', '1769-GRUIK', '8640-SDGKB', '8124-NZVGJ', '9992-RRAMN', '7860-UXCRM', '1247-QBVSH', '1090-ESELR', '6131-IUNXN', '4847-TAJYI', '3049-SOLAY', '4160-AMJTL', '0674-DGMAQ', '9135-HSWOC', '5781-BKHOP', '5061-PBXFW', '5245-VDBUR', '2057-ZBLPD', '1131-ALZWV', '3842-QTGDL', '2974-GGUXS', '1629-DQQVB', '3324-OIRTO', '4680-KUTAJ', '3926-CUQZX', '3992-YWPKO', '1561-BWHIN', '0795-GMVQO', '6473-ULUHT', '3413-DHLPB', '3838-OZURD', '7140-ADSMJ', '5213-TWWJU', '9940-RHLFB', '2599-CZABP', '3913-RDSJZ', '6261-RCVNS', '1363-TXLSL', '4351-QLCSU', '8221-EQDGL', '8809-XKHMD', '7216-KAOID', '0871-URUWO', '5982-PSMKW', '7815-PDTHL', '4248-QPAVC', '5897-ZYEKH', '5453-AXEPF', '4484-GLZOU', '3055-OYMSE', '8311-UEUAB', '5144-TVGLP', '5371-VYLSX', '4815-GBTCD', '1226-UDFZR', '8621-MNIHH', '1352-VHKAJ', '1833-TCXKK', '7508-DQAKK', '8750-QWZAJ', '2985-JUUBZ', '1919-RTPQD', '4322-RCYMT', '2034-GDRCN', '9972-EWRJS', '2480-EJWYP', '5639-NTUPK', '1329-VHWNP', '0880-FVFWF', '3703-VAVCL', '9309-BZGNT', '0730-KOAVE', '5261-QSHQM', '5996-EBTKM', '7353-YOWFP', '3758-CKOQL', '1763-KUAAW', '1790-NESIO', '7527-QNRUS', '4616-ULAOA', '9426-SXNHE', '0207-MDKNV', '0524-IAVZO', '0013-EXCHZ', '8133-ANHHJ', '8263-QMNTJ', '0723-VSOBE', '8757-TFHHJ', '5141-ZUVBH', '1684-FLBGS', '9465-RWMXL', '9282-IZGQK', '9473-CBZOP', '7994-UYIVZ', '1131-QQZEB', '1841-YSJGV', '4291-HPAXL', '6827-IEAUQ', '2080-SRCDE', '0257-KXZGU', '2189-UXTKY', '7634-HLQJR', '9374-YOLBJ', '4482-EWFMI', '5222-IMUKT', '7873-CVMAW', '7872-RDDLZ', '0887-HJGAR', '0325-XBFAC', '5793-YOLJN', '7707-PYBBH', '7416-CKTEP', '5510-BOIUJ', '5220-AGAAX', '4324-AHJKS', '8984-EYLLL', '5271-YNWVR', '0224-NIJLP', '7205-BAIAD', '2172-EJXVF', '6689-TCZHQ', '7156-MHUGY', '7272-QDCKA', '7975-TZMLR', '5730-RIITO', '4987-GQWPO', '7813-ZGGAW', '5299-SJCZT', '3460-TJBWI', '5811-IWXYM', '6578-KRMAW', '9103-CXVOK', '1324-NLTJE', '8857-CUPFQ', '4043-MKDTV', '5760-IFJOZ', '8201-AAXCB', '2892-GESUL', '6952-OMNWB', '9327-QSDED', '3007-FDPEA', '8944-AILEF', '7133-VBDCG', '3006-XIMLN', '4747-LCAQL', '6080-TCMYC', '5307-UVGNB', '7123-WQUHX', '5219-YIPTK', '7698-YFGEZ', '0048-LUMLS', '4879-GZLFH', '9919-YLNNG', '2796-UUZZO', '2607-FBDFF', '1064-FBXNK', '5590-YRFJT', '8901-UPRHR', '9313-QOLTZ', '5980-BDHPY', '1302-TPUBN', '5519-TEEUH', '8608-OZTLB', '6608-QQLVK', '3751-KTZEL', '7365-BVCJH', '5384-ZTTWP', '7729-XBTWX', '7382-DFJTU', '6582-PLFUU', '5922-ABDVO', '5172-MIGPM', '4318-RAJVY', '6752-APNJL', '6035-RIIOM', '7595-EHCDL', '8984-HPEMB', '2234-EOFPT', '7627-JKIAZ', '3950-VPYJB', '1452-UZOSF', '7989-AWGEH', '6652-YFFJO', '0322-CHQRU', '2123-AGEEN', '8200-KLNYW', '8040-MNRTF', '8008-HAWED', '2267-WTPYD', '5334-JLAXU', '3580-HYCSP', '1569-TTNYJ', '3791-LGQCY', '7611-YKYTC', '8444-WRIDW', '1303-SRDOK', '8263-JQAIK', '8929-KSWIH', '6532-YLWSI', '6583-SZVGP', '0748-RDGGM', '7321-ZNSLA', '6286-ZHAOK', '4522-AKYLR', '9028-LIHRP', '0746-JTRFU', '5423-BHIXO', '0263-FJTQO', '6017-PPLPX', '1834-ABKHQ', '2790-XUYMV', '5012-YSPJJ', '6865-JZNKO', '7967-HYCDE', '5649-TJHOV', '0117-LFRMW', '2081-VEYEH', '1038-RQOST', '4664-NJCMS', '8660-BUETV', '7479-NITWS', '3926-YZVVX', '3620-EHIMZ', '3537-HPKQT', '3002-WQZWT', '4412-YLTKF', '8229-TNIQA', '9347-AERRL', '8800-ZKRFW', '7008-LZVOZ', '7663-RGWBC', '3331-HQDTW', '1508-DFXCU', '6168-YBYNP', '9435-JMLSX', '1734-ZMNTZ', '2580-ASVVY', '3071-VBYPO', '6248-BSHKG', '4110-PFEUZ', '3312-UUMZW', '8739-WWKDU', '3807-BPOMJ', '0870-VEMYL', '9565-FLVCG', '4525-VZCZG', '3162-ZJZFU', '3401-URHDA', '2465-BLLEU', '4524-QCSSM', '6374-AFWOX', '9210-IAHGH', '2978-XXSOG', '6815-ABQFQ', '8095-WANWK', '8197-BFWVU', '3646-ITDGM', '7088-FBAWU', '5950-AAAGJ', '4652-ODEVH', '6682-QJDGB', '5419-KLXBN', '1020-JPQOW', '7054-DMVAS', '0670-KDOMA', '6425-JWTDV', '7691-KGKGP', '6954-OOYZZ', '3397-AVTKU', '3511-APPBJ', '4367-NUYAO', '2535-PBCGC', '0880-TKATG', '3946-JEWRQ', '1568-BEKZM', '2519-TWKFS', '6122-EFVKN', '5248-KWLAR', '0040-HALCW', '9481-WHGWY', '8903-WMRNW', '5937-EORGB', '2316-ESMLS', '2325-WINES', '0314-TKOSI', '3199-XGZCY', '6152-ONASV', '3494-JCHRQ', '7398-LXGYX', '2724-FJDYW', '6034-ZRYCV', '2424-WVHPL', '1577-HKTFG', '0310-VQXAM', '9894-EZEWG', '6941-PMGEP', '5469-NUJUR', '8937-RDTHP', '7872-BAAZR', '9667-EQRXU', '0742-NXBGR', '5192-EBGOV', '4078-SAYYN', '5651-CPDND', '9227-LUNBG', '4115-UMJFQ', '9646-NMHXE', '3746-EUBYR', '0682-USIXD', '7026-YMSBE', '3115-JPJDD', '0621-TWIEM', '5729-KLZAR', '2530-FMFXO', '3039-MJSLN', '2634-HCZGT', '4701-MLJPN', '3237-AJGEH', '0562-KBDVM', '3486-KHMLI', '6265-SXWBU', '5688-KZTSN', '2344-JMOGN', '6402-SSEJG', '5076-YVXCM', '3873-NFTGI', '1057-FOGLZ', '5986-WWXDV', '5959-BELXA', '1335-HQMKX', '9323-HGFWY', '6821-JPCDC', '3133-PZNSR', '6867-ACCZI', '3261-CQXOL', '2889-FPWRM', '3399-BMLVW', '5649-RXQTV', '2845-KDHVX', '4443-EMBNA', '2810-FTLEM', '0723-DRCLG', '0017-DINOC', '5006-MXVRN', '3689-MOZGR', '0302-JOIVN', '1407-DIGZV', '1194-BHJYC', '9251-WNSOD', '8258-GSTJK', '9530-EHPOH', '8285-ABVLB', '5970-GHJAW', '8003-EWNDZ', '2586-CWXVV', '1450-SKCVI', '3621-CEOVK', '2884-GBPFB', '2656-FMOKZ', '1285-OKIPP', '5949-XIKAE', '3275-RHRNE', '1784-BXEFA', '6661-HBGWL', '9795-SHUHB', '1403-LKLIK', '8885-QSQBX', '7228-PAQPD', '3627-FHKBK', '7036-TYDEC', '8840-DQLGN', '2114-MGINA', '8919-FYFQZ', '3506-OVLKD', '0547-HURJB', '9367-WXLCH', '6181-AXXYF', '3256-EZDBI', '6848-YLDFR', '4116-TZAQJ', '8050-XGRVL', '1400-WIVLL', '7550-WIQVA', '7766-CLTIC', '5028-HTLJB', '5726-CVNYA', '2495-INZWQ', '4958-XCBDQ', '9526-JAWYF', '2739-CACDQ', '8405-IGQFX', '2725-IWWBA', '9317-WZPGV', '7359-PTSXY', '6366-XIVKZ', '9490-DFPMD', '2178-PMGCJ', '9450-TRJUU', '7175-NTIXE', '7445-WMRBW', '4811-JBUVU', '9603-OAIHC', '1453-RZFON', '2612-RRIDN', '5174-ITUMV', '5788-YPOEG', '5117-IFGPS', '3452-SRFEG', '8044-BGWPI', '3027-YNWZU', '7255-SSFBC', '3727-OWVYD', '3511-BFTJW', '9732-KPKBW', '8917-SZTTJ', '8461-EFQYM', '8316-BBQAY', '0786-IVLAW', '8748-HFWBO', '7446-YPODE', '2773-OVBPK', '3797-FKOGQ', '0486-LGCCH', '3726-TBHQT', '6745-JEFZB', '8577-QSOCG', '1485-YDHMM', '9030-QGZNL', '2659-VXMWZ', '1219-NNDDO', '2105-PHWON', '4999-IEZLT', '8063-RJYNF', '5414-OFQCB', '9330-IJWIO', '6898-RBTLU', '3714-NTNFO', '0744-GKNGE', '8073-IJDCM', '8292-ITGYJ', '5844-QVTAT', '6646-JPPHA', '1535-VTJOQ', '1036-GUDCL', '3506-LCJDC', '7025-IWFHT', '0895-LNKRC', '9763-PDTKK', '0392-BZIUW', '3605-JISKB', '1346-PJWTK', '3200-MNQTF', '9705-ZJBCG', '6961-VCPMC', '5842-POCOP', '8436-BJUMM', '1729-VLAZJ', '7072-MBHEV', '4827-DPADN', '2862-JVEOY', '5480-HPRRX', '6270-OMFIW', '1422-DGUBX', '1450-GALXR', '7596-ZYWBB', '2528-HFYZX', '1322-AGOQM', '3551-HUAZH', '3115-CZMZD', '0052-DCKON', '9795-VOWON', '9717-QEBGU', '7821-DPRQE', '8690-UPCZI', '0303-WMMRN', '0902-RFHOF', '0883-EIBTI', '6953-PBDIN', '7384-GHBPI', '9734-YWGEX', '8519-QJGJD', '7923-IYJWY', '7814-LEEVE', '0817-HSUSE', '8676-TRMJS', '4589-IUAJB', '2720-FVBQP', '3518-FSTWG', '7126-RBHSD', '7240-ETPTR', '0923-PNFUB', '2982-VPSGI', '0329-GTIAJ', '8775-CEBBJ', '4452-QIIEB', '6015-VVHHE', '7811-JIVPF', '3258-SANFR', '5567-GZKQY', '1728-BQDMA', '6437-UDQJM', '3948-FVVRP', '4118-CEVPF', '0137-UDEUO', '5275-PMFUT', '1810-MVMAI', '2430-RRYUW', '1215-FIGMP', '5993-JSUWV', '7975-JMZNT', '6032-KRXXO', '5527-ACHSO', '2568-OIADY', '8631-XVRZL', '5322-ZSMZY', '4526-EXKKN', '9588-OZDMQ', '7881-EVUAD', '4905-JEFDW', '6253-GNHWH', '1775-KWJKQ', '3097-PYWXL', '4067-HLYQI', '9297-FVVDH', '7594-RQHXR', '3156-QLHBO', '3866-MDTUB', '2188-SXWVT', '1506-YJTYT', '8495-PRWFH', '9903-LYSAB', '5981-ZVXOT', '0094-OIFMO', '8597-CTXVJ', '4083-BFNYK', '3951-NJCVI', '4088-YLDSU', '5394-MEITZ', '2800-QQUSO', '3349-ANQNH', '6479-VDGRK', '8904-OPDCK', '5309-TAIKL', '0771-WLCLA', '3530-CRZSB', '0479-HMSWA', '8104-OSKWT', '6629-LADHQ', '8259-NFJTV', '5889-JTMUL', '4456-RHSNB', '1985-MBRYP', '7845-URHJN', '7898-PDWQE', '6621-YOBKI', '9305-CDSKC', '2773-MADBQ', '4320-QMLLA', '0516-OOHAR', '0495-ZBNGW', '9670-BPNXF', '1622-HSHSF', '3956-CJUST', '8290-YWKHZ', '7964-VEXDG', '5339-TJFEK', '4676-WLUHT', '2192-OZITF', '5286-YHCVC', '4369-NYSCF', '7649-PHJVR', '8659-HDIYE', '5624-RYAMH', '4628-CTTLA', '6814-ZPWFQ', '3887-PBQAO', '0212-ISBBF', '1349-WXNGG', '9933-QRGTX', '8466-PZBLH', '4826-XTSOH', '7833-PKIHD', '6572-ADKRS', '8203-XJZRC', '7483-IQWIB', '2357-COQEK', '0531-ZZJWQ', '9058-HRZSV', '4598-ZADCK', '9375-MHRRS', '5181-OABFK', '2141-RRYGO', '8464-EETCQ', '6164-HXUGH', '5346-BZCHP', '4906-ZHGPK', '1661-CZBAU', '1013-QCWAM', '1137-DGOWI', '8189-DUKMV', '8023-QHAIO', '5027-XWQHA', '9408-HRXRK', '3351-NQLDI', '7853-WNZSY', '6762-NSODU', '2469-DTSGX', '3755-JBMNH', '4377-VDHYI', '1548-FEHVL', '6851-WEFYX', '8780-YRMTT', '1173-XZPYF', '4931-TRZWN', '6142-VSJQO', '1925-TIBLE', '5223-UZAVK', '1552-CZCLL', '9389-ACWBI', '1139-WUOAH', '2923-ARZLG', '9776-CLUJA', '8887-IPQNC', '7666-WKRON', '9257-AZMTZ', '9823-EALYC', '4729-XKASR', '5550-VFRLC', '8774-GSBUN', '9560-BBZXK', '7521-YXVZY', '2754-SDJRD', '1100-DDVRV', '3199-NPKCN', '3470-OBUET', '4891-NLUBA', '5197-LQXXH', '7108-DGVUU', '5208-FVQKB', '0757-WCUUZ', '0139-IVFJG', '4425-OWHWB', '3717-FDJFU', '2719-BDAQO', '0655-YDGFJ', '4785-QRJHC', '0285-INHLN', '3508-CFVZL', '0310-SUCIN', '5293-WXJAK', '6147-CBCRA', '5774-QPLTF', '3066-RRJIO', '5606-AMZBO', '2996-XAUVF', '1689-YQBYY', '5882-CMAZQ', '0530-IJVDB', '4250-FDVOU', '2700-LUEVA', '5537-UXXVS', '2150-OEGBV', '8096-LOIST', '7410-KTVFV', '2195-ZRVAX', '4673-KKSLS', '8410-BGQXN', '8387-UGUSU', '1209-VFFOC', '7850-THJMU', '7181-OQCUT', '8548-AWOFC', '7634-WSWDB', '7032-LMBHI', '2239-CGBUZ', '3023-GFLBR', '5515-RUGKN', '3428-XZMAZ', '5402-HTOTQ', '8851-RAGOV', '6169-PPETC', '1251-STYSZ', '3096-GKWEB', '2999-AANRQ', '9436-ZBZCT', '6689-KXGBO', '6169-PGNCD', '3339-EAQNV', '6617-WLBQC', '8100-PNJMH', '4628-WQCQQ', '5980-NOPLP', '9158-VCTQB', '3426-NIYYL', '6919-ELBGL', '9214-EKVXR', '5803-NQJZO', '3677-TNKIO', '7114-AEOZE', '1591-MQJTP', '4791-QRGMF', '4059-IIEBK', '7459-IMVYU', '2675-OTVVJ', '6360-SVNWV', '5313-FPXWG', '0032-PGELS', '2732-ISEZX', '0787-LHDYT', '5707-ORNDZ', '2251-PYLPB', '9334-GWGOW', '9705-IOVQQ', '6048-NJXHX', '1452-KIOVK', '9931-DCEZH', '4007-NHVHI', '3893-JRNFS', '3088-FVYWK', '7963-SHNDT', '2882-WDTBA', '9474-PHLYD', '8874-EJNSR', '5859-HZYLF', '3146-JTQHR', '8756-RDDLT', '4369-HTUIF', '7912-SYRQT', '2869-ADAWR', '6556-DBKZF', '8218-FFJDS', '3274-NSDWE', '5566-SOEZD', '9391-LMANN', '7654-YWJUF', '0282-NVSJS', '0730-BGQGF', '3877-JRJIP', '9134-WYRVP', '4223-BKEOR', '9150-KPBJQ', '6723-WSNTY', '7520-HQWJU', '6356-ELRKD', '4753-PADAS', '7706-YLMQA', '9565-JSNFM', '0742-LAFQK', '5311-IHLEI', '0822-QGCXA', '7636-XUHWW', '4893-GYUJU', '4211-MMAZN', '5173-ZXXXL', '8041-TMEID', '3249-ZPQRG', '2519-ERQOJ', '7139-JZFVG', '5446-DKWYW', '3224-DFQNQ', '8329-UTMVM', '5850-BDWCY', '3727-RJMEO', '1205-WNWPJ', '1306-RPWXZ', '9142-XMYJH', '0516-WJVXC', '9153-BTBVV', '0836-SEYLU', '3348-CFRNX', '1025-FALIX', '3892-NXAZG', '1447-GIQMR', '0411-EZJZE', '1357-MVDOZ', '5501-TVMGM', '4132-KALRO', '8819-IMISP', '0485-ZBSLN', '1848-LBZHY', '8571-ZCMCX', '2190-BCXEC', '5906-BFOZT', '4801-KFYKL', '6817-WTYHE', '6885-PKOAM', '1855-AGAWH', '9172-JITSM', '6344-SFJVH', '7450-NWRTR', '0289-IVARM', '4940-KHCWD', '2209-XADXF', '9079-LWTFD', '5177-RVZNU', '1980-KXVPM', '2195-VVRJF', '4487-ZYJZK', '6048-QBXKL', '2202-OUTMO', '8123-QBNAZ', '3003-CMDUU', '2308-STERM', '9500-LTVBP', '0939-EREMR', '7878-RTCZG', '2402-TAIRZ', '5485-ITNPC', '8695-ARGXZ', '0187-QSXOE', '4626-OZDTJ', '7508-KBIMB', '8627-EHGIP', '8957-THMOA', '8020-BWHYL', '2817-NTQDO', '7404-JLKQG', '9978-HYCIN', '2840-XANRC', '8387-MOJJT', '6906-ANDWJ', '8017-LXHFA', '9314-QDMDW', '1757-TCATG', '6701-DHKWQ', '2070-XYMFH', '3398-ZOUAA', '2478-EEWWM', '1644-IRKSF', '0654-PQKDW', '6695-AMZUF', '7734-DBOAI', '5299-RULOA', '6408-WHTEF', '1043-YCUTE', '2801-NISEI', '4480-QQRHC', '8952-WCVCD', '0628-CNQRM', '6624-JDRDS', '6369-MCAKO', '9938-EKRGF', '0354-VXMJC', '8746-OQQRW', '7727-SHVZV', '9732-EQMWY', '2273-QCKXA', '7293-LSCDV', '7105-MXJLL', '3911-RSNHI', '9506-UXUSK', '5445-GLVOT', '0899-LIIBW', '4849-PYRLQ', '5393-RXQSZ', '7394-LWLYN', '2302-ANTDP', '6941-KXRRV', '8647-SDTWQ', '9076-AXYIK', '3814-MLAXC', '4062-HBMOS', '6568-POCUI', '8966-SNIZF', '2650-GYRYL', '8519-IMDHU', '6653-CBBOM', '8091-TTVAX', '0196-VULGZ', '1641-BYBTK', '8625-AZYZY', '9746-YKGXB', '1518-VOWAV', '0270-THENM', '9529-OFXHY', '0187-WZNAB', '6340-DACFT', '6877-TJMBR', '5135-RDDQL', '1545-JFUML', '0078-XZMHT', '4049-ZPALD', '5248-YGIJN', '9248-OJYKK', '4458-KVRBJ', '1641-RQDAY', '7173-TETGO', '2788-CJQAQ', '6478-HRRCZ', '4250-ZBWLV', '9866-OCCKE', '3439-GVUSX', '4176-FXYBO', '6625-IUTTT', '4079-ULGFR', '8974-OVACP', '4445-ZJNMU', '8677-HDZEE', '3158-MOERK', '8361-LBRDI', '7330-WZLNC', '1767-CJKBA', '7064-FRRSW', '1374-DMZUI', '9889-TMAHG', '5366-OBVMR', '4464-JCOLN', '6637-KYRCV', '4847-QNOKA', '6275-YDUVO', '4495-LHSSK', '9725-SCPZG', '4393-GEADV', '9067-SQTNS', '1813-JLKWR', '0397-ZXWQF', '9286-DOJGF', '2718-YSKCS', '8544-GOQSH', '8799-OXZMD', '6134-KWTBV', '5651-YLPRD', '4361-BKAXE', '9318-NKNFC', '0691-IFBQW', '8160-HOWOX', '0410-IPFTY', '4654-ULTTN', '4804-NCPET', '0426-TIRNE', '6576-FBXOJ', '9702-AIUJO', '3739-YBWAB', '6907-FLBER', '7693-QPEFS', '8066-POXGX', '7241-AJHFS', '6635-CPNUN', '1154-HYWWO', '0311-QYWSS', '6322-PJJDJ', '3577-AMVUX', '2896-TBNBE', '2692-BUCFV', '8735-DCXNF', '8663-UPDGF', '0661-XEYAN', '9227-YBAXE', '6319-IEJWJ', '3230-WYKIR', '6894-LFHLY', '2645-QTLMB', '1502-XFCVR', '2346-DJQTB', '6693-DJWTY', '2636-SJDOU', '2520-SGTTA', '8593-WHYHV', '7895-VONWT', '6331-EWIEB', '5320-BRKGK', '4083-EUGRJ', '3916-NRPAP', '3079-BCHLN', '2338-BQEZT', '0215-BQKGS', '6923-AQONU', '8999-YPYBV', '7623-TRNQN', '1708-PBBOA', '1862-SKORY', '4657-FWVFY', '6732-VAILE', '6303-KFWSL', '5813-UECBU', '0003-MKNFE', '8050-WYBND', '3522-CDKHF', '0011-IGKFF', '8540-ZQGEA', '0661-KBKPA', '3729-OWRVL', '0486-HECZI', '8314-HTWVE', '0549-CYCQN', '6221-AVQYL', '6646-VRFOL', '9591-YVTEB', '9274-CNFMO', '0895-DQHEW', '4537-CIBHB', '2229-VWQJH', '7994-XIRTR', '9057-SIHCH', '2091-RFFBA', '6141-OOXUQ', '2675-IJRGJ', '0595-ITUDF', '7163-OCEQI', '9796-BPKIW', '0114-PEGZZ', '7996-MHXLW', '3211-AAPKX', '7639-SUPCW', '1163-VIPRI', '4730-AWNAU', '2589-AYCRP', '6689-VRRTK', '2466-NEJOJ', '9348-ROUAI', '1897-RCFUM', '4672-FOTSD', '9348-YVOMK', '9830-ECLEN', '8802-UNOJF', '6266-QHOJZ', '0696-UKTOX', '6557-BZXLQ', '6087-MVHJH', '4568-TTZRT', '5150-ITWWB', '2181-TIDSV', '4833-QTJNO', '1493-AMTIE', '0106-UGRDO', '8746-BFOAJ', '7576-OYWBN', '1792-UXAFY', '9253-QXKBE', '9518-IMLHK', '5047-LHVLY', '7515-LODFU', '9359-UGBTK', '7480-SPLEF', '7375-WMVMT', '5730-DBDSI', '3005-NFMTA', '8413-YNHNV', '3902-FOIGH', '7049-GKVZY', '7995-ZHHNZ', '5495-GPSRW', '3930-ZGWVE', '0303-UNCIP', '4585-HETAI', '1480-BKXGA', '3724-UCSHY', '7969-AULMZ', '6923-EFPNL', '1104-TNLZA', '2545-EBUPK', '4201-JMNGR', '3639-XJHKQ', '3266-FTKHB', '8439-LTUGF', '4636-QRJKY', '9025-AOMKI', '5619-XZZKR', '4926-UMJZD', '6537-OTKMY', '6016-NXBNJ', '8319-QBEHW', '8651-ENBZX', '1996-DBMUS', '6620-JDYNW', '3724-BSCVH', '6946-LMSQS', '4128-ETESU', '3137-LUPIX', '9734-UYXQI', '0362-ZBZWJ', '1122-YJBCS', '1116-FRYVH', '8780-IXSTS', '1899-VXWXM', '2462-XIIJB', '7786-WBJYI', '3307-TLCUD', '2984-AFWNC', '4488-KQFDT', '3780-YVMFA', '9357-UJRUN', '5480-XTFFL', '3995-WFCSM', '0637-UBJRP', '0440-UEDAI', '3295-YVUSR', '9633-XQABV', '8132-YPVBX', '1697-LYYYX', '6121-TNHBO', '2122-YWVYA', '5301-GAUUY', '7710-JSYOA', '8779-QRDMV', '2672-TGEFF', '0107-YHINA', '1360-RCYRT', '2931-SVLTV', '3752-CQSJI', '7754-IXRMC', '2057-BOYKM', '5716-LIBJC', '8414-MYSHR', '6227-HWPWX', '8681-ICONS', '4735-ASGMA', '1608-GMEWB', '5886-VLQVU', '8514-VZHEB', '7977-HXJKU', '5321-NTRKC', '6614-FHDBO', '4742-TXUEX', '9150-HEPMB', '8777-PVYGU', '7055-VKGDA', '8205-OTCHB', '8879-ZKJOF', '7661-CPURM', '0323-XWWTN', '9681-KYGYB', '9701-CDXHR', '1038-ZAGBI', '6543-JXSOO', '8705-DWKTI', '7964-ZRKKG', '0640-YJTPY', '5372-FBKBN', '0690-SRQID', '2961-VNFKL', '1981-INRFU', '3717-OFRTN', '4188-PCPIG', '8457-XIGKN', '4291-TPNFG', '5298-GSTLM', '7109-CQYUZ', '2749-CTKAJ', '9495-REDIY', '2516-XSJKX', '8559-WNQZS', '2073-QBVBI', '1482-OXZSY', '1063-DHQJF', '8000-REIQB', '2718-GAXQD', '9637-CDTKZ', '4104-PVRPS', '6253-WRFHY', '6289-CPNLD', '9121-PHQSR', '0795-XCCTE', '5766-XQXMQ', '4735-BJKOU', '3745-HRPHI', '1383-EZRWL', '6997-UVGOX', '0585-EGDDA', '5067-XJQFU', '5201-USSQZ', '4550-VBOFE', '6861-XWTWQ', '1395-OFUWC', '8229-MYEJZ', '2003-CKLOR', '5846-NEQVZ', '8404-VIOMB', '4349-GFQHK', '4342-HFXWS', '4957-SREEC', '3016-KSVCP', '2979-SXESE', '5122-CYFXA', '1301-LOPVR', '4433-JCGCG', '3372-CDXFJ', '2430-USGXP', '3398-FSHON', '6754-WKSHP', '8917-FAEMR', '6618-RYATB', '7197-VOJMM', '4635-EJYPD', '7379-POKDZ', '2504-DSHIH', '3629-ZNKXA', '5229-DTFYB', '9782-LGXMC', '5549-ZGHFB', '0927-LCSMG', '4636-TVXVG', '8144-DGHXP', '8707-RMEZH', '1237-WIYYZ', '9824-BEMCV', '8665-UTDHZ', '0673-IGUQO', '3014-WJKSM', '3378-AJRAO', '6180-YBIQI', '2706-QZIHY', '1964-SVLEA', '8409-WQJUX', '3398-GCPMU', '2272-QAGFO', '2468-SJFLM', '4587-VVTOX', '9090-SGQXL', '8059-UDZFY', '8606-OEGQZ', '4451-RWASJ', '3585-ISXZP', '6103-LIANB', '1444-VVSGW', '1088-AUUZZ', '5334-AFQJB', '6258-NGCNG', '2226-ICFDO', '2058-DCJBE', '1104-FEJAM', '8325-QRPZR', '6474-FVJLC', '9479-HYNYL', '7776-QGYJC', '8401-EMUWF', '7463-IFMQU', '4770-QAZXN', '3902-MIVLE', '3777-XROBG', '2167-FQSTQ', '7145-FEJWU', '7005-CCBKV', '1031-IIDEO', '3373-DIUUN', '1293-HHSHJ', '7841-FCRQD', '8148-NLEGT', '9391-TTOYH', '7511-YMXVQ', '7938-OUHIO', '0057-QBUQH', '6166-YIPFO', '9850-OWRHQ', '8270-RKSAP', '5732-IKGQH', '9097-ZUBYC', '1740-CSDJP', '3422-GALYP', '5676-CFLYY', '6595-YGXIT', '0947-MUGVO', '9763-GRSKD', '4869-EPIUS', '2842-BCQGE', '0083-PIVIK', '0725-CXOTM', '2995-UPRYS', '5055-MGMGF', '2839-RFSQE', '7668-XCFYV', '8780-IHCRN', '3312-ZWLGF', '2088-IEBAU', '5848-FHRFC', '8454-AATJP', '6139-ZZRBQ', '1750-CSKKM', '9386-LDCZR', '0484-FFVBJ', '4836-WNFNO', '4706-DGAHW', '1465-WCZVT', '9337-SRRNI', '7519-JTWQH', '2845-AFFTX', '2227-JRSJX', '5727-MYATE', '5696-CEIQJ', '9254-RBFON', '6710-HSJRD', '5118-MUEYH', '0523-VNGTF', '2843-CQMEG', '7596-IIWYC', '0594-UFTUL', '1599-MMYRQ', '0018-NYROU', '8966-OIQHG', '6567-HOOPW', '5924-SNGKP', '6769-DCQLI', '2257-BOVXD', '8242-JSVBO', '6942-LBFDP', '7780-OTDSO', '5154-VEKBL', '3308-DGHKL', '8393-DLHGA', '0967-BMLBD', '1820-TQVEV', '3525-DVKFN', '4587-NUKOX', '4548-SDBKE', '8067-NIOYM', '2121-JAFOM', '5816-QVHRX', '3235-ETOOB', '5917-RYRMG', '4510-HIMLV', '0233-FTHAV', '8434-PNQZX', '4667-QONEA', '0508-SQWPL', '3387-VATUS', '6921-OZMFH', '7921-BEPCI', '9494-MRNYX', '4609-KNNWG', '4315-MURBD', '1559-DTODC', '6505-OZNPG', '4625-EWPTF', '0334-ZFJSR', '7989-CHGTL', '6615-ZGEDR', '6100-FJZDG', '4415-WNGVR', '2228-BZDEE', '9360-OMDZZ', '2625-TRCZQ', '9065-ZCPQX', '3824-RHKVR', '4890-VMUAV', '2883-ILGWO', '7017-VFULY', '5439-WIKXB', '7808-DVWEP', '8016-NCFVO', '3863-QSTYI', '3545-CNWRG', '3798-EPWRR', '6227-FBDXH', '4367-NHWMM', '7115-IRDHS', '6188-UXBBR', '2616-UUTFK', '9300-RENDD', '8868-GAGIO', '2654-VBVPB', '2369-UAPKZ', '3334-CTHOL', '5641-DMBFJ', '6235-VDHOM', '7005-CYUIL', '0098-BOWSO', '2260-USTRB', '6504-VBLFL', '7817-BOQPW', '0997-YTLNY', '7129-ACFOG', '0096-FCPUF', '7217-JYHOQ', '4139-JPIAM', '0565-IYCGT', '2190-PHBHR', '9912-GVSEQ', '3096-WPXBT', '9361-YNQWJ', '9867-XOBQA', '4614-NUVZD', '6891-JPYFF', '3068-OMWZA', '0584-BJQGZ', '5442-XSDCW', '0620-XEFWH', '0691-JVSYA', '5366-IJEQJ', '3338-CVVEH', '9378-FXTIZ', '9236-NDUCW', '1264-FUHCX', '6546-OPBBH', '9546-CQJSU', '7298-IZWLY', '2717-HVIZY', '5766-ZJYBB', '3120-FAZKD', '8884-ADFVN', '7622-FWGEW', '3097-IDVPU', '0396-UKGAI', '8515-OCTJS', '2368-GAKKQ', '4298-OYIFC', '0201-OAMXR', '1784-EZDKJ', '9073-ZZIAY', '5802-ADBRC', '5287-QWLKY', '4277-UDIEF', '5879-HMFFH', '7740-BTPUX', '9398-MMQTO', '4476-OSWTN', '2851-STERV', '5240-IJOQT', '1229-RCALF', '8932-CZHRQ', '4710-FDUIZ', '0420-HLGXF', '1555-HAPSU', '3806-YAZOV', '2001-MCUUW', '8043-PNYSD', '6088-BXMRG', '9917-KWRBE', '4900-MSOMT', '2014-MKGMH', '2962-XPMCQ', '7549-MYGPK', '2205-YMZZJ', '9184-GALIL', '1666-JZPZT', '6173-GOLSU', '1260-TTRXI', '0506-YLVKJ', '5678-VFNEQ', '9420-LOJKX', '1627-AFWVJ', '0612-RTZZA', '6933-VLYFX', '3190-FZATL', '3094-JOJAI', '2809-ILCYT', '6101-IMRMM', '2511-MORQY', '7740-KKCXF', '6267-DCFFZ', '8064-RAVOH', '8111-SLLHI', '7047-FWEYA', '8731-WBBMB', '6692-YQHXC', '3750-CKVKH', '2495-KZNFB', '7854-EKTJL', '4929-BSTRX', '4831-EOBFE', '0264-CNITK', '4302-ZYFEL', '7568-PODML', '5482-PLVPE', '5146-YYFRZ', '8945-MUQUF', '9444-JTXHZ', '0607-MVMGC', '6963-EZQEE', '8225-BTJAU', '2207-RYYRL', '7294-TMAOP', '3571-DPYUH', '2429-AYKKO', '7878-JGDKK', '2038-LLMLM', '0366-NQSHS', '1248-DYXUB', '7554-AKDQF', '2129-ALKBS', '7102-JJVTX', '6972-SNKKW', '6664-FPDAC', '0557-ASKVU', '7302-ZHMHP', '3170-GWYKC', '6844-DZKRF', '0164-XAIRP', '3569-JFODW', '8587-XYZSF', '0374-FIUCA', '6358-LYNGM', '5057-RKGLH', '0742-MOABM', '0781-LKXBR', '8988-ECPJR', '6734-PSBAW', '1043-UXOVO', '8272-ONJLV', '0895-UADGO', '5995-LFTLE', '4227-OJHAL', '0621-HJWXJ', '5442-BHQNG', '3569-EDBPQ', '4376-KFVRS', '7570-WELNY', '2608-BHKFN', '7073-QETQY', '7610-TVOPG', '7395-XWZOY', '2126-GSEGL', '2683-JXWQQ', '1744-JHKYS', '6994-ORCWG', '1716-LSAMB', '2187-LZGPL', '4459-BBGHE', '2668-TZSPS', '9503-XJUME', '1465-LNTLJ', '9048-JVYVF', '3642-GKTCT', '9822-OAOVB', '9715-WZCLW', '2065-MMKGR', '6839-ITVZJ', '9026-LHEVG', '3308-JSGML', '2587-YNLES', '1062-LHZOD', '7203-OYKCT', '2250-IVBWA', '0511-JTEOY', '9972-VAFJJ', '9443-JUBUO', '9300-AGZNL', '9640-ZSLDC', '8118-LSUEL', '7976-CICYS', '7225-IILWY', '8397-MVTAZ', '2419-FSORS', '5337-IIWKZ', '0611-DFXKO', '8668-KNZTI', '9259-PACGQ', '1207-BLKSA', '8760-ZRHKE', '9643-AVVWI', '0365-TRTPY', '7426-RHZGU', '3720-DBRWL', '2890-WFBHU', '9851-KIELU', '7929-SKFGK', '8752-STIVR', '8150-QUDFX', '4816-LXZYW', '9577-WJVCQ', '6029-CSMJE', '7030-NJVDP', '6214-EDAKZ', '6892-BOGQE', '9534-NSXEM', '1240-KNSEZ', '4323-ELYYB', '7021-XSNYE', '1494-EJZDW', '7696-CFTAT', '3588-WSTTJ', '1589-AGTLK', '6907-CQGPN', '3034-ZBEQN', '4450-MDZFX', '4343-EJVQB', '6705-LXORM', '4973-MGTON', '5119-NZPTV', '6386-SZZKH', '3508-VLHCZ', '8740-CRYFY', '8821-KVZKQ', '2223-KAGMX', '4883-KCPZJ', '2916-BQZLN', '3400-ESFUW', '6778-JFCMK', '6928-ONTRW', '5304-EFJLP', '2038-OEQZH', '0203-HHYIJ', '7587-AOVVU', '6339-TBELP', '5539-HIVAK', '3606-TWKGI', '8180-AKMJV', '0369-ZGOVK', '1187-WILMM', '3301-VKTGC', '3070-FNFZQ', '0620-DLSLK', '1452-VOQCH', '2921-XWDJH', '9770-KXGQU', '7271-AJDTL', '5973-EJGDP', '2519-LBNQL', '1568-LJSZU', '2043-WVTQJ', '3750-YHRYO', '4210-QFJMF', '4634-JLRJT', '1544-JJMYL', '2455-USLMV', '5167-GBFRE', '5099-BAILX', '2581-VKIRT', '9860-LISIZ', '0188-GWFLE', '6510-UPNKS', '3092-IGHWF', '9220-CXRSC', '2242-MFOTG', '9124-LHCJQ', '1009-IRMNA', '5995-OIGLP', '4717-GHADL', '9661-ACXBS', '4710-NKCAW', '8847-GEOOQ', '3417-TSCIC', '9019-QVLZD', '0336-KXKFK', '7219-TLZHO', '2798-NYLMZ', '0256-LTHVJ', '2153-MREFK', '1624-WOIWJ', '9909-DFRJA', '6723-CEGQI', '0993-OSGPT', '1591-NFNLQ', '6982-SSHFK', '6726-WEXXK', '0016-QLJIS', '9185-TQCVP', '5133-VRSAB', '5939-XAIXZ', '7684-XSZIY', '2040-OBMLJ', '5504-WSIUR', '5233-AOZUF', '5898-IGSLP', '1866-NXPSP', '1157-BQCUW', '7142-HVGBG', '9441-QHEVC', '5868-YWPDW', '1122-JWTJW', '2674-MIAHT', '0739-UUAJR', '1269-FOYWN', '6308-CQRBU', '4979-HPRFL', '0670-ANMUU', '6838-YAUVY', '0208-BPQEJ', '0328-GRPMV', '5392-AKEMH', '9070-BCKQP', '7858-GTZSP', '8812-ZRHFP', '6328-ZPBGN', '9600-NAXZN', '6993-OHLXR', '9921-ZVRHG', '8051-HJRLT', '9578-FOMUK', '4098-NAUKP', '7571-YXDAD', '9391-YZEJW', '4441-NIHPT', '5240-CAOYT', '6490-FGZAT', '2398-YPMUR', '2085-JVGAD', '2541-YGPKE', '6434-TTGJP', '9199-PWQVC', '9700-ZCLOT', '8727-XDPUD', '5054-IEXZT', '2832-KJCRD', '8878-HMWBV', '7601-WFVZV', '3055-VTCGS', '1866-DIOQZ', '2450-ZKEED', '6400-BWQKW', '3766-EJLFL', '9814-AOUDH', '4550-EVXNY', '4129-LYCOI', '1942-OQFRW', '5832-EXGTT', '8818-XYFCQ', '0848-ZGQIJ', '7434-SHXLS', '3943-KDREE', '5243-SAOTC', '7852-LECYP', '3223-WZWJM', '3208-YPIOE', '9200-NLNPD', '4566-GOLUK', '2688-BHGOG', '7325-ENZFI', '3764-MNMOI', '8265-HKSOW', '2651-ZCBXV', '4896-CPRPF', '9605-WGJVW', '2055-SIFSS', '8869-TORSS', '3721-CNEYS', '6257-RJOHI', '5780-INQIK', '9572-MTILT', '2615-YVMYX', '9624-EGDEQ', '7159-FVYPK', '2800-VEQXM', '3890-RTCMS', '5914-GXMDA', '0254-FNMCI', '2862-PFNIK', '2929-ERCFZ', '2632-IVXVF', '7033-CLAMM', '4432-ADRLB', '8262-COGGB', '8060-HIWJJ', '0650-BWOZN', '0962-CQPWQ', '9786-YWNHU', '0156-FVPTA', '8429-XIBUM', '8510-TMWYB', '5875-YPQFJ', '1891-QRQSA', '1069-QJOEE', '3621-CHYVB', '6855-VLGOS', '1998-VHJHK', '7134-HBPBS', '5393-HJZSM', '2300-RQGOI', '5419-CONWX', '5027-YOCXN', '7326-RIGQZ', '2361-UPSND', '6496-SLWHQ', '8189-HBVRW', '6345-HOVES', '4801-JZAZL', '9114-DPSIA', '2211-RMNHO', '9680-NIAUV', '5570-PTWEH', '9046-JBFWA', '7446-SFAOA', '1728-CXQBE', '5317-FLPJF', '4176-RELJR', '9099-FTUHS', '0701-RFGFI', '5143-EGQFK', '8914-RBTSB', '5797-APWZC', '8165-CBKXO', '2511-ALLCS', '4385-GZQXV', '8708-XPXHZ', '0137-OCGAB', '6250-CGGUN', '0436-TWFFZ', '0228-MAUWC', '7856-GANIL', '1335-MXCSE', '6591-QGOYB', '8894-JVDCV', '6950-TWMYB', '5356-CSVSQ', '2626-URJFX', '6569-KTMDU', '0239-OXEXL', '1930-BZLHI', '8395-ETZKQ', '6518-PPLMZ', '7579-OOPEC', '0326-VDYXE', '6278-FEPBZ', '9715-SBVSU', '0058-EVZWM', '1965-DDBWU', '1172-VIYBP', '8220-OCUFY', '2833-SLKDQ', '7469-LKBCI', '8711-LOBKY', '2637-FKFSY', '9392-XBGTD', '8050-DVOJX', '8433-WPJTV', '0877-SDMBN', '0455-XFASS', '9668-PUGNU', '8679-JOEVF', '5095-AESKG', '0536-ACXIP', '3144-AUDBS', '9658-WYUFB', '0431-APWVY', '2819-GWENI', '3239-TPHPZ', '8972-HJWNV', '3669-LVWZB', '1436-ZMJAN', '7396-VJUZB', '0030-FNXPP', '4707-YNOQA', '4183-MYFRB', '0582-AVCLN', '8028-PNXHQ', '9512-UIBFX', '4480-MBMLB', '2135-DQWAQ', '1042-HFUCW', '1771-OADNZ', '7530-HDYDS', '6603-QWSPR', '0689-DSXGL', '7228-OMTPN', '8993-PHFWD', '5816-SCGFC', '5845-BZZIB', '8612-GXIDD', '7394-FKDNK', '1338-CECEE', '2873-ZLIWT', '9820-RMCQV', '6956-SMUCM', '3391-JSQEW', '5599-HVLTW', '6873-UDNLD', '1088-CNNKB', '8785-EPNCG', '4374-YMUSQ', '8237-ULIXL', '9500-WBGRP', '9061-TIHDA', '5699-BNCAS', '7711-YIJWC', '6292-TOSSS', '8597-CWYHH', '2560-PPCHE', '9846-GKXAS', '7602-DBTOU', '9929-PLVPA', '1984-FCOWB', '9589-ABEPT', '9477-LGWQI', '6040-CGACY', '5876-QMYLD', '5590-BYNII', '3325-FUYCG', '4513-CXYIX', '5227-JSCFE', '1345-GKDZZ', '2817-LVCPP', '6599-RCLCJ', '7268-WNTCP', '6457-USBER', '0071-NDAFP', '0402-CQAJN', '9638-JIQYA', '7244-KXYZN', '5954-BDFSG', '6416-TVAIH', '3961-SXAXY', '1612-EOHDH', '0377-JBKKT', '8735-SDUFN', '1557-EMYVT', '6797-UCJHZ', '1000-AJSLD', '3317-VLGQT', '3855-ONCAR', '0885-HMGPY', '8896-RAZCR', '7567-ECMCM', '0799-DDIHE', '4090-KPJIP', '1202-KKGFU', '7191-ADRGF', '4778-IZARL', '0843-WTBXE', '7269-JISCY', '7120-RFMVS', '5995-WWKKG', '0128-MKWSG', '4937-QPZPO', '3787-TRIAL', '0537-QYZZN', '1110-KYLGQ', '2716-GFZOR', '8035-PWSEV', '5429-LWCMV', '1089-XZWHH', '6749-UTDVX', '0680-DFNNY', '5438-QMDDL', '1810-BOHSY', '4626-GYCZP', '8707-HOEDG', '5816-JMLGY', '6304-IJFSQ', '1261-FWTTE', '7688-AWMDX', '6859-RKMZJ', '3870-MQAMG', '2176-OSJUV', '4751-ERMAN', '2946-KIQSP', '8773-HHUOZ', '3370-GQEAL', '3736-BLEPA', '6112-KTHFQ', '6974-DAFLI', '0042-JVWOJ', '1357-BIJKI', '1265-ZFOSD', '0461-CVKMU', '3384-CTMSF', '9432-RUVSL', '4981-FLTMF', '2361-FJWNO', '5562-YJQGT', '1169-WCVAK', '5110-CHOPY', '9040-KZVWO', '1449-XQEMT', '8443-ZRDBZ', '0983-TATYJ', '1143-NMNQJ', '1545-ACTAS', '0953-LGOVU', '6447-GORXK', '5562-BETPV', '4720-VSTSI', '1456-TWCGB', '5198-HQAEN', '1963-VAUKV', '9134-CEQMF', '0100-DUVFC', '3704-IEAXF', '8006-PYCSW', '2207-NHRJK', '8189-XRIKE', '3227-WLKLI', '3552-CTCYF', '1894-IGFSG', '9909-IDLEK', '4878-BUNFV', '3113-IWHLC', '6959-GQEGV', '5669-SRAIP', '6668-CNMFP', '2103-ZRXFN', '0723-FDLAY', '7993-NQLJE', '9746-MDMBK', '5115-GZDEL', '7945-HLKEA', '0786-VSSUD', '1268-ASBGA', '2379-ENZGV', '7718-RXDGG', '8008-OTEZX', '6345-ULYRW', '6509-TSGWN', '3733-ZEECP', '0230-UBYPQ', '3589-PPVKW', '1272-ILHFG', '6551-GNYDG', '1184-PJVDB', '7279-BUYWN', '5201-CBWYG', '3530-VWVGU', '0931-MHTEM', '7824-PANSQ', '3086-RUCRN', '2265-CYWIV', '7581-EBBOU', '9039-ZVJDC', '7905-TVXTA', '9547-ITEFG', '7501-VTYLJ', '8356-WUAOJ', '2037-SGXHH', '7110-BDTWG', '9752-ZNQUT', '5876-HZVZM', '2684-EIWEO', '8807-OPMBM', '9371-BITHB', '3756-VNWDH', '4012-YCFAI', '4692-NNQRU', '6704-UTUKK', '0052-YNYOT', '7432-FFVAR', '0815-MFZGM', '8152-UOBNY', '4851-BQDNX', '5879-SESNB', '8999-EXMNO', '8033-VCZGH', '3085-QUOZK', '7508-SMHXL', '4706-AXVKM', '8393-JMVMB', '3509-GWQGF', '0679-IDSTG', '0362-RAOQO', '7273-TEFQD', '3165-HDOEW', '8404-FYDIB', '3523-BRGUW', '6479-SZPLM', '7153-CHRBV', '2669-QVCRG', '9581-GVBXT', '3999-WRNGR', '2573-GYRUU', '8085-MSNLK', '5349-IECLD', '1087-UDSIH', '7025-WCBNE', '2292-XQWSV', '0298-XACET', '2203-GHNWN', '9294-TDIPC', '8580-AECUZ', '2782-JEEBU', '5533-NHFRF', '4988-IQIGL', '9894-QMIMJ', '9415-ZNBSX', '2703-AMTUL', '4973-RLZVI', '5032-USPKF', '1206-EHBDD', '1777-JYQPJ', '9537-JALFH', '7929-DMBCV', '2828-SLQPF', '6171-ZTVYB', '3963-RYFNS', '6483-OATDN', '3705-RHRFR', '2371-JQHZZ', '6110-OHIHY', '9621-OUPYD', '6680-NENYN', '6599-CEBNN', '4897-QSUYC', '4816-JBHOV', '6586-PSJOX', '4789-KWMXN', '5310-NOOVA', '8065-BVEPF', '0379-DJQHR', '3594-IVHJZ', '3808-HFKDE', '9880-TDQAC', '7018-FPXHH', '5276-KQWHG', '3254-YRILK', '4237-CLSMM', '7625-XCQRH', '0234-TEVTT', '6770-XUAGN', '2725-TTRIQ', '0839-QNXME', '5478-JJVZK', '8224-KDLKN', '0330-IVZHA', '8739-XNIKG', '2877-VDUER', '0804-XBFBV', '8634-CILSZ', '1304-NECVQ', '9138-EFSMO', '1396-QWFBJ', '9873-MNDKV', '8710-YGLWG', '5724-BIDBU', '3633-CDBUW', '5067-WJEUN', '1845-ZLLIG', '4323-SADQS', '6804-GDMOI', '5644-PDMZC', '8601-QACRS', '9084-OAYKL', '7109-MFBYV', '3721-CNZHX', '9445-ZUEQE', '1845-CSBRZ', '0854-UYHZD', '6418-PIQSP', '9895-VFOXH', '9418-RUKPH', '4724-WXVWF', '7392-YYPYJ', '8884-MRNSU', '9898-KZQDZ', '3910-MRQOY', '3134-DSHVC', '3026-ATZYV', '0487-RPVUM', '7617-EYGLW', '4538-WNTMJ', '6425-YQLLO', '9079-YEXQJ', '8087-LGYHQ', '1114-CENIM', '7860-KSUGX', '2853-CWQFQ', '7851-FLGGQ', '8261-GWDBQ', '4678-DVQEO', '4942-VZZOM', '1597-LHYNC', '5315-CKEQK', '7398-SKNQZ', '7742-MYPGI', '3580-REOAC', '5502-RLUYV', '8007-YYPWD', '5146-CBVOE', '2969-VAPYH', '3566-CAAYU', '8022-BECSI', '8100-HZZLJ', '3521-MNKLV', '3486-NPGST', '4625-LAMOB', '0820-FNRNX', '1045-LTCYT', '1023-BQXZE', '7129-CAKJW', '8347-GDTMP', '0074-HDKDG', '5035-PGZXH', '4950-HKQTE', '2364-UFROM', '1258-YMZNM', '9626-VFRGG', '1386-ZIKUV', '4143-OOBWZ', '1550-LOAHA', '1685-BQULA', '0516-UXRMT', '1934-MKPXS', '4915-BFSXL', '8835-VSDSE', '3161-GETRM', '0442-ZXKVS', '9488-HGMJH', '5028-GZLDO', '4541-RMRLG', '9462-MJUAW', '2809-ZMYOQ', '7980-MHFLQ', '3389-KTRXV', '5804-JMYIO', '2876-VBBBL', '1262-OPMFY', '9776-OJUZI', '6302-JGYRJ', '8976-OQHGT', '1658-TJVOA', '9921-EZKBY', '1371-DWPAZ', '4674-HGNUA', '9298-WGMRW', '6476-EPYZR', '6711-FLDFB', '7551-DACSP', '8337-UPOAQ', '7562-UXTPG', '0829-DDVLK', '7421-ZLUPA', '3900-AQPHZ', '7312-XSBAT', '7876-AEHIG', '2373-NTKOD', '5003-OKNNK', '0306-JAELE', '0384-LPITE', '5766-FTRTS', '7587-RZNME', '6295-OSINB', '5666-MBJPT', '1679-JRFBR', '6656-JWRQX', '4182-BGSIQ', '2632-TACXW', '3682-YEUWS', '6619-RPLQZ', '6311-UEUME', '0327-WFZSY', '4114-QMKVN', '7234-FECYN', '7000-WCEVQ', '8065-QBYTO', '7748-UMTRK', '9102-OXKFY', '5930-GBIWP', '0230-WEQUW', '3050-RLLXC', '1965-AKTSX', '8313-KTIHG', '3452-ABWRL', '3569-VLDHH', '2907-ILJBN', '1563-IWQEX', '5514-YQENT', '0064-SUDOG', '8837-VVWLQ', '8871-JLMHM', '8725-JEDFD', '2249-YPRNG', '5485-WUYWF', '9170-CCKOU', '7892-POOKP', '6616-AALSR', '9838-BFCQT', '8639-NHQEI', '4860-IJUDE', '6754-LZUKA', '4132-POCZS', '0623-EJQEG', '3422-LYEPQ', '6732-FZUGP', '1343-EHPYB', '8807-ARQET', '2911-UREFD', '3161-ONRWK', '1320-GVNHT', '0657-DOGUM', '7310-EGVHZ', '6439-PKTRR', '4531-AUZNK', '3813-DHBBB', '2967-MXRAV', '1431-CYWMH', '7795-CFOCW', '8496-EJAUI', '1091-SOZGA', '8992-VONJD', '2070-FNEXE', '2108-XWMPY', '3810-DVDQQ', '6465-GSRCL', '2692-PFYTJ', '5134-IKDAY', '8097-VBQTZ', '1169-SAOCL', '0691-NIKRI', '4195-SMMNX', '3737-XBQDD', '8566-YPRGL', '8309-IEYJD', '5016-IBERQ', '9804-ICWBG', '5324-KTGCG', '1095-WGNGG', '0603-OLQDC', '2845-HSJCY', '4029-HPFVY', '5597-GLBUC', '6988-CJEYV', '2293-IJWPS', '8845-LWKGE', '5968-VXZLG', '1354-YZFNB', '2018-QKYGT', '6332-FBZRI', '7130-VTEWQ', '0872-NXJYS', '7240-FQLHE', '3067-SVMTC', '7607-QKKTJ', '6907-NZZIJ', '9968-FFVVH', '1353-LJWEM', '0835-DUUIQ', '0971-QIFJK', '7016-NVRIC', '8779-YIQQA', '7613-LLQFO', '4163-KIUHY', '5396-IZEPB', '0581-BXBUB', '1370-GGAWX', '1073-XXCZD', '7905-NJMXS', '0841-NULXI', '4652-NNHNY', '1150-WFARN', '8260-NGFNY', '3126-WQMGH', '1955-IBMMB', '4631-OACRM', '3104-OWCGK', '3373-YZZYM', '1635-NZATJ', '8152-VETUR', '6633-MPWBS', '9788-HNGUT', '1085-LDWAM', '1230-QAJDW', '5186-SAMNZ', '6917-FIJHC', '6599-GZWCM', '6161-UUUTA', '9564-KCLHR', '9553-DLCLU', '6445-TNRXS', '1271-UODNO', '0404-AHASP', '2885-HIJDH', '9504-YAZWB', '7876-DNYAP', '0295-PPHDO', '6563-VNPMN', '0420-BWTPW', '4873-ILOLJ', '9355-NPPFS', '8165-ZJRNM', '1208-DNHLN', '5327-CNLUQ', '5555-RNPGT', '1394-SUIUH', '6683-VLCTZ', '2815-CPTUL', '4537-DKTAL', '5327-XOKKY', '0932-YIXYU', '7639-OPLNG', '9033-EOXWV', '9728-FTTVZ', '9173-IVZVP', '5995-SNNEW', '2482-CZGBB', '1092-WPIVQ', '8791-GFXLZ', '6777-TGHTM', '6878-GGDWG', '4021-RQSNY', '8992-OBVDG', '0661-KQHNK', '0567-GGCAC', '4002-BQWPQ', '3803-KMQFW', '6103-QCKFX', '6663-JOCQO', '7013-PSXHK', '0404-SWRVG', '5915-DGNVC', '2530-ENDWQ', '7267-FRMJW', '7009-LGECI', '2007-QVGAW', '5103-MHMHY', '3402-XRIUO', '8652-YHIYU', '6862-CQUMB', '1273-MTETI', '4830-FAXFM', '9128-CPXKI', '2302-OUZXB', '1976-CFOCS', '8417-GSODA', '1429-UYJSV', '6388-TABGU', '3996-ZNWYK', '4959-JOSRX', '8109-YUOHE', '6845-RGTYS', '3757-NJYBX', '0458-HEUZG', '6351-SCJKT', '9896-UYMIE', '8375-DKEBR', '6585-WCEWR', '4003-OCTMP', '4546-FOKWR', '9767-FFLEM', '9522-BNTHX', '3082-WQRVY', '2937-FTHUR', '0107-WESLM', '0430-IHCDJ', '9003-CPATH', '6127-ISGTU', '7542-CYDDM', '6016-LVTJQ', '9661-JALZV', '1724-IQWNM', '7593-JNWRU', '7465-ZZRVX', '9625-QNLUX', '7526-IVLYU', '2335-GSODA', '6702-OHFWR', '7351-MHQVU', '7544-ZVIKX', '2506-TNFCO', '4795-WRNVT', '7299-GNVPL', '2027-WKXMW', '4013-UBXWQ', '0292-WEGCH', '2189-WWOEW', '0320-DWVTU', '3563-SVYLG', '3524-WQDSG', '8580-QVLOC', '5248-RPYWW', '6177-PEVRA', '8687-BAFGU', '1725-MIMXW', '0129-QMPDR', '8398-TBIYD', '5605-IYGFG', '5684-FJVYR', '8715-KKTFG', '6140-QNRQQ', '0810-BDHAW', '2294-DMMUS', '2479-BRAMR', '7096-UCLNH', '9269-CQOOL', '1304-SEGFY', '1723-HKXJQ', '3410-MHHUM', '2626-VEEWG', '9107-UKCKY', '8745-PVESG', '6579-JPICP', '7128-GGCNO', '9839-ETQOE', '6549-YMFAW', '3320-VEOYC', '8590-YFFQO', '4006-HKYHO', '3587-PMCOY', '6457-GIRWB', '9626-WEQRM', '1159-WFSGR', '3148-BLQJT', '9432-VOFYX', '6559-RAKOZ', '8969-PRHFK', '5981-ITEMU', '7601-GNDYK', '0401-WDBXM', '4767-HZZHQ', '8695-WDYEA', '1032-MAELW', '9572-WUKSB', '2277-VWCNI', '8413-VONUO', '2603-HVKCG', '7291-CDTMJ', '9412-ARGBX', '5387-ASZNZ', '9483-GCPWE', '1389-CXMLU', '6990-YNRIO', '6538-POCHL', '8207-VVMYB', '1937-OTUKY', '8229-BUJHX', '2082-OJVTK', '6892-XPFPU', '1492-QGCLU', '4686-UXDML', '0191-EQUUH', '2348-KCJLT', '4597-ELFTS', '8623-TMRBY', '7802-EFKNY', '9330-VOFSZ', '5480-TBGPH', '2898-LSJGD', '6259-WJQLC', '6784-XYJAE', '6366-ZGQGL', '3717-LNXKW', '1977-STDKI', '9050-IKDZA', '0428-AXXLJ', '2636-ALXXZ', '2460-NGXBJ', '0265-PSUAE', '0415-MOSGF', '9220-ZNKJI', '8610-WFCJF', '5077-DXTCG', '2272-UOINI', '0675-NCDYU', '5443-SCMKX', '6584-VQMYT', '3678-MNGZX', '2091-GPPIQ', '8242-PDSGJ', '7868-TMWMZ', '5708-EVONK', '8017-UVSZU', '7743-EXURX', '9206-GVPEQ', '8168-UQWWF', '6549-NNDYT', '5827-MWCZK', '2276-YDAVZ', '1910-FMXJM', '9739-JLPQJ', '5707-ZMDJP', '4094-NSEDU', '0568-ONFPC', '1814-DKOLC', '2079-FBMZK', '5148-HKFIR', '0103-CSITQ', '9689-PTNPG', '0265-EDXBD', '7928-VJYAB', '0771-CHWSK', '5188-HGMLP', '7279-NMVJC', '0936-NQLJU', '5976-JCJRH', '0463-ZSDNT', '1334-FJSVR', '6507-DTJZV', '9253-VIFJQ', '5133-POWUA', '8849-AYPTR', '5825-XJOCM', '1345-ZUKID', '4009-ALQFH', '1764-VUUMT', '7306-YDSOI', '2987-BJXIK', '5062-CJJKH', '3194-ORPIK', '1135-HIORI', '3546-GHEAE', '5567-WSELE', '4770-UEZOX', '5322-TEUJK', '2236-HILPA', '5117-ZSMHQ', '0361-HJRDX', '4998-IKFSE', '7181-BQYBV', '3424-NMNBO', '5167-ZFFMM', '8215-NGSPE', '4806-DXQCE', '3786-WOVKF', '9692-TUSXH', '9223-UCPVT', '9089-UOWJG', '8650-RHRKE', '1319-YLZJG', '5985-TBABQ', '0345-XMMUG', '3323-CPBWR', '9494-BDNNC', '7018-WBJNK', '7399-QHBJS', '0280-XJGEX', '2027-FECZV', '4803-AXVYP', '8908-NMQTX', '2120-SMPEX', '3440-JPSCL', '6834-NXDCA', '8671-KKKOS', '7517-SAWMO', '0788-DXBFY', '8958-JPTRR', '0580-PIQHM', '9229-RQABD', '4277-BWBML', '0816-TSPHQ', '7208-PSIHR', '3318-OSATS', '3520-FJGCV', '3500-NSDOA', '3841-NFECX', '2983-ZANRP', '5125-CNDSP', '0277-BKSQP', '8433-WXGNA', '3099-OONVS', '4325-NFSKC', '3027-ZTDHO', '8465-SBRXP', '2886-KEFUM', '4616-EWBNJ', '5716-EZXZN', '5736-YEJAX', '0529-ONKER', '0733-VUNUW', '4208-UFFGW', '2233-TXSIU', '8844-TONUD', '2522-AHJXR', '4903-UYAVB', '9518-RWHZL', '9708-HPXWZ', '9290-SHCMB', '5792-JALQC', '2874-YXVVA', '1194-SPVSP', '7956-XQWGU', '3957-SQXML', '1221-GHZEP', '9803-FTJCG', '0495-RVCBF', '8902-ZEOVF', '2904-GGUAZ', '4636-OLWOE', '0666-UXTJO', '0716-BQNDX', '0871-OPBXW', '9507-EXLTT', '2194-IIQOF', '8990-YOZLV', '0322-YINQP', '9958-MEKUC', '5172-RKOCB', '2642-DTVCO', '1265-BCFEO', '2696-NARTR', '7547-EKNFS', '1215-EXRMO', '3988-RQIXO', '5242-UOWHD', '6770-UAYGJ', '0402-OAMEN', '9992-UJOEL', '4544-RXFMG', '6857-VWJDT', '7064-JHXCE', '5600-KTXFM', '2400-FEQME', '2159-TURXX', '9754-CLVZW', '0567-XRHCU', '3680-CTHUH', '0772-GYEQQ', '9866-QEVEE', '3658-QQJYD', '1657-DYMBM', '7225-CBZPL', '7161-DFHUF', '2056-EVGZL', '7356-AYNJP', '2372-HWUHI', '3804-RVTGV', '4910-GMJOT', '0407-BDJKB', '6199-IWKGC', '2085-BOJKI', '4584-LBNMK', '9488-FVZCC', '8232-UTFOZ', '5052-PNLOS', '7248-VZQLC', '2599-CIPQE', '0112-QWPNC', '8384-FZBJK', '9796-MVYXX', '7789-HKSBS', '0541-FITGH', '9916-AYHTC', '2569-WGERO', '9574-BOSMD', '6368-NWMCE', '6848-HJTXY', '0463-WZZKO', '7010-ZMVBF', '9685-WKZGT', '3629-WEAAM', '0988-JRWWP', '4765-OXPPD', '2533-QVMSK', '8646-JCOMS', '4445-KWOKW', '2252-ISRNH', '2786-GCDPI', '1320-HTRDR', '2868-SNELZ', '0164-APGRB', '6738-ISCBM', '9955-QOPOY', '8434-VGEQQ', '8309-PPCED', '1624-NALOJ', '1342-JPNKI', '4693-VWVBO', '9584-EXCDZ', '5499-ECUTN', '1696-MZVAU', '3865-YIOTT', '2446-ZKVAF', '1309-BXVOQ', '9738-QLWTP', '3280-NMUVX', '1839-UMACK', '0641-EVBOJ', '1442-BQPVU', '5524-KHNJP', '5774-XZTQC', '1134-YWTYF', '0744-BIKKF', '6179-GJPSO', '3392-EHMNK', '5373-SFODM', '5175-AOBHI', '5949-HGVJL', '7136-RVDTZ', '0626-QXNGV', '4933-BSAIP', '9609-BENEA', '9093-FPDLG', '6497-TILVL', '2347-WKKAE', '1460-UZPRJ', '9029-FEGVJ', '9964-WBQDJ', '8198-RKSZG', '7674-YTAFD', '4193-ORFCL', '2074-GUHPQ', '5135-GRQJV', '9818-XQCUV', '4877-TSOFF', '8822-KNBHV', '4913-EHYUI', '8547-NSBBO', '9139-WQQDY', '1950-KSVVJ', '1699-HPSBG', '3800-LYTRK', '9091-WTUUY', '6818-WOBHJ', '1839-FBNFR', '5577-OTWWW', '7729-JTEEC', '0929-HYQEW', '5176-OLSKT', '1763-WQFUK', '8879-XUAHX', '9971-ZWPBF', '0356-OBMAC', '4737-HOBAX', '4097-YODCF', '8498-XXGWA', '8565-CLBZW', '3594-UVONA', '2834-JRTUA', '2960-NKRSO', '8108-UXRQN', '8824-RWFXJ', '7924-GJZFI', '3059-NGMXB', '5692-FPTAH', '4776-XSKYQ', '9831-BPFRI', '7879-CGSFV', '2958-NHPPS', '2055-PDADH', '8644-XYTSV', '0080-OROZO', '2812-SFXMJ', '0214-JHPFW', '8963-MQVYN', '6195-MELTI', '8019-ENHXU', '9063-ZGTUY', '1371-WEPDS', '5231-FIQPA', '2041-JIJCI', '8280-MQRQN', '4933-IKULF', '9779-DPNEJ', '8058-JMEQO', '2284-VFLKH', '1866-RZZQS', '1796-JANOW', '0839-JTCUD', '4745-LSPLO', '5756-JYOJT', '6734-CKRSM', '6072-NUQCB', '3823-KYNQY', '5356-KZCKT', '6582-OIVSP', '9944-HKVVB', '1406-PUQVY', '9402-ROUMJ', '8993-IZEUX', '4013-GUXND', '1439-LCGVL', '5232-NXPAY', '3472-OAOOR', '3045-XETSH', '8224-DWCKX', '8648-PFRMP', '2439-QKJUL', '5996-NRVXR', '1927-QEWMY', '2595-KIWPV', '2550-QHZGP', '6794-HKIAJ', '6734-JDTTV', '9578-VRMNM', '7777-UNYHB', '1768-ZAIFU', '5329-KRDTM', '5533-RJFTJ', '3871-IKPYH', '6480-YAGIY', '1096-ADRUX', '5294-DMSFH', '8468-FZTOE', '0531-XBKMM', '3316-UWXUY', '4646-QZXTF', '9342-VNIMQ', '2072-ZVJJX', '4324-BZCKL', '3166-PNEOF', '1989-PRJHP', '0142-GVYSN', '4223-WOZCM', '1355-KUSBG', '4026-SKKHW', '7919-ZODZZ', '6086-ESGRL', '3982-JGSFD', '5630-AHZIL', '8016-ZMGMO', '2320-YKQBO', '8146-QQKZH', '7979-CORPM', '0512-FLFDW', '7020-OZKXZ', '6128-CZOMY', '0027-KWYKW', '8590-OHDIW', '5616-PRTNT', '5609-IMCGG', '7644-OMVMY', '8388-FYNPZ', '7632-YUTXB', '2729-VNVAP', '6408-OTUBZ', '1086-LXKFY', '9359-JANWS', '7249-WBIYX', '6893-ODYYE', '0278-YXOOG', '3669-OYSJI', '1049-FYSYG', '2019-HDCZY', '6075-QMNRR', '4307-KWMXE', '0383-CLDDA', '4883-QICIH', '8450-LUGUK', '4592-IWTJI', '3018-TFTSU', '6625-FLENO', '7137-RYLPP', '3413-CSSTH', '0952-KMEEH', '7314-OXENN', '8336-TAVKX', '3487-EARAT', '1142-IHLOO', '5692-ICXLW', '7722-VJRQD', '8510-AWCXC', '0019-EFAEP', '7943-RQCHR', '2165-VOEGB', '1776-SPBWV', '9871-ELEYA', '5651-CRHKQ', '5777-KJIRB', '9848-JQJTX', '7524-VRLPL', '8080-POTJR', '3090-QFUVD', '7690-KPNCU', '5150-LJNSR', '7641-EUYET', '3164-YAXFY', '9821-BESNZ', '8374-XGEJJ', '9601-BRXPO', '7973-DZRKH', '2225-ZRGSG', '7963-GQRMY', '6402-EJMWF', '9861-PDSZP', '1431-AIDJQ', '4335-BSMJS', '0840-DCNZE', '1455-UGQVH', '7083-MIOPC', '7339-POGZN', '8190-ZTQFB', '0876-WDUUZ', '8318-LCNBW', '2230-XTUWL', '8720-RQSBJ', '9095-HFAFX', '7825-ECJRF', '0363-SVHYR', '1414-YADCW', '7850-VWJUU', '6461-PPAXN', '9558-IHEZX', '4860-YZGZM', '2466-FCCPT', '2829-HYVZP', '7841-TZDMQ', '0412-UCCNP', '1478-VPOAD', '4163-NCJAK', '8778-LMWTJ', '6372-RFVNS', '9700-ISPUP', '1702-CCFNJ', '8552-OBVRU', '1024-GUALD', '3178-FESZO', '6243-OZGFH', '8390-FESFV', '9938-PRCVK', '4074-SJFFA', '9430-FRQOC', '1391-UBDAR', '4727-MCYZG', '7147-AYBAA', '5628-RKIFK', '3481-JHUZH', '7562-GSUHK', '9972-NKTFD', '5909-ECHUI', '5647-FXOTP', '1024-KPRBB', '5214-CHIWJ', '5014-GSOUQ', '3679-XASPY', '0895-LMRSF', '5075-JSDKI', '5256-SKJGO', '7296-PIXQY', '2977-CEBSX', '3873-WOSBC', '3186-BAXNB', '9957-YODKZ', '5493-SDRDQ', '4641-FROLU', '0225-ZORZP', '3001-CBHLQ', '0373-AIVNJ', '8495-LJDFO', '1095-JUDTC', '2867-UIMSS', '8699-ASUFO', '7966-YOTQW', '4553-DVPZG', '3967-VQOGC', '7233-PAHHL', '5129-JLPIS', '5345-BMKWB', '9546-KDTRB', '1470-PSXNM', '4391-RESHN', '7190-XHTWJ', '1934-SJVJK', '9068-VPWQQ', '9710-NJERN', '4701-LKOZD', '7643-RCHXS', '0867-MKZVY', '3675-EQOZA', '6379-RXJRQ', '2868-MZAGQ', '8450-UYIBU', '1373-ORVIZ', '2080-CAZNM', '2011-TRQYE', '7322-OCWHC', '0607-DAAHE', '3457-PQBYH', '7548-SEPYI', '7044-YAACC', '5828-AVIPD', '3276-HDUEG', '6651-AZVTJ', '2682-KEVRP', '4817-VYYWS', '8922-LIEGH', '0440-MOGPM', '4274-OWWYO', '1402-PTHGN', '3198-VELRD', '3446-QDSZF', '4644-OBGFZ', '0689-NKYLF', '4086-YQSNZ', '5046-NUHWD', '5389-FFVKB', '4690-PKDQG', '0991-BRRFB', '4195-NZGTA', '2111-DWYHN', '1092-GANHU', '7079-QRCBC', '4685-ERGHK', '2208-NQBCT', '5893-PYOLZ', '5835-BEQEU', '2761-XECQW', '4629-NRXKX', '9732-OUYRN', '5542-TBBWB', '5854-KSRBJ', '2393-DIVAI', '8985-OOPOS', '0707-HOVVN', '6390-DSAZX', '8375-KVTHK', '0533-BNWKF', '7576-JMYWV', '2408-TZMJL', '5619-PTMIK', '4501-VCPFK', '2386-LAHRK', '1320-REHCS', '0684-AOSIH', '0168-XZKBB', '2176-LVPNX', '9430-NKQLY', '9209-NWPGU', '3696-XRIEN', '6248-TKCQV', '4355-HBJHH', '5868-CZJDR', '3716-LRGXK', '9470-XCCEM', '1635-HDGFT', '0151-ONTOV', '5207-PLSTK', '0206-OYVOC', '6876-ADESB', '3727-JEZTU', '0295-QVKPB', '7278-CKDNC', '7908-QCBCA', '4709-LKHYG', '7493-GVFIO', '7502-BNYGS', '8584-KMVXD', '5578-NKCXI', '7495-OOKFY', '1918-ZBFQJ', '9844-FELAJ', '0564-JJHGS', '9602-WCXPI', '0980-PVMRC', '9853-JFZDU', '8292-FRFZQ', '4418-LZMSV', '6029-WTIPC', '7011-CVEUC', '3865-QBWSJ', '6067-NGCEU', '4203-QGNZA', '4583-PARNH', '1452-XRSJV', '5565-FILXA', '9874-QLCLH', '8092-NLTGF', '0315-LVCRK', '1015-JPFYW', '9677-AVKED', '3853-LYGAM', '6927-WTFIV', '3296-SILRA', '8806-EAGWC', '9445-SZLCH', '2108-GLPQB', '2791-SFVEW', '9993-LHIEB', '0337-CNPZE', '2676-ISHSF', '5331-RGMTT', '6980-IMXXE', '3779-OSWCF', '6024-RUGGH', '6559-PDZLR', '8676-OOQEJ', '9938-TKDGL', '0859-YGKFW', '5140-FOMCQ', '7409-JURKQ', '5598-IKHQQ', '6543-CPZMK', '9693-XMUOB', '4295-YURET', '9297-EONCV', '4254-QPEDE', '6439-GTPCA', '7838-LAZFO', '7486-KSRVI', '3744-ZBHON', '4803-LBYPN', '2180-DXNEG', '0516-VRYBW', '7951-QKZPL', '6598-RFFVI', '4430-UZIPO', '8909-BOLNL', '2560-WBWXF', '1752-OZXFY', '9399-APLBT', '3452-FLHYD', '6374-NTQLP', '9036-CSKBW', '6502-MJQAE', '8277-RVRSV', '6507-ZJSUR', '2661-GKBTK', '6905-NIQIN', '5149-QYTTU', '4667-OHGKG', '3662-FXJFO', '8173-RXAYP', '6234-PFPXL', '1265-XTECC', '5419-JPRRN', '5038-ETMLM', '2499-AJYUA', '2143-LJULT', '1093-YSWCA', '7089-IVVAZ', '9586-JGQKH', '3451-VAWLI', '8455-HIRAQ', '2806-MLNTI', '3407-QGWLG', '5756-OZRIO', '5702-KVQRD', '2115-BFTIW', '2068-WWXQZ', '0268-QKIWO', '8469-SNFFH', '3278-FSIXX', '3427-GGZZI', '7247-XOZPB', '7564-GHCVB', '7579-KKLOE', '7801-CEDNV', '0639-TSIQW', '8166-ORCHU', '5590-ZSKRV', '1227-UDMZR', '5074-FBGHB', '1395-WSWXR', '7799-DSEWS', '2982-IHMFT', '3797-VTIDR', '5168-MQQCA', '9402-CXWPL', '0576-WNXXC', '6176-YJWAS', '1663-MHLHE', '3091-FYHKI', '8182-PNAGI', '7696-AMHOD', '8076-FEZKJ', '4072-IPYLT', '2740-TVLFN', '3810-PJUHR', '6746-WAUWT', '4816-OKWNX', '6377-WHAOX', '6574-MCOEH', '8749-TZYEC', '2824-MYYBN', '4607-CHPCA', '9143-CANJF', '9365-CSLBQ', '9447-YPTBX', '4361-JEIVL', '9501-UKKNL', '8082-GHXOP', '6038-GCYEC', '5698-BQJOH', '1051-EQPZR', '2804-ETQDK', '4950-BDEUX', '0754-EEBDC', '8706-HRADD', '5740-YHGTW', '4282-YMKNA', '5945-AZYHT', '0181-RITDD', '4855-SNKMY', '6994-FGRHH', '4859-ZSRDZ', '6464-KEXXH', '1016-DJTSV', '3612-YVGSJ', '4723-BEGSG', '5348-CAGXB', '1379-FRVEB', '0956-SYCWG', '1069-XAIEM', '7632-MNYOY', '4198-VFOEA', '4115-BNPJY', '2200-DSAAL', '1133-KXCGE', '6060-QBMGV', '1410-RSCMR', '2187-PKZAY', '8563-IIOXK', '3197-NNYNB', '4640-UHDOS', '5680-LQOGP', '1852-QSWCD', '4092-OFQZS', '1573-LGXBA', '7067-KSAZT', '9053-EJUNL', '4123-FCVCB', '7541-YLXCL', '9258-CNWAC', '8450-JOVAH', '9513-DXHDA', '6481-OGDOO', '7233-IOQNP', '8808-ELEHO', '5651-WYIPH', '3191-CSNMG', '2863-IMQDR', '0943-ZQPXH', '2342-CKIAO', '7940-UQQUG', '4685-TFLLS', '2927-QRRQV', '1120-BMWUB', '8714-EUHJO', '7670-ZBPOQ', '9710-ZUSHQ', '7252-NTGSS', '7673-LPRNY', '4317-VTEOA', '7746-QYVCO', '9225-BZLNZ', '6394-HHHZM', '1222-LRYKO', '1855-CFULU', '3807-XHCJH', '8480-PPONV', '3891-NLXJB', '5196-SGOAK', '1116-DXXDF', '4719-UMSIY', '3512-IZIKN', '6060-DRTNL', '0685-MLYYM', '8266-VBFQL', '3935-TBRZZ', '7717-BICXI', '0238-WHBIQ', '9381-NDKME', '3927-NLNRY', '3556-BVQGL', '1200-TUZHR', '5447-WZAFP', '7599-NTMDP', '5203-XEHAX', '5222-JCXZT', '7234-KMNRQ', '6252-DFGTK', '6986-IXNDM', '4194-WHFCB', '6741-QRLUP', '3707-LRWZD', '5568-DMXZS', '2675-DHUTR', '6481-ESCNL', '3712-PKXZA', '4713-LZDRV', '5640-CAXOA', '1862-QRWPE', '7765-LWVVH', '9052-VKDUW', '2805-AUFQN', '0115-TFERT', '0118-JPNOY', '3938-YFPXD', '1307-TVUFB', '1875-QIVME', '8295-KMENE', '8208-EUMTE', '2215-ZAFGX', '3537-RYBHH', '3070-BDOQC', '1254-IZEYF', '0939-YAPAF', '4521-WFJAI', '5318-IXUZF', '1393-IMKZG', '7065-YUNRY', '9509-MPYOD', '4290-BSXUX', '6771-XWBDM', '9046-DQMTP', '2722-VOJQL', '4854-CIDCF', '5274-XHAKY', '5136-KCKGI', '3096-IZETN', '3793-MMFUH', '0375-HVGXO', '0042-RLHYP', '5993-BQHEA', '6651-RLGGM', '3701-SFMUH', '1929-ZCBHE', '5442-UTCVD', '1215-VFYVK', '8631-WUXGY', '6233-HXJMX', '7998-ZLXWN', '7663-CUXZB', '8099-MZPUJ', '7356-IWLFW', '4137-JOPHL', '5552-ZNFSJ', '4360-PNRQB', '8630-FJLIB', '9907-SWKKF', '6992-TKNYO', '1640-PLFMP', '7816-VGHTO', '7826-VVKWT', '2139-FQHLM', '6131-JLWZM', '2391-SOORI', '6064-ZATLR', '9696-RMYBA', '4145-UQXUQ', '0378-TOVMS', '0853-NWIFK', '3415-TAILE', '3970-XGJDU', '3533-UVMOM', '0556-FJEGU', '2245-ADZFJ', '9714-EDSUC', '4919-MOAVT', '9256-JTBNZ', '9172-ANCRX', '4671-LXRDQ', '4822-LPTYJ', '8627-ZYGSZ', '6348-SNFUS', '3645-DEYGF', '4948-WBBKL', '8327-WKMIE', '6650-BWFRT', '6711-VTNRE', '6174-NRBTZ', '9537-VHDTA', '0134-XWXCE', '3863-IUBJR', '6051-PTVNS', '1958-RNRKS', '4116-IQRFR', '7167-PCEYD', '2811-POVEX', '7580-UGXNC', '9631-XEYKE', '3932-IJWDZ', '0336-PIKEI', '6285-FTQBF', '5195-KPUNQ', '5760-FXFVO', '0376-OIWME', '7401-RUBNK', '9068-FHQHD', '3590-TCXTB', '3538-WZPHD', '1552-TKMXS', '4139-DETXS', '4612-SSVHJ', '8696-JKZNU', '2452-MRMZF', '8380-MQINP', '9135-MGVPY', '1208-NBVFH', '7377-DMMRI', '7061-OVMIM', '5839-SUYVZ', '4312-KFRXN', '9442-JTWDL', '1325-USMEC', '2933-XEUJM', '5529-GIBVH', '6650-VJONK', '0390-DCFDQ', '2171-UDMFD', '1936-UAFEH', '9330-DHBFL', '3280-MRDOF', '1735-XMJVH', '4832-VRBMR', '6284-KMNUF', '6005-OBZPH', '8775-LHDJH', '5622-UEJFI', '9249-FXSCK', '8327-LZKAS', '2311-QYMUQ', '4712-AUQZO', '0489-WMEMG', '2369-FEVNO', '5687-DKDTV', '2577-GVSIL', '7218-HKQFK', '2252-NKNSI', '9906-NHHVC', '2676-SSLTO', '2330-PQGDQ', '5960-WPXQM', '0604-THJFP', '9013-AQORL', '2384-OVPSA', '6621-NRZAK', '6766-HFKLA', '5176-LMJXE', '4570-QHXHL', '5383-MMTWC', '8259-DZLIZ', '7113-HIPFI', '2722-JMONI', '8661-BOYNW', '4086-WITJG', '7473-ZBDSN', '1475-VWVDO', '3858-VOBET', '4923-ADWXJ', '3976-BWUCK', '7798-JVXYM', '7504-UWHNB', '0221-NAUXK', '8679-LZBMD', '1371-OJCEK', '6549-BTYPG', '2360-RDGRO', '8205-VSLRB', '3845-FXCYS', '2565-JSLRY', '4983-CCWMC', '5049-GLYVG', '2404-JIBFC', '7285-KLOTR', '2181-UAESM', '5899-MQZZL', '1534-OULXE', '1905-OEILC', '0464-WJTKO', '0602-DDUML', '1178-PZGAB', '3683-QKIUE', '1428-IEDPR', '8565-HBFNN', '5025-GOOKI', '5522-JBWMO', '3043-TYBNO', '7180-PISOG', '3915-ODIYG', '2150-WLKUW', '6686-YPGHK', '7169-YWAMK', '3214-IYUUQ', '5360-XGYAZ', '0956-ACVZC', '0248-IPDFW', '1602-IJQQE', '8042-RNLKO', '8329-IBCTI', '1140-UKVZG', '2959-EEXWB', '8869-LIHMK', '3933-DQPWX', '3898-GUYTS', '6394-MFYNG', '3090-HAWSU', '2075-RMJIK', '3623-FQBOX', '7124-UGSUR', '9995-HOTOH', '9108-EJFJP', '4018-KJYUY', '0867-LDTTC', '0831-JNISG', '5349-AZPEW', '8816-VXNZD', '0480-KYJVA', '6633-SYEUS', '0319-QZTCO', '6712-OAWRH', '5168-MSWXT', '9661-MHUMO', '3472-QPRCH', '9851-QXEEQ', '9169-BSVIN', '9489-UTFKA', '7615-ESMYF', '0442-TDYUO', '3753-TSEMP', '0668-OGMHD', '6969-MVBAI', '5795-BKOYE', '6985-HAYWX', '7105-BENQF', '4827-LTQRJ', '5018-LXQQG', '2792-VPPET', '8610-ZIKJJ', '1746-TGTWV', '0906-QVPMS', '3654-ARMGP', '7010-BRBUU', '4939-KYYPY', '4102-OQUPX', '3071-MVJCD', '6786-OBWQR', '6036-TTFYU', '5743-KHMNA', '1465-VINDH', '6143-JQKEA', '7481-ATQQS', '8634-MPHTR', '3030-YDNRM', '8982-NHAVY', '9932-WBWIK', '3143-ILDAL', '5828-DWPIL', '5020-ZSTTY', '9798-OPFEM', '1197-BVMVG', '2004-OCQXK', '9281-PKKZE', '4632-XJMEX', '5778-BVOFB', '4184-TJFAN', '5686-CMAWK', '6023-GSSXW', '4800-VHZKI', '6743-HHQPF', '0973-KYVNF', '4518-FZBSX', '9250-WYPLL', '4398-HSCJH', '3058-WQDRE', '6728-WYQBC', '8183-ONMXC', '9448-REEVD', '4312-GVYNH', '5799-JRCZO', '2739-CCZMB', '9828-QHFBK', '9647-ERGBE', '4662-EKDPQ', '3230-IUALN', '5628-FCGYG', '0374-AACSZ', '6257-DTAYD', '0129-KPTWJ', '4285-GYRQC', '6323-AYBRX', '2777-PHDEI', '4389-UEFCZ', '5214-NLTIT', '1891-FZYSA', '8344-WFMFH', '6092-QZVPP', '0020-JDNXP', '6131-FOYAS', '4759-TRPLW', '0135-NMXAP', '5893-KCLGT', '3096-JRDSO', '6022-KOUQO', '4817-QRJSX', '0665-XHDJU', '6161-ERDGD', '0229-LFJAF', '7691-XVTZH', '0308-GIQJT', '1216-JWVUX', '7452-FOLON', '9495-SKLKD', '2474-LCNUE', '7853-GVUDZ', '8980-WQFWL', '3748-FVMZZ', '9191-MYQKX', '8128-YVJRG', '6898-MDLZW', '0619-OLYUR', '2160-GPFXD', '9133-AYJZG', '1309-XGFSN', '1680-VDCWW', '8561-NMTBD', '8930-XOTDP', '5044-XDPYX', '9878-TNQGW', '6682-VCIXC', '8107-KNCIM', '2256-YLYLP', '0969-RGKCU', '4644-PIZRT', '7517-LDMPS', '6833-JMZYP', '7319-VENRZ', '3259-QMXUN', '5652-MSDEY', '0661-WCQNQ', '1963-SVUCV', '5260-UMPWX', '3001-UNBTL', '5858-EAFCZ', '8317-BVKSO', '3727-OVPRY', '4827-USJHP', '2405-LBMUW', '3716-UVSPD', '3874-EQOEP', '4431-EDMIQ', '2933-FILNV', '7534-BFESC', '2097-YVPKN', '7318-EIVKO', '6376-GAHQE', '8782-NUUOL', '1459-QNFQT', '9467-ROOLM', '3453-RTHJQ', '0365-GXEZS', '0887-WBJVH', '1337-BOZWO', '5913-INRQV', '6156-UZDLF', '7817-OMJNA', '9313-CDOGY', '2259-OUUSZ', '3174-AKMAS', '0968-GSIKN', '0015-UOCOJ', '1902-XBTFB', '0875-CABNR', '5574-NXZIU', '6807-SIWJI', '6859-QNXIQ', '7017-VFHAY', '3870-SPZSI', '2446-PLQVO', '1596-BBVTG', '0916-QOFDP', '8622-ZLFKO', '7266-GSSJX', '7669-LCRSD', '9912-OMZDS', '0784-ZQJZX', '3319-DWOEP', '5536-RTPWK', '7603-USHJS', '8705-WZCYL', '8350-NYMVI', '5469-CTCWN', '1163-ONYEY', '0618-XWMSS', '4465-VDKIQ', '7638-QVMVY', '4061-UKJWL', '2656-TABEH', '6773-LQTVT', '0357-NVCRI', '5092-STPKP', '8619-IJNDK', '2984-MIIZL', '4695-VADHF', '3721-WKIIL', '3565-UNOCC', '7251-XFOIL', '6260-ONULR', '7359-SSBJK', '1352-HNSAW', '3009-JWMPU', '0178-CIIKR', '2475-MROZF', '8048-DSDFQ', '9919-FZDED', '3571-RFHAR', '4403-BWPAY', '4951-UKAAQ', '3778-FOAQW', '3466-WAESX', '3955-JBZZM', '6614-YWYSC', '1167-OYZJF', '4568-KNYWR', '5183-SNMJQ', '4676-MQUEA', '9637-EIHEQ', '7683-CBDKJ', '2498-XLDZR', '3774-VBNXY', '8717-VCTXJ', '9927-DSWDF', '3865-ZYKAD', '9289-LBQVU', '0136-IFMYD', '7771-ZONAT', '8075-GXIUB', '2794-XIMMO', '4713-ZBURT', '7609-NRNCA', '2927-CVULT', '2322-VCZHZ', '5791-KAJFD', '6296-DDOOR', '4450-DLLMH', '7590-VHVEG', '3583-EKAPL', '4138-NAXED', '6631-HMANX', '3653-NCRDJ', '5914-DVBWJ', '9753-OYLBX', '9840-DVNDC', '7321-KKSDU', '8063-GBATB', '9489-DEDVP', '9163-GHAYE', '7978-DKUQH', '5010-IPEAQ', '4335-UPJSI', '5482-VXSXJ', '6215-NQCPY', '1895-QTKDO', '8086-OVPWV', '4580-TMHJU', '6671-NGWON', '2782-LFZVW', '7750-EYXWZ', '1741-WTPON', '1409-PHXTF', '1971-DTCZB', '5312-IRCFR', '9867-NNXLC', '0468-YRPXN', '7089-RKVSZ', '5465-BUBFA', '4837-QUSFT', '6203-HBZPA', '2382-BCKQJ', '6551-ZCOTS', '8263-OKETD', '7162-WPHPM', '5795-KTGUD', '6326-MTTXK', '1725-IQNIY', '4174-LPGTI', '5649-VUKMC', '2164-SOQXL', '4967-WPNCF', '2619-WFQWU', '1442-OKRJE', '7560-QRBXH', '4683-WYDOU', '3896-ZVNET', '1074-WVEVG', '9675-ICXCT', '1333-PBMXB', '7825-GKXMW', '7989-VCQOH', '6508-NJYRO', '7253-UVNDW', '8069-YQQAJ', '9140-CZQZZ', '3050-GBUSH', '8216-AZUUZ', '2282-YGNOR', '2525-GVKQU', '5057-LCOUI', '9391-DXGGG', '6923-JHPMP', '1930-WNXSB', '7572-KPVKK', '4815-TUMEQ', '9812-GHVRI', '0769-MURVM', '2403-BCASL', '0625-AFOHS', '1579-KLYDT', '6164-HAQTX', '2775-SEFEE', '7537-RBWEA', '2472-OVKUP', '0378-NHQXU', '4741-WWJQZ', '9970-QBCDA', '2856-HYAPG', '4990-ALDGW', '5944-UGLLK', '4000-VGMQP', '6849-WLEYG', '7733-UDMTP', '2995-YWTCD', '2146-EGVDT', '0784-GTUUK', '0447-RXSGD', '7055-JCGNI', '3389-YGYAI', '9356-AXGMP', '1907-YLNYW', '3221-CJMSG', '0603-TPMIB', '7254-IQWOZ', '4291-YZODP', '3956-MGXOG', '2077-DDHJK', '9674-EHPPG', '7328-ZJAJO', '8080-DDEMJ', '1399-OUPJN', '4656-CAURT', '5236-PERKL', '4821-SJHJV', '5296-BFCYD', '0123-CRBRT', '3143-JQEGI', '1731-TVIUK', '2632-UCGVD', '9620-ENEJV', '9822-WMWVG', '1872-EBWSC', '7799-LGRDP', '1022-RKXDR', '9190-MFJLN', '4378-BZYFP', '9531-NSBMR', '1614-JBEBI', '4404-HIBDJ', '3082-VQXNH', '2509-TFPJU', '0616-ATFGB', '4558-FANTW', '9758-MFWGD', '8849-PRIQJ', '8645-KWHJO', '3638-WEABW', '7971-HLVXI', '3138-BKYAV', '3719-TDVQB', '4925-LMHOK', '4558-CGYCZ', '1785-BPHTP', '6869-FGJJC', '3251-YMVWZ', '1328-EUZHC', '8792-AOROI', '4781-ZXYGU', '0811-GSDTP', '8185-UPYBR', '4936-YPJNK', '1360-XFJMR', '1282-IHQAC', '8999-BOHSE', '4329-YPDDQ', '4572-DVCGN', '0578-SKVMF', '9667-TKTVZ', '3213-VVOLG', '4704-ERYFC', '6339-YPSAH', '3074-GQWYX', '4159-NAAIX', '6765-MBQNU', '7268-IGMFD', '2400-XIWIO', '8512-WIWYV', '5088-QZLRL', '7551-JOHTI', '5307-DZCVC', '9840-EFJQB', '2580-ATZSQ', '4130-MZLCC', '0348-SDKOL', '6461-SZMCV', '0979-MOZQI', '4187-CINZD', '6837-HAEVO', '5357-TZHPP', '0565-JUPYD', '5940-NFXKV', '4654-DLAMQ', '5789-LDFXO', '4277-PVRAN', '7321-PKUYW', '4385-ZKVNW', '3761-FLYZI', '5161-UBZXI', '8035-BUYVG', '5027-QPKTE', '0847-HGRML', '5948-UJZLF', '5701-GUXDC', '3482-ABPKK', '2956-GGUCQ', '6718-BDGHG', '4884-LEVMQ', '6925-BAYGL', '1447-PJGGA', '9114-AAFQH', '4489-SNOJF', '6467-CHFZW', '0334-GDDSO', '3217-FZDMN', '7136-IHZJA', '3658-KIBGF', '7080-TNUWP', '1660-HSOOQ', '4450-YOOHP', '4619-EVPHY', '8167-GJLRN', '7521-AFHAB', '5473-KHBPS', '3500-RMZLT', '1761-AEZZR', '6407-GSJNL', '9518-XXBXE', '2333-KWEWW', '1430-SFQSA', '0945-TSONX', '8626-XHBIE', '3528-HFRIQ', '7609-YBPXG', '2848-YXSMW', '6080-LNESI', '2024-BASKD', '4992-LTJNE', '2826-DXLQO', '0036-IHMOT', '4597-NUCQV', '3244-CQPHU', '5022-KVDQT', '7157-SMCFK', '5376-PCKNB', '8414-OOEEL', '1004-NOZNR', '5553-AOINX', '8111-RKSPX', '3372-KWFBM', '9081-WWXKP', '7601-DHFWZ', '8818-DOPVL', '6137-MFAJN', '3768-NLUBH', '0019-GFNTW', '5318-YKDPV', '4137-BTIKL', '2458-EOMRE', '1432-FPAXX', '2235-DWLJU', '2275-RBYQS', '6856-RAURS', '3396-DKDEL', '3154-CFSZG', '2880-FPNAE', '8573-CGOCC', '4566-NECEV', '5353-WILCI', '4521-YEEHE', '8780-RSYYU', '0519-DRGTI', '5847-MXBEO', '1596-OQSPS', '6416-YJTTB', '6968-GMKPR', '9154-QDGTH', '7619-PLRLP', '1241-FPMOF', '5378-IKEEG', '4835-YSJMR', '5268-DSMNQ', '4077-HWUYD', '0380-NEAVX', '6158-HDPXZ', '3466-BYAVD', '9809-IMGCQ', '2192-CKRLV', '2207-QPJED', '2272-JKMSI', '5120-ZBLAI', '6595-COKXZ', '2208-NKVVH', '3936-QQFLL', '8882-TLVRW', '0177-PXBAT', '4702-HDRKD', '0454-OKRCT', '5575-GNVDE', '5614-DNZCE', '9904-EHEVJ', '0575-CUQOV', '0722-SVSFK', '7243-LCGGZ', '2959-MJHIC', '0559-CKHUS', '9136-ALYBR', '4199-QHJNM', '4530-NDRKU', '5440-FLBQG', '4390-KYULV', '4795-UXVCJ', '7250-EQKIY', '8823-RLPWL', '5624-BQSSA', '8345-MVDYC', '5915-ANOEI', '4828-FAZPK', '6993-YCOBK', '9274-UARKJ', '5605-XNWEN', '1513-XNPPH', '1385-TQOZW', '1813-JYWTO', '8709-KRDVL', '9189-JWSHV', '3192-NQECA', '1794-HBQTJ', '1705-GUHPV', '3694-DELSO', '5889-LFOLL', '5759-RCVCB', '2533-TIBIX', '3796-ENZGF', '4682-BLBUC', '6645-MXQJT', '6050-IJRHS', '8761-NSOBC', '5136-RGMZO', '1984-GPTEH', '5244-IRFIH', '1678-FYZOW', '9244-ZVAPM', '9888-ZCUMM', '0899-WZRSD', '3327-YBAKM', '3209-ZPKFI', '1231-YNDEK', '0320-JDNQG', '4547-KQRTM', '2451-YMUXS', '6463-HHXJR', '3594-BDSOA', '0536-ESJEP', '6231-WFGFH', '9845-PEEKO', '3617-XLSGQ', '9817-APLHW', '2346-CZYIL', '0570-BFQHT', '3404-JNXAX', '5569-IDSEY', '1389-WNUIB', '4980-URKXC', '9717-IOAAF', '0898-XCGTF', '8231-BSWXX', '0219-YTZUE', '0365-BZUWY', '8217-QYOHV', '4366-CTOUZ', '3160-TYXLT', '2990-OGYTD', '3536-IQCTX', '0197-PNKNK', '1642-HMARX', '5999-LCXAO', '2223-GDSHL', '6119-SPUDB', '8961-QDZZJ', '3671-SHRSP', '7156-MXBJE', '8383-SGHJU', '5453-YBTWV', '5832-XKAES', '1173-NOEYG', '6476-YHMGA', '7112-OPOTK', '6122-LJADA', '0422-OHQHQ', '7781-EWARA', '0750-EBAIU', '9769-TSBZE', '8388-DMKAE', '9819-FBNSV', '6527-PZFPV', '9741-YLNTD', '0114-IGABW', '0835-JKADZ', '0068-FIGTF', '8129-GMVGI', '7997-EASSD', '8314-DPQHL', '7459-RRWQZ', '4079-VTGLK', '2606-RMDHZ', '1310-QRITU', '3077-RSNTJ', '1226-IENZN', '8854-CCVSQ', '9800-OUIGR', '4840-ORQXB', '7284-BUYEC', '0513-RBGPE', '5249-QYHEX', '2460-FPSYH', '6061-GWWAV', '6094-ZIVKX', '4299-OPXEJ', '9451-WLYRI', '0236-HFWSV', '7346-MEDWM', '7941-RCJOW', '0440-QEXBZ', '9847-HNVGP', '1698-XFZCI', '8788-DOXSU', '5522-NYKPB', '7901-IIDQV', '3957-HHLMR', '3643-AHCFP', '0702-PGIBZ', '8380-PEFPE', '5198-EFNBM', '0727-IWKVK', '8659-IOOPU', '7893-IXHRQ', '0959-WHOKV', '9644-KVCNC', '5569-OUICF', '0793-TWELN', '7996-BPXHY', '6976-BWGLQ', '2546-KZAAT', '8722-NGNBH', '9691-HKOVS', '1397-XKKWR', '8292-TYSPY', '3566-HJGPK', '2612-RANWT', '9625-RZFUK', '9548-LERKT', '7100-FQPRV', '6979-TNDEU', '6421-SZVEM', '3973-SKMLN', '2314-TNDJQ', '2038-YSEZE', '5397-TUPSH', '4273-MBHYA', '8445-DNBAE', '6762-QVYJO', '2154-KVJFF', '0174-QRVVY', '9451-LPGOO', '7752-XUSCI', '2865-TCHJW', '2988-PLAHS', '8979-CAMGB', '6733-LRIZX', '4112-LUEIZ', '7148-XZPHA', '1830-GGFNM', '9242-TKFSV', '8735-NBLWT', '7693-LCKZL', '1834-WULEG', '1843-TLSGD', '3688-FTHLT', '0848-SOMKO', '4549-ZDQYY', '0196-JTUQI', '9411-TPQQV', '1194-HVAIF', '4912-PIGUY', '8910-ICHIU', '7694-VLBWQ', '2476-YGEFM', '5312-UXESG', '8992-JQYUN', '1125-SNVCK', '9643-YBLUR', '8404-VLQFB', '6987-XQSJT', '3354-OADJP', '2363-BJLSL', '6198-ZFIOJ', '0447-BEMNG', '4234-XTNEA', '5404-GGUKR', '5174-RNGBH', '2480-JZOSN', '0354-WYROK', '2239-CFOUJ', '5868-YTYKS', '0872-JCPIB', '9959-WOFKT', '2616-FLVQC', '8626-PTQGE', '2925-MXLSX', '5982-XMDEX', '3411-WLRSQ', '8943-URTMR', '1074-AMIOH', '3523-QRQLL', '6734-GMPVK', '4782-OSFXZ', '4508-OEBEY', '9488-FYQAU', '0963-ZBDRN', '7295-JOMMD', '0674-GCDXG', '6736-DHUQI', '2307-FYNNL', '5060-TQUQN', '3049-NDXFL', '7925-PNRGI', '2263-SFSQZ', '5649-ANRML', '5056-FIMPT', '2831-EBWRN', '4373-VVHQL', '3769-MHZNV', '1932-UEDCX', '0731-EBJQB', '0732-OCQOC', '1732-VHUBQ', '7328-OWMOM', '2560-QTSBS', '8372-JUXUI', '0750-EKNGL', '4695-WJZUE', '1755-RMCXH', '0428-IKYCP', '0258-NOKBL', '0979-PHULV', '4824-GUCBY', '3452-GWUIN', '2309-OSFEU', '8564-LDKFL', '2680-XKKNJ', '9722-UJOJR', '6959-UWKHF', '7746-AWNQW', '0975-VOOVL', '4232-JGKIY', '1991-VOPLL', '0637-YLETY', '6128-DAFVY', '7647-GYYKX', '8591-TKMZH', '9953-ZMKSM', '6032-IGALN', '9306-CPCBC', '4700-UBQMV', '2243-FNMMI', '3043-SUDUA', '1271-SJBGZ', '7251-LJBQN', '3285-UCQVC', '6609-MXJHJ', '0384-RVBPI', '8161-QYMTT', '7206-PQBBZ', '4455-BFSPD', '2621-UDNLU', '8883-ANODQ', '9504-DSHWM', '0621-CXBKL', '1448-PWKYE', '4355-CVPVS', '6288-LBEAR', '2239-JALAW', '7950-XWOVN', '3247-ZVOUO', '8947-YRTDV', '5777-ZPQNC', '7516-GMHUV', '9885-CSMWE', '6692-UDPJC', '3540-RZJYU', '2696-RZVZW', '5129-HHMZC', '3244-DCJWY', '4909-JOUPP', '8158-WPEZG', '4918-QLLIW', '0111-KLBQG', '8775-ERLNB', '3744-ZRRDZ', '1866-OBPNR', '2585-KTFRE', '0526-SXDJP', '5339-PXDVH', '7663-ZTEGJ', '8946-BFWSG', '5306-BVTKJ', '3714-XPXBW', '4255-DDUOU', '2323-ARSVR', '8079-XRJRS', '9233-PSYHO', '8769-KKTPH', '8992-CEUEN', '4872-VXRIL', '0697-ZMSWS', '4559-UWIHT', '3765-JXVKY', '7493-TPUWZ', '4134-BSXLX', '7242-QZLXF', '3062-ICYZQ', '6048-UWKAL', '2657-VPXTA', '1585-MQSSU', '9278-VZKCD', '4154-AQUGT', '5419-JKZNQ', '4091-TVOCN', '5564-NEMQO', '8751-EDEKA', '8896-BQTTI', '9837-BMCLM', '2332-TODQS', '9481-IEBZY', '0734-OXWBT', '4716-MRVEN', '5906-DVAPM', '5149-CUZUJ', '8348-JLBUG', '5906-CVLHP', '6371-NZYEG', '8033-ATFAS', '6937-GCDGQ', '7839-NUIAA', '2778-OCLGR', '1455-HFBXA', '0807-ZABDG', '3567-PQTSO', '8740-XLHDR', '8541-QVFKM', '5424-RLQLC', '6437-UKHMV', '5204-QZXPU', '1047-NNCBF', '4135-FRWKJ', '5461-QKNTN', '5442-BXVND', '6240-EURKS', '8468-EHYJA', '0220-EBGCE', '4057-FKCZK', '0980-FEXWF', '6586-MYGKD', '6424-ELEYH', '1222-KJNZD', '4844-JJWUY', '9921-QFQUL', '4785-FCIFB', '7442-YGZFK', '3450-WXOAT', '9388-ZEYVT', '9787-XVQIU', '1820-DJFPH', '6429-SHBCB', '6486-LHTMA', '7593-XFKDI', '7576-ASEJU', '6543-XRMYR', '9067-YGSCA', '0221-WMXNQ', '4536-PLEQY', '6013-BHCAW', '0853-TWRVK', '7103-IPXPJ', '5919-VCZYM', '6861-OKBCE', '9530-GRMJG', '9986-BONCE', '5206-HPJKM', '8267-ZNYVZ', '5148-ORICT', '6900-RBKER', '1228-FZFRV', '4929-XIHVW', '8670-ERCJH', '0406-BPDVR', '1112-CUNAO', '4716-HHKQH', '8107-RZLNV', '6357-JJPQT', '8859-AXJZP', '2575-GFSOE', '2266-SJNAT', '0397-GZBBC', '9565-AXSMR', '4902-OHLSK', '7957-RYHQD', '5406-KGRMX', '9629-NHXFW', '4365-MSDYN', '6484-LATFU', '7016-BPGEU', '1580-BMCMR', '8046-DNVTL', '0122-OAHPZ', '4588-YBNIB', '2971-SGAFL', '1270-XKUCC', '5039-LZRQT', '7245-JMTTQ', '3649-JPUGY', '7762-URZQH', '1401-FTHFQ', '6365-HITVU', '9548-LIGTA', '9931-KGHOA', '0536-BGFMZ', '9863-JZAIC', '1830-IPXVJ', '9137-UIYPG', '8654-DHAOW', '0374-IOEGQ', '5918-VUKWP', '3419-SNJJD', '6518-KZXCB', '2040-LDIWQ', '0343-QLUZP', '6050-FFXES', '6199-IPCAO', '2842-JTCCU', '7812-FZHPE', '4393-RYCRE', '8148-BPLZQ', '6563-VRERX', '3170-NMYVV', '8752-IMQOS', '9777-WJJPR', '2202-CUYXZ', '1928-BXYIV', '7569-NMZYQ', '7526-BEZQB', '3173-WSSUE', '6410-LEFEN', '3969-JQABI', '6968-URWQU', '3768-VHXQO', '9146-JRIOX', '9351-LZYGF', '4512-ZUIYL', '2000-DHJUY', '6370-ZVHDV', '9800-ONTFE', '4422-QVIJA', '7998-WNZEM', '8884-FEEWR', '5032-MIYKT', '2712-SYWAY', '7594-LZNWR', '2604-IJPDU', '7435-ZNUYY', '9881-VCZEP', '3551-GAEGL', '7785-RDVIG', '1304-BCCFO', '7730-IUTDZ', '5872-OEQNH', '3694-GLTJM', '9221-OTIVJ', '1972-XMUWV', '9092-GDZKO', '2928-HLDBA', '4976-LNFVV', '0506-LVNGN', '2888-ADFAO', '9027-YFHQJ', '9975-SKRNR', '4819-HJPIW', '3644-QXEHN', '5834-ASPWA', '1587-FKLZB', '7703-ZEKEF', '7665-NKLAV', '0147-ESWWR', '2858-EIMXH', '3799-ISUZQ', '5575-TPIZQ', '0722-TROQR', '7639-LIAYI', '6330-JKLPC', '0301-KOBTQ', '9408-SSNVZ', '8250-ZNGGW', '0222-CNVPT', '4647-MUZON', '3957-LXOLK', '0940-OUQEC', '5288-AHOUP', '7138-GIRSH', '0260-ZDLGK', '6229-UOLQL', '0463-TXOAK', '3090-LETTY', '5175-WLYXL', '5519-NPHVG', '3583-KRKMD', '4350-ZTLPI', '6418-HNFED', '4139-SUGLD', '1080-BWSYE', '0970-ETWGE', '3229-USWAR', '0928-JMXNP', '8749-CLJXC', '2672-OJQZP', '1791-PQHBB', '3259-KNMRR', '7558-IMLMT', '7560-QJAVJ', '7718-UPSKJ', '0266-CLZKZ', '4698-KVLLG', '2754-XBHTB', '5285-MVEHD', '3597-YASZG', '3668-QPYBK', '1625-JAIIY', '5542-DHSXL', '2359-QWQUL', '4526-ZJJTM', '1658-XUHBX', '3108-PCCGG', '8481-YYXWG', '1619-YWUBB', '5849-ASHZJ', '2428-ZMCTB', '2325-NBPZG', '1251-KRREG', '3489-HHPFY', '7354-OIJLX', '3675-YDUPJ', '2186-QZEYA', '3656-TKRVZ', '3258-SYSWS', '4565-NLZBV', '7538-GWHML', '7246-ZGQDF', '5968-XQIVE', '9774-NRNAU', '1027-LKKQQ', '7758-XKCBS', '7398-HPYZQ', '0623-GDISB', '4671-VJLCL', '9350-VLHMB', '9962-BFPDU', '0562-HKHML', '5380-AFSSK', '1987-AUELQ', '2197-OMWGI', '1591-XWLGB', '9833-TGFHX', '8970-ANWXO', '2882-DDZPG', '6656-GULJQ', '6506-EYCNH', '9967-ATRFS', '7471-WNSUF', '6960-HVYXR', '4818-QIUFN', '8861-HGGKB', '5668-MEISB', '3205-MXZRA', '4023-RTIQM', '2662-NNTDK', '8490-BXHEO', '1213-NGCUN', '4608-LCIMN', '2908-WGAXL', '9575-IWCAZ', '6211-WHMYA', '0866-QLSIR', '8456-QDAVC', '6603-YRDCJ', '3859-CVCET', '3061-BCKYI', '6685-GBWJZ', '2753-JMMCV', '3672-YITQD', '2929-QNSRW', '7945-PRBVF', '6901-GOGZG', '4526-RMTLL', '9821-POOTN', '5196-WPYOW', '2623-DRYAM', '4423-YLHDV', '0743-HNPFG', '6242-FEGFD', '5365-LLFYV', '9281-OFDMF', '8873-GLDMH', '9610-WCESF', '7921-LMDFQ', '2947-DOMLJ', '0780-XNZFN', '6924-TDGMT', '7449-HVPIV', '4603-JANFB', '4486-EFAEB', '4945-RVMTE', '2320-SLKMB', '6892-EZDTG', '5536-SLHPM', '1101-SSWAG', '8605-ITULD', '7682-AZNDK', '9699-UBQFS', '7982-VCELR', '4927-WWOOZ', '3298-QEICA', '5696-QURRL', '8062-YBDOE', '2436-QBZFP', '2905-KFQUV', '2720-WGKHP', '2480-SQIOB', '8942-DBMHZ', '9648-BCHKM', '4750-UKWJK', '2514-GINMM', '3665-JATSN', '3806-DXQOM', '0774-RMNUW', '1539-LNKHM', '5067-DGXLL', '3858-XHYJO', '2087-QAREY', '9541-PWTWO', '3941-XTSKM', '9588-YRFHY', '9842-EFSYY', '2220-IAHLS', '4010-YLMVT', '1760-CAZHT', '5583-SXDAG', '1767-TGTKO', '7622-NXQZR', '1166-PQLGG', '9170-GYZJC', '0259-GBZSH', '5685-IIXLY', '7244-QWYHG', '6229-LSCKB', '6184-DYUOB', '6284-AHOOQ', '3269-ATYWD', '3284-SVCRO', '8499-BRXTD', '7665-TOALD', '5296-PSYVW', '9799-CAYJJ', '0825-CPPQH', '4289-DTDKW', '4032-RMHCI', '1024-VRZHF', '3723-BFBGR', '2969-WGHQO', '1567-DSCIC', '7730-CLDSV', '1754-GKYPY', '2207-OBZNX', '1682-VCOIO', '5895-QSXOD', '0394-YONDK', '7129-AZJDE', '3884-HCSWG', '0432-CAJZV', '1131-SUEKT', '5626-MGTUK', '9412-GHEEC', '0862-PRCBS', '2868-LLSKM', '4311-QTTAI', '9777-IQHWP', '4534-WGCIR', '6982-UQZLY', '1099-GODLO', '9470-RTWDV', '4293-ETKAP', '5600-PDUJF', '5066-GFJMM', '4373-MAVJG', '2516-VQRRV', '1976-AZZPJ', '3638-VBZTA', '9332-GYWLO', '7130-YXBRO', '9470-YFUYI', '1618-CFHME', '7968-QUXNS', '9897-KXHCM', '5183-KLYEM', '9828-AOQLM', '5515-IDEJJ', '0581-MDMPW', '2674-MLXMN', '2233-FAGXV', '2545-LXYVJ', '2690-DVRVK', '7029-IJEJK', '1302-UHBDD', '1113-IUJYX', '7083-YNSKY', '9224-VTYID', '2023-VQFDL', '2930-UOTMB', '9798-DRYDS', '1730-ZMAME', '2592-SEIFQ', '8294-UIMBA', '9505-SQFSW', '1171-TYKUR', '7426-WEIJX', '2351-BKRZW', '4703-MQYKT', '2484-DGXPZ', '5505-OVWQW', '2253-KPMNB', '8741-LQOBK', '6212-ATMLK', '2660-EMUBI', '0014-BMAQU', '0655-RBDUG', '5924-IFQTT', '9142-KZXOP', '1216-BGTSP', '9617-UDPEU', '7503-EPSZW', '1704-NRWYE', '8331-ZXFOE', '8097-OMULG', '4415-IJZTP', '8417-FMLZI', '2234-XADUH', '7277-KAMWT', '5016-ETTFF', '6688-UZPWD', '6458-CYIDZ', '1346-UFHAX', '2101-RANCD', '2321-OMBXY', '9050-QLROH', '0608-JDVEC', '5871-DGTXZ', '2578-JQPHZ', '5701-YVSVF', '6778-EICRF', '8430-TWCBX', '3340-QBBFM', '6333-YDVLT', '8224-UAXBZ', '4081-DYXAV', '1842-EZJMK', '7340-KEFQE', '6368-TZZDT', '4391-LNRXK', '1658-BYGOY', '8777-MBMTS', '6435-VWCCY', '1543-LLLFT', '0125-LZQXK', '9058-CBREO', '8178-EYZUO', '1469-LBJQJ', '5846-ABOBJ', '5494-HECPR', '8672-OAUPW', '8348-HFYIV', '2919-HBCJO', '7317-GGVPB', '3845-JHAMY', '1766-GKNMI', '2519-FAKOD', '3352-ALMCK', '0868-VJRDR', '8570-KLJYJ', '3889-VWBID', '3648-GZPHF', '6103-BOCOU', '0363-QJVFX', '1915-OAKWD', '8382-SHQEH', '3570-YUEKJ', '7854-EDSSA', '7395-IGJOS', '2000-MPKCA', '5399-ZIMKF', '3640-JQGJG', '1291-CUOCY', '3363-EWLGO', '0533-UCAAU', '2495-TTHBQ', '8212-DJRCH', '2673-CXQEU', '5543-QDCRY', '0114-RSRRW', '5343-SGUBI', '0378-CJKPV', '0754-UKWQP', '4353-HYOJD', '8034-RYTVV', '4815-YOSUK', '5394-SVGJV', '8164-OCKUJ', '3347-YJZZE', '7503-ZGUZJ', '0481-SUMCB', '9650-VBUOG', '5275-SQEIZ', '0004-TLHLJ', '4177-JPDFU', '6810-VCAEX', '8755-IWJHN', '4868-AADLV', '1097-FSPVW', '8313-NDOIA', '5734-EJKXG', '0422-UXFAP', '2887-JPYLU', '9948-YPTDG', '7753-USQYQ', '2878-RMWXY', '5278-PNYOX', '7855-DIWPO', '5512-IDZEI', '5073-RZGBK', '6077-BDPXA', '2990-HWIML', '0678-RLHVP', '0254-WWRKD', '9695-IDRZR', '9761-XUJWD', '8967-SZQAS', '3584-WKTTW', '8701-DGLVH', '8357-EQXFO', '6202-DYYFX', '4381-MHQDC', '2371-KFUOG', '4647-XXZAM', '5397-NSKQG', '7422-WNBTY', '2604-XVDAM', '2346-LOCWC', '4397-FRLTA', '5233-GEEAX', '6145-NNPNO', '6933-FHBZC', '2067-QYTCF', '6641-XRPSU', '0623-IIHUG', '3945-GFWQL', '3898-BSJYF', '1536-YHDOE', '7599-FKVXZ', '4024-CSNBY', '6620-HVDUJ', '2452-SNHFZ', '2988-QRAJY', '7916-VCCPB', '4115-NZRKS', '6897-RWMUB', '4016-BJKTZ', '9950-MTGYX', '1240-HCBOH', '7876-BEUTG', '8496-DMZUK', '7801-KICAO', '4760-XOHVN', '4070-OKWVH', '1400-MMYXY', '3186-AJIEK', '1525-LNLOJ', '3082-YVEKW', '4080-IIARD', '5977-CKHON', '2452-KDRRH', '8865-TNMNX', '2386-OWURY', '7009-PCARS', '4567-AKPIA', '3834-XUIFC', '7851-WZEKY', '1053-MXTTK', '0141-YEAYS', '5186-PEIZU', '3663-MITLP', '1840-BIUOG', '4280-DLSHD', '1935-IMVBB', '8617-ENBDS', '3130-ICDUP', '9688-YGXVR', '3352-RICWQ', '0471-ARVMX', '1094-BKOSX', '4237-RLAQD', '7657-DYEPJ', '6319-QSUSR', '8938-UMKPI', '3920-HIHMQ', '5447-VYTKW', '1699-UOTXU', '4504-YOULA', '9945-PSVIP', '0927-CNGRH', '3154-HMWUU', '3230-JCNZS', '9174-IHETN', '0902-XKXPN', '4822-RVYBB', '0274-JKUJR', '4462-CYWMH', '6439-LAJXL', '1335-NTIUC', '0961-ZWLVI', '5136-GFPMB', '4911-BANWH', '0409-WTMPL', '5138-WVKYJ', '5201-FRKKS', '2984-RGEYA', '2267-FPIMA', '9058-MJLZC', '9498-FIMXL', '8053-WWDRO', '1193-RTSLK', '7277-OZCGZ', '4257-GAESD', '7605-BDWDC', '0516-QREYC', '4194-FJARJ', '6888-SBYAI', '7621-VPNET', '4523-WXCEF', '4826-DXMUP', '9415-TPKRV', '8849-GYOKR', '2642-MAWLJ', '2266-FUBDZ', '7903-CMPEY', '0022-TCJCI', '5673-TIYIB', '8815-LMFLX', '3181-MIZBN', '3716-BDVDB', '3557-HTYWR', '2169-RRLFW', '2908-ZTPNF', '4192-GORJT', '7760-OYPDY', '8166-ZZTFS', '3315-TOTBP', '3714-JTVOV', '6522-OIQSX', '6918-UMQCG', '2582-FFFZR', '2672-DZUOY', '7665-VIGUD', '6137-NICCO', '1245-HARPS', '9497-QCMMS', '7075-BNDVQ', '2696-ECXKC', '6906-MPARY', '3212-KXOCR', '5917-HBSDW', '7048-GXDAY', '8212-CRQXP', '5857-TYBCJ', '5458-CQJTA', '2789-HQBOU', '6007-TCTST', '1697-BCSHV', '7503-QQRVF', '4018-PPNDW', '7089-XXAYG', '9369-XFEHK', '9611-CTWIH', '6407-UTSLV', '1376-HHBDV', '9110-HSGTV', '9496-IVVRP', '0440-EKDCF', '5127-BZENZ', '2039-JONDJ', '5808-TOTXO', '6698-OXETB', '1527-SXDPN', '7606-BPHHN', '1323-OOEPC', '4660-IRIBM', '8975-SKGRX', '4547-FZJWE', '2303-PJYHN', '3351-NGXYI', '9845-QOMAD', '8819-WFGGJ', '6917-YACBP', '5035-BVCXS', '1077-HUUJM', '0727-BNRLG', '5697-GOMBF', '8559-CIZFV', '2212-LYASK', '8010-EZLOU', '8402-EIVQS', '9108-EQPNQ', '8853-TZDGH', '5018-GWURO', '4236-UJPWO', '2388-LAESQ', '8685-WHQPW', '3345-PBBFH', '5385-SUIRI', '7586-ZATGZ', '3011-WQKSZ', '2832-SCUCO', '0281-CNTZX', '2957-LOLHO', '3243-ZHOHY', '3966-HRMZA', '9570-KYEUA', '7209-JCUDS', '2324-AALNO', '4929-ROART', '4806-HIPDW', '2860-RANUS', '1051-GEJLJ', '7159-NOKYQ', '6479-OAUSD', '0396-YCHWO', '8878-RYUKI', '2155-AMQRX', '3763-GCZHZ', '5701-SVCWR', '3544-FBCAS', '9360-AHGNL', '8008-ESFLK', '3146-MSEGF', '7030-FZTFM', '9592-ERDKV', '6627-CFOSN', '0929-PECLO', '6583-KQJLK', '2830-LEWOA', '6298-QDFNH', '5073-WXOYN', '8735-IJJEG', '2683-BPJSO', '8630-QSGXK', '5840-NVDCG', '6502-KUGLL', '6300-BWMJX', '6047-SUHPR', '1106-HRLKZ', '1264-BYWMS', '8739-QOTTN', '1732-FEKLD', '2446-BEGGB', '6218-KNUBD', '7235-NXZCP', '9526-BIHHD', '6646-QVXLR', '0975-UYDTX', '9101-NTIXF', '6897-UUBNU', '6244-BESBM', '4423-JWZJN', '4661-NJEUX', '1010-DIAUQ', '4189-NAKJS', '8996-ZROXE', '6542-LWGXJ', '4229-CZMLL', '4560-WQAQW', '7319-ZNRTR', '5931-FLJJF', '3703-TTEPD', '4475-NVTLU', '3969-GYXEL', '1818-ESQMW', '3192-LNKRK', '1751-NCDLI', '5193-QLVZB', '2277-AXSDC', '0396-HUJBP', '4958-GZWIY', '2027-OAQQC', '7881-INRLC', '0067-DKWBL', '2808-CHTDM', '2005-DWQZJ', '6064-PUPMC', '7820-ZYGNY', '6910-HADCM', '6202-JVYEU', '7094-MSZAO', '5921-NGYRH', '4039-HEUNW', '2193-SFWQW', '7537-CBQUZ', '3374-LXDEV', '9453-PATOS', '4471-KXAUH', '7853-OETYL', '6341-JVQGF', '6178-KFNHS', '5712-VBOXD', '2823-LKABH', '6719-OXYBR', '4430-YHXGG', '4472-VESGY', '9522-ZSINC', '0380-ZCSBI', '5650-VDUDS', '5747-PMBSQ', '4658-HCOHW', '1670-SVOWZ', '9514-JDSKI', '5171-EPLKN', '8069-RHUXK', '8645-KOMJQ', '4484-CGXFK', '2418-TPEUN', '7480-QNVZJ', '2799-TSLAG', '2758-RNWXS', '0013-SMEOE', '3847-BAERP', '4625-XMOYM', '9544-PYPSJ', '7471-MQPOS', '8149-RSOUN', '8184-WMOFI', '6115-ZTBFQ', '7427-AUFPY', '1170-SASML', '2138-VFAPZ', '6345-FZOQH', '7131-ZQZNK', '3219-JQRSL', '4468-YDOVK', '4957-TIALW', '1930-QPBVZ', '6313-GIDIT', '7776-QWNFX', '3580-GICBM', '3801-HMYNL', '7636-OWBPG', '7566-DSRLQ', '2607-DHDAK', '3913-FCUUW', '2640-PMGFL', '4248-HCETZ', '7619-ODSGN', '5451-MHQOF', '3253-HKOKL', '2673-ZALNP', '0925-VYDLG', '8400-WZICQ', '8573-JGCZW', '5202-IVJNU', '6435-SRWBJ', '8931-GJJIQ', '8404-GFGCZ', '9026-RNUJS', '2770-NSVDG', '4760-THGOT', '6872-HXFNF', '1468-DEFNC', '5546-QUERU', '0318-ZOPWS', '9554-DFKIC', '9086-YJYXS', '3850-OKINF', '7969-FFOWG', '3976-HXHCE', '3946-MHCZW', '8234-GSZYK', '8915-NNTRC', '1832-PEUTS', '9824-QCJPK', '6728-DKUCO', '7096-ZNBZI', '2990-IAJSV', '4702-IOQDC', '3096-YXENJ', '8155-IBNHG', '5855-EIBDE', '1722-LDZJS', '5022-JNQEQ', '9237-HQITU', '0864-FVJNJ', '6352-GIGGQ', '5090-EMGTC', '8443-WVPSS', '8286-AFUYI', '0617-AQNWT', '5884-GCYMI', '9367-TCUYN', '3292-PBZEJ', '4989-LIXVT', '1421-HCERK', '3005-TYFRD', '1710-RCXUS', '0999-QXNSA', '2754-VDLTR', '7779-ORAEL', '7410-OIEDU', '5709-LVOEQ', '4056-QHXHZ', '1986-PHGZF', '0060-FUALY', '8532-UEFWH', '7024-OHCCK', '7954-MLBUN', '8332-OSJDW', '3137-NYQQI', '1814-WFGVS', '2988-GBIVW', '0613-WUXUM', '8859-YSTWS', '7711-GQBZC', '8562-GHPPI', '6463-MVYRY', '5356-RHIPP', '3173-NVMPX', '5712-PTIWW', '2428-HYUNX', '9094-AZPHK', '2951-QOQTK', '3780-DDGSE', '3981-QSVQI', '2558-BUOZZ', '2157-MXBJS', '5829-NVSQN', '1087-GRUYI', '1218-VKFPE', '0520-FDVVT', '9101-BWFSS', '3097-NNSPB', '5176-LDKUH', '3097-FQTVJ', '7508-MYBOG', '5821-MMEIL', '1697-NVVGY', '6655-LHBYW', '0674-EYYZV', '5482-NUPNA', '6100-QQHEB', '5940-AHUHD', '4001-TSBTV', '3030-ZKIWL', '2277-DJJDL', '8513-OLYGY', '2235-ZGKPT', '0310-MVLET', '7931-PXHFC', '4283-IVYCI', '6097-EQISJ', '6696-YDAYZ', '3635-JBPSG', '9793-WECQC', '0191-ZHSKZ', '3441-CGZJH', '7492-TAFJD', '0193-ESZXP', '3999-QGRJH', '8510-BBWMU', '6402-ZFPPI', '6432-TWQLB', '0031-PVLZI', '3489-VSFRD', '9659-ZTWSM', '6502-HCJTI', '1174-FGIFN', '0021-IKXGC', '9402-ORRAH', '1850-AKQEP', '6347-DCUIK', '0823-HSCDJ', '1897-OKVMW', '2219-MVUSO', '4742-DRORA', '2523-EWWZL', '2483-XSSMZ', '6349-JDHQP', '0701-TJSEF', '1153-GNOLC', '9281-CEDRU', '2324-EFHVG', '9651-GTSAQ', '6828-HMKWP', '0106-GHRQR', '4102-HLENU', '7488-MXJIV', '0564-MUUQK', '6194-HBGQN', '9102-IAYHT', '2636-OHFMN', '2851-MMUTZ', '1078-TDCRN', '0654-HMSHN', '0519-XUZJU', '1555-DJEQW', '6625-UTXEW', '8563-OYMQY', '9127-FHJBZ', '5951-AOFIH', '2507-QZPQS', '5846-QFDFI', '2931-XIQBR', '0475-RIJEP', '3733-LSYCE', '7629-WFGLW', '4881-JVQOD', '5014-WUQMG', '9617-INGJY', '8058-DMYRU', '2270-CHBFN', '8910-LEDAG', '8120-JDCAM', '3374-TTZTK', '5087-SUURX', '6840-RESVB', '1150-FTQGN', '2900-PHPLN', '5295-PCJOO', '0434-CSFON', '5956-YHHRX', '4795-KTRTH', '6778-YSNIH', '4140-WJAWW', '2049-BAFNW', '5748-RNCJT', '8328-SKJNO', '2876-GZYZC', '7675-OZCZG', '1597-FZREH', '4063-EIKNQ', '5928-QLDHB', '5985-BEHZK', '3948-KXDUF', '9385-NXKDA', '5451-YHYPW', '3696-DFHHB', '9122-UMROB', '3410-YOQBQ', '9239-ZBZZV', '9103-TCIHJ', '9620-QJREV', '6726-NNFWD', '7321-VGNKU', '5084-OOVCJ', '8922-NPKBJ', '6210-KBBPI', '8595-SIZNC', '7563-BIUPC', '8402-OOOHJ', '3178-CIFOT', '9115-YQHGA', '9747-DDZOS', '4143-HHPMK', '5351-QESIO', '0089-IIQKO', '9350-ZXYJC', '2834-SPCJV', '9987-LUTYD', '2320-JRSDE', '5405-ZMYXQ', '2050-ONYDQ', '5949-EBSQK', '6000-UKLWI', '4615-PIVVU', '9938-ZREHM', '4825-XJGDM', '5712-AHQNN', '3642-BYHDO', '0795-LAFGP', '6967-QIQRV', '0913-XWSCN', '7402-PWYJJ', '8276-MQBYC', '9053-JZFKV', '1837-YQUCE', '8058-INTPH', '3638-DIMPH', '6397-JNZZG', '6705-LNMDD', '1853-UDXBW', '1552-AAGRX', '2077-MPJQO', '7164-BPTUT', '7359-WWYJV', '0133-BMFZO', '5115-SQAAU', '1047-RNXZV', '5153-LXKDT', '5762-TJXGK', '4146-SVFUD', '9659-QEQSY', '0231-LXVAP', '5360-LJCNJ', '5440-VHLUL', '2208-MPXIO', '7598-UAASY', '8644-XLFBW', '3785-KTYSH', '7554-NEWDD', '8999-XXGNS', '1816-FLZDK', '7036-ZZKBD', '1480-IVEVR', '9940-HPQPG', '7901-TBKJX', '5542-NKVRU', '1135-LMECX', '2657-ALMWY', '2408-PSJVE', '8182-BJDSI', '5515-AKOAJ', '7964-YESJC', '5144-PQCDZ', '7103-ZGVNT', '3148-AOIQT', '9631-RXVJM', '6521-YYTYI', '4732-RRJZC', '4759-PXTAN', '8535-SFUTN', '6725-TPKJO', '9795-NREXC', '6847-KJLTS', '6350-XFYGW', '5474-LAMUQ', '1724-BQUHA', '1403-GYAFU', '6260-XLACS', '9975-GPKZU', '7107-UBYKY', '0960-HUWBM', '3118-UHVVQ', '0297-RBCSG', '9385-EHGDO', '4718-DHSMV', '2091-MJTFX', '3990-QYKBE', '8819-ZBYNA', '1183-CANVH', '1060-ENTOF', '6419-ZTTLE', '7823-JSOAG', '0023-XUOPT', '5989-OMNJE', '6133-OZILE', '8070-AAWZP', '8620-RJPZN', '1448-CYWKC', '8106-GWQOK', '7407-SUJIZ', '4813-HQMGZ', '5609-CEBID', '3685-YLCMQ', '2240-HSJQD', '1915-IOFGU', '9027-TMATR', '5336-UFNZP', '8950-MTZNV', '0743-HRVFF', '7470-DYNOE', '6519-CFDBX', '7909-FIOIY', '3967-KXAPS', '9231-ZJYAM', '9373-WSLOY', '4853-RULSV', '8148-WOCMK', '3891-PUQOD', '4488-PSYCG', '6258-PVZWJ', '8749-JMNKX', '1177-XZBJL', '4304-XUMGI', '0093-EXYQL', '8550-XSXUQ', '9618-LFJRU', '8873-TMKGR', '4124-MMETB', '4854-SSLTN', '7233-DRTRF', '1423-BMPBQ', '3908-BLSYF', '0484-JPBRU', '2229-DPMBI', '9928-BZVLZ', '4529-CKBCL', '4140-MUHUG', '1334-PDUKM', '6283-GITPX', '6362-QHAFM', '1891-UAWWU', '3190-XFANI', '4707-MAXGU', '6685-XSHHU', '4301-VVZKA', '7927-AUXBZ', '7239-HZZCX', '3703-KBKZP', '4402-FTBXC', '5656-JAMLX', '7029-RPUAV', '7695-PKLCZ', '4837-PZTIC', '4060-LDNLU', '3097-NQYSN', '5561-NWEVX', '9397-TZSHA', '4686-GEFRM', '7242-EDTYC', '4872-JCVCA', '6331-LWDTQ', '3620-MWJNE', '6713-OKOMC', '3195-TQDZX', '2012-NWRPA', '2378-HTWFW', '8821-XNHVZ', '8232-CTLKO', '9314-IJWSQ', '9277-JOOMO', '9644-UMGQA', '6877-LGWXO', '2878-DHMIN', '8868-WOZGU', '4501-EQDRN', '5160-UXJED', '3088-LHEFH', '4797-AXPXK', '9786-IJYDL', '3705-PSNGL', '8219-VYBVI', '1699-TLDLZ', '3207-OYBWH', '3211-ILJTT', '2279-AXJJK', '3606-SBKRY', '8374-UULRV', '6729-FZWSY', '9261-WDCAF', '5108-ADXWO', '8859-DZTGQ', '4871-JTKJF', '5934-TSSAU', '6198-RTPMF', '6874-SGLHU', '3393-FMZPV', '2568-BRGYX', '0487-CRLZF', '2740-JFBOK', '4786-UKSNZ', '6440-DKQGE', '7672-VFMXZ', '8747-UDCOI', '6078-VESFR', '0958-YHXGP', '7363-QTBIW', '9560-ARGQJ', '0130-SXOUN', '3078-ZKNTS', '7633-MVPUY', '2640-LYMOV', '2378-VTKDH', '9025-ZRPVR', '7137-NAXML', '9419-IPPBE', '2434-EEVDB', '5199-FPUSP', '4030-VPZBD', '8631-NBHFZ', '7901-HXJVA', '0080-EMYVY', '5968-HYJRZ', '4636-JGAAI', '1755-FZQEC'}\n",
      "\n",
      "************************* gender *************************\n",
      "\n",
      "{'Female', 'Male'}\n",
      "\n",
      "************************* SeniorCitizen *************************\n",
      "\n",
      "{0, 1}\n",
      "\n",
      "************************* Partner *************************\n",
      "\n",
      "{'Yes', 'No'}\n",
      "\n",
      "************************* Dependents *************************\n",
      "\n",
      "{'Yes', 'No'}\n",
      "\n",
      "************************* tenure *************************\n",
      "\n",
      "{0, 1, 2, 3, 4, 5, 6, 7, 8, 9, 10, 11, 12, 13, 14, 15, 16, 17, 18, 19, 20, 21, 22, 23, 24, 25, 26, 27, 28, 29, 30, 31, 32, 33, 34, 35, 36, 37, 38, 39, 40, 41, 42, 43, 44, 45, 46, 47, 48, 49, 50, 51, 52, 53, 54, 55, 56, 57, 58, 59, 60, 61, 62, 63, 64, 65, 66, 67, 68, 69, 70, 71, 72}\n",
      "\n",
      "************************* PhoneService *************************\n",
      "\n",
      "{'Yes', 'No'}\n",
      "\n",
      "************************* MultipleLines *************************\n",
      "\n",
      "{'No', 'Yes', 'No phone service'}\n",
      "\n",
      "************************* InternetService *************************\n",
      "\n",
      "{'DSL', 'No', 'Fiber optic'}\n",
      "\n",
      "************************* OnlineSecurity *************************\n",
      "\n",
      "{'Yes', 'No', 'No internet service'}\n",
      "\n",
      "************************* OnlineBackup *************************\n",
      "\n",
      "{'Yes', 'No', 'No internet service'}\n",
      "\n",
      "************************* DeviceProtection *************************\n",
      "\n",
      "{'Yes', 'No', 'No internet service'}\n",
      "\n",
      "************************* TechSupport *************************\n",
      "\n",
      "{'Yes', 'No', 'No internet service'}\n",
      "\n",
      "************************* StreamingTV *************************\n",
      "\n",
      "{'Yes', 'No', 'No internet service'}\n",
      "\n",
      "************************* StreamingMovies *************************\n",
      "\n",
      "{'Yes', 'No', 'No internet service'}\n",
      "\n",
      "************************* Contract *************************\n",
      "\n",
      "{'One year', 'Two year', 'Month-to-month'}\n",
      "\n",
      "************************* PaperlessBilling *************************\n",
      "\n",
      "{'Yes', 'No'}\n",
      "\n",
      "************************* PaymentMethod *************************\n",
      "\n",
      "{'Credit card (automatic)', 'Electronic check', 'Mailed check', 'Bank transfer (automatic)'}\n",
      "\n",
      "************************* MonthlyCharges *************************\n",
      "\n",
      "{18.95, 19.8, 20.65, 20.15, 20.2, 20.75, 24.95, 20.4, 24.25, 25.9, 19.95, 29.75, 29.85, 30.2, 24.3, 33.75, 30.15, 31.05, 35.45, 29.95, 30.4, 39.65, 35.9, 40.2, 42.3, 42.1, 44.35, 45.25, 45.55, 45.65, 45.3, 49.95, 49.55, 49.25, 49.05, 53.85, 54.4, 55.2, 56.95, 56.15, 55.3, 59.9, 59.6, 55.65, 54.65, 62.15, 64.7, 64.15, 66.15, 64.5, 66.85, 69.7, 70.7, 69.2, 69.5, 70.45, 74.8, 74.85, 76.2, 75.3, 78.9, 79.85, 80.65, 79.75, 79.2, 74.75, 84.5, 79.35, 82.05, 84.0, 85.2, 89.1, 90.05, 90.25, 89.9, 91.65, 94.4, 95.5, 96.35, 97.85, 95.45, 99.65, 100.35, 99.35, 102.45, 102.7, 103.8, 103.4, 104.15, 104.4, 104.6, 105.35, 108.0, 109.2, 103.7, 104.8, 105.5, 106.7, 108.45, 111.6, 110.5, 113.25, 111.05, 112.25, 24.75, 115.1, 115.05, 116.05, 25.25, 24.5, 25.75, 25.0, 25.5, 26.25, 26.0, 26.5, 28.5, 29.5, 29.25, 30.75, 30.5, 30.25, 31.0, 33.5, 34.25, 34.5, 34.0, 35.75, 35.5, 35.0, 35.25, 36.0, 36.25, 36.5, 38.5, 38.25, 39.0, 39.5, 40.25, 40.0, 40.75, 43.75, 43.25, 44.0, 44.75, 44.25, 44.5, 45.0, 45.75, 45.5, 46.0, 46.25, 48.75, 48.25, 49.5, 49.0, 49.75, 50.25, 50.0, 50.5, 50.75, 51.25, 51.0, 51.75, 51.5, 52.5, 52.0, 53.75, 53.5, 53.0, 54.75, 54.25, 54.0, 54.5, 55.0, 55.5, 55.25, 55.75, 56.0, 56.75, 56.25, 56.5, 57.75, 57.5, 58.75, 58.25, 58.5, 58.0, 59.75, 59.0, 59.5, 59.25, 60.0, 60.25, 60.5, 60.75, 61.5, 61.25, 61.75, 61.0, 62.25, 62.5, 63.25, 63.75, 64.25, 64.75, 64.0, 65.0, 65.5, 65.75, 65.25, 66.5, 66.25, 66.0, 66.75, 67.25, 67.5, 67.75, 68.75, 68.5, 68.25, 69.75, 69.0, 69.25, 70.0, 70.5, 70.75, 70.25, 71.5, 71.0, 71.25, 71.75, 72.75, 72.25, 72.0, 73.25, 73.5, 73.0, 73.75, 74.5, 74.25, 74.0, 75.0, 75.25, 75.5, 75.75, 76.5, 76.0, 76.75, 76.25, 77.75, 77.0, 77.5, 78.75, 78.0, 78.5, 78.25, 79.25, 79.5, 79.0, 80.0, 80.25, 80.5, 80.75, 81.0, 81.25, 81.5, 81.75, 82.5, 82.75, 82.0, 83.25, 83.75, 83.5, 83.0, 84.25, 84.75, 85.75, 85.5, 85.0, 85.25, 86.75, 86.0, 86.5, 86.25, 87.0, 87.25, 87.75, 88.0, 88.5, 88.75, 88.25, 89.25, 89.0, 89.75, 89.5, 90.0, 90.5, 90.75, 18.25, 18.75, 91.0, 91.5, 91.25, 91.75, 92.0, 92.5, 93.0, 93.5, 93.25, 93.75, 94.5, 94.25, 94.75, 94.0, 95.25, 95.0, 95.75, 19.5, 19.75, 19.25, 96.75, 96.5, 19.0, 96.0, 96.25, 97.0, 97.75, 97.25, 98.75, 98.25, 98.5, 98.0, 99.25, 99.0, 99.75, 99.5, 100.0, 100.75, 100.25, 20.25, 20.5, 101.75, 100.5, 20.0, 101.0, 101.5, 102.5, 102.0, 101.25, 102.25, 103.75, 103.25, 103.0, 103.5, 104.0, 104.5, 104.75, 104.25, 105.0, 105.25, 21.0, 21.25, 105.75, 106.0, 106.75, 106.5, 106.25, 107.5, 107.25, 107.0, 107.75, 108.5, 108.25, 108.75, 109.25, 109.5, 109.75, 109.0, 110.0, 110.75, 110.25, 111.25, 111.5, 111.75, 112.75, 113.0, 113.75, 114.5, 114.0, 114.75, 115.75, 115.0, 23.75, 115.5, 115.25, 116.25, 116.75, 116.0, 116.5, 23.5, 117.5, 118.75, 24.0, 18.4, 18.9, 19.4, 19.9, 19.65, 19.15, 20.9, 21.15, 23.65, 23.4, 23.9, 23.15, 24.9, 24.4, 24.15, 24.65, 25.15, 25.4, 25.65, 26.4, 26.9, 29.65, 29.9, 29.15, 29.4, 30.9, 31.65, 33.15, 33.65, 33.9, 34.65, 34.4, 35.4, 35.65, 35.15, 36.65, 36.15, 38.9, 39.9, 39.4, 39.15, 40.4, 40.65, 40.15, 40.9, 41.15, 41.9, 42.9, 42.4, 43.65, 43.9, 44.4, 44.65, 44.9, 44.15, 45.4, 45.15, 45.9, 46.4, 47.15, 47.4, 48.15, 48.9, 48.65, 48.4, 49.15, 49.9, 49.4, 49.65, 50.65, 50.15, 50.9, 50.4, 51.65, 51.4, 51.15, 52.15, 53.65, 53.9, 53.4, 53.15, 54.9, 54.15, 55.15, 55.9, 55.4, 56.4, 56.9, 56.65, 57.15, 57.65, 58.65, 58.9, 58.4, 59.4, 59.65, 59.15, 60.9, 60.15, 60.65, 60.4, 61.65, 61.9, 61.4, 61.15, 62.65, 63.15, 63.4, 63.9, 18.55, 64.9, 64.4, 64.65, 65.15, 65.65, 19.05, 65.4, 65.9, 66.4, 66.9, 66.65, 67.65, 67.4, 68.65, 68.4, 68.9, 68.15, 69.65, 69.9, 69.15, 69.4, 70.9, 70.15, 70.4, 70.65, 71.15, 71.9, 71.4, 71.65, 72.65, 72.9, 72.15, 73.9, 73.15, 73.65, 74.9, 74.4, 74.65, 74.15, 75.9, 75.15, 75.65, 75.4, 21.3, 76.9, 76.65, 76.4, 76.15, 77.4, 77.15, 77.9, 77.65, 78.4, 78.65, 78.15, 79.9, 79.15, 79.4, 79.65, 80.9, 80.4, 80.15, 81.15, 81.4, 81.65, 81.9, 82.4, 82.9, 82.65, 82.15, 83.4, 83.15, 83.9, 83.65, 84.15, 84.9, 84.4, 84.65, 85.4, 85.65, 85.15, 85.9, 23.05, 86.65, 86.15, 86.4, 86.9, 87.65, 87.9, 87.4, 87.15, 88.15, 88.9, 88.65, 88.4, 89.15, 89.65, 89.4, 75.05, 90.4, 90.15, 90.65, 90.9, 91.4, 91.15, 92.9, 92.65, 92.15, 92.4, 93.15, 93.4, 93.9, 93.65, 94.9, 94.65, 94.15, 76.55, 95.15, 95.4, 95.65, 95.9, 96.65, 96.15, 96.9, 96.4, 97.65, 97.9, 98.65, 98.9, 98.15, 98.4, 99.9, 99.4, 99.15, 77.8, 77.55, 100.9, 100.15, 100.65, 100.4, 101.9, 101.15, 101.4, 102.15, 102.65, 102.9, 102.4, 103.9, 103.15, 103.65, 104.65, 104.9, 105.65, 105.15, 105.9, 105.4, 106.9, 106.4, 106.65, 106.15, 107.15, 107.65, 107.9, 107.4, 108.15, 108.65, 108.4, 108.9, 109.9, 109.4, 109.15, 109.65, 110.65, 110.15, 110.9, 111.9, 111.65, 111.15, 111.4, 112.4, 112.9, 113.65, 113.4, 113.15, 114.65, 114.9, 115.65, 115.15, 29.3, 116.15, 116.4, 117.15, 118.65, 33.55, 34.55, 34.8, 34.05, 34.3, 35.8, 35.55, 35.05, 35.3, 36.05, 38.55, 38.8, 39.3, 39.55, 39.05, 40.05, 40.3, 40.55, 41.05, 43.8, 43.55, 43.3, 43.05, 44.8, 44.3, 44.05, 44.55, 45.05, 45.8, 46.3, 46.05, 47.8, 47.05, 48.55, 48.8, 49.3, 49.8, 50.55, 50.05, 50.3, 50.8, 51.8, 51.05, 51.55, 51.3, 52.55, 52.3, 53.8, 53.3, 53.55, 54.8, 54.3, 54.55, 54.05, 55.05, 55.8, 55.55, 56.8, 56.05, 56.3, 56.55, 57.8, 57.55, 58.55, 59.8, 59.3, 59.55, 59.05, 60.3, 60.05, 60.8, 60.55, 61.05, 61.8, 61.55, 61.3, 62.8, 62.05, 62.55, 62.3, 63.3, 63.55, 63.8, 63.05, 64.8, 64.05, 64.3, 64.55, 65.55, 65.8, 65.05, 65.3, 66.8, 66.05, 66.3, 67.8, 67.05, 68.55, 68.8, 68.05, 68.3, 18.8, 69.3, 69.55, 69.05, 69.8, 19.3, 70.8, 70.05, 19.55, 70.3, 20.3, 71.55, 20.55, 20.05, 20.8, 70.55, 72.8, 21.05, 71.05, 71.3, 71.8, 73.8, 73.55, 73.05, 73.3, 23.8, 74.3, 74.05, 23.3, 23.55, 24.55, 24.05, 74.55, 24.8, 75.55, 25.3, 75.8, 25.05, 76.05, 25.55, 26.8, 26.05, 26.3, 76.8, 25.8, 76.3, 78.05, 78.3, 78.55, 78.8, 77.3, 79.3, 79.05, 79.55, 79.8, 29.05, 80.55, 29.8, 80.05, 80.3, 30.3, 81.8, 81.3, 80.8, 81.05, 81.55, 82.3, 30.55, 30.05, 82.55, 83.3, 83.55, 83.8, 83.05, 84.55, 84.8, 84.3, 84.05, 85.8, 85.3, 85.05, 85.55, 86.8, 86.05, 86.3, 86.55, 87.05, 87.55, 87.8, 87.3, 88.55, 88.05, 88.8, 88.3, 89.05, 89.55, 89.8, 89.3, 90.3, 90.55, 90.8, 91.3, 91.55, 91.05, 91.8, 92.05, 92.55, 92.3, 93.05, 93.8, 93.55, 93.3, 94.05, 94.8, 94.3, 94.55, 95.05, 95.8, 95.3, 95.55, 96.05, 96.8, 96.55, 96.3, 97.55, 97.8, 97.05, 98.3, 98.8, 98.05, 98.55, 99.3, 99.8, 99.05, 99.55, 100.8, 100.55, 100.05, 100.3, 101.05, 101.55, 101.3, 101.8, 102.05, 102.55, 102.8, 103.05, 103.3, 104.3, 104.55, 104.05, 105.3, 105.55, 105.05, 105.8, 106.05, 106.8, 106.55, 106.3, 107.05, 107.55, 108.55, 108.05, 108.3, 108.8, 109.55, 109.8, 109.05, 109.3, 110.05, 110.3, 110.8, 110.55, 111.55, 111.8, 111.3, 112.55, 113.3, 113.05, 113.8, 114.05, 114.55, 114.3, 115.8, 115.55, 116.8, 116.3, 116.55, 117.8, 18.7, 19.2, 19.45, 19.7, 20.7, 20.45, 20.95, 21.2, 21.45, 22.95, 23.95, 23.45, 24.7, 24.45, 24.2, 25.7, 25.2, 25.45, 25.95, 26.2, 26.45, 28.45, 29.45, 29.2, 29.7, 30.45, 31.2, 33.45, 33.7, 34.7, 34.2, 34.95, 35.7, 35.2, 36.45, 37.7, 39.7, 39.2, 39.95, 39.45, 40.7, 40.45, 41.95, 43.95, 43.7, 43.45, 44.95, 44.45, 44.7, 44.2, 45.7, 45.95, 45.2, 45.45, 46.2, 47.95, 48.95, 48.7, 48.2, 48.45, 49.2, 49.45, 49.7, 50.2, 50.45, 50.95, 50.7, 51.2, 51.7, 51.45, 52.2, 52.7, 53.95, 53.45, 53.7, 54.7, 54.2, 54.45, 54.95, 55.45, 55.95, 55.7, 56.45, 56.7, 56.2, 57.95, 57.45, 57.2, 58.45, 58.95, 58.7, 58.2, 59.95, 59.45, 59.2, 59.7, 60.45, 60.2, 60.7, 60.95, 61.2, 61.95, 61.45, 62.7, 62.45, 63.95, 63.7, 64.95, 64.2, 64.45, 65.2, 65.7, 65.45, 66.7, 66.2, 67.45, 67.95, 67.2, 67.7, 68.95, 68.7, 68.45, 69.45, 69.95, 70.2, 70.95, 71.7, 71.45, 71.95, 72.95, 72.45, 72.2, 73.2, 73.45, 73.95, 73.7, 74.2, 74.7, 74.45, 74.95, 75.95, 75.45, 75.7, 75.2, 76.45, 76.95, 77.95, 77.2, 78.45, 78.95, 78.2, 78.7, 79.95, 79.45, 79.7, 80.95, 80.7, 80.45, 80.2, 81.95, 81.45, 81.7, 81.2, 82.95, 82.45, 82.7, 83.7, 83.2, 83.45, 83.95, 84.2, 84.95, 84.7, 84.45, 85.95, 85.45, 85.7, 86.2, 86.45, 86.95, 86.7, 87.95, 87.2, 87.45, 87.7, 88.95, 88.2, 88.45, 88.7, 89.7, 89.2, 89.45, 89.95, 90.95, 90.45, 90.7, 90.2, 91.7, 91.2, 91.45, 91.95, 92.2, 92.95, 92.45, 92.7, 93.95, 93.45, 93.2, 93.7, 94.45, 94.2, 94.7, 94.95, 95.2, 95.95, 95.7, 96.7, 96.2, 96.95, 97.45, 97.95, 97.2, 97.7, 98.7, 98.2, 98.45, 99.45, 99.7, 99.95, 99.2, 100.45, 100.7, 100.95, 100.2, 101.45, 101.95, 101.7, 102.95, 103.2, 103.45, 103.95, 104.95, 104.7, 104.45, 104.2, 105.45, 105.2, 105.95, 105.7, 106.45, 106.95, 106.2, 107.95, 107.45, 107.2, 107.7, 108.95, 108.2, 109.7, 109.95, 109.45, 110.45, 110.2, 110.7, 111.95, 111.2, 111.45, 112.95, 112.2, 113.2, 113.45, 113.95, 114.95, 114.7, 114.45, 114.2, 116.45, 116.95, 116.2, 117.2, 117.45, 118.2, 64.35, 64.85, 64.6, 64.1, 65.35, 65.85, 65.1, 65.6, 66.35, 66.1, 66.6, 67.85, 67.6, 68.85, 68.6, 68.35, 68.1, 69.35, 69.85, 69.1, 69.6, 70.35, 70.6, 70.85, 70.1, 71.1, 71.35, 71.6, 71.85, 72.1, 72.85, 72.35, 72.6, 73.6, 73.85, 73.35, 73.1, 74.35, 74.6, 74.1, 75.35, 75.6, 75.1, 75.85, 76.1, 76.85, 76.35, 76.6, 77.35, 77.85, 78.85, 78.1, 78.6, 78.35, 79.1, 79.6, 80.6, 80.35, 80.1, 80.85, 81.85, 81.35, 81.1, 81.6, 82.85, 82.1, 82.35, 83.35, 83.85, 83.6, 84.6, 84.85, 84.35, 84.1, 85.1, 85.35, 85.6, 85.85, 86.1, 86.6, 86.85, 86.35, 87.35, 87.1, 87.6, 88.1, 88.6, 88.85, 88.35, 89.85, 89.35, 89.6, 90.85, 90.35, 90.1, 90.6, 91.35, 91.1, 91.85, 91.6, 92.1, 92.35, 92.85, 92.6, 93.35, 93.85, 93.6, 94.35, 94.85, 94.1, 94.6, 95.6, 95.1, 95.35, 95.85, 96.1, 96.85, 96.6, 97.1, 97.35, 98.85, 98.6, 98.35, 98.1, 99.1, 99.85, 99.6, 100.6, 100.85, 100.1, 101.35, 101.1, 101.6, 101.85, 102.1, 102.85, 102.6, 102.35, 103.1, 103.85, 103.35, 103.6, 104.1, 104.85, 104.35, 105.1, 105.6, 105.85, 106.35, 106.6, 106.1, 106.85, 107.35, 107.6, 108.1, 108.85, 108.6, 108.35, 109.85, 109.6, 109.1, 110.85, 110.35, 110.1, 110.6, 111.35, 111.1, 112.6, 112.1, 112.35, 113.1, 113.6, 113.35, 114.35, 114.85, 114.1, 114.6, 115.6, 115.85, 116.1, 116.85, 116.6, 117.6, 117.35, 118.6, 118.35, 18.85, 19.6, 19.35, 19.85, 19.1, 20.85, 20.6, 20.1, 20.35, 21.1, 23.6, 23.85, 24.1, 24.85, 24.6, 24.35, 25.35, 25.6, 25.1, 25.85, 26.1, 26.35, 28.6, 29.6, 29.35, 29.1, 30.1, 30.85, 30.35, 30.6, 31.35, 31.1, 33.6, 34.6, 34.85, 35.6, 35.1, 35.35, 36.1, 36.85, 38.6, 38.1, 38.85, 39.6, 39.1, 39.85, 39.35, 40.6, 40.35, 40.1, 41.35, 41.1, 41.6, 42.6, 42.35, 43.85, 43.35, 43.6, 44.6, 44.85, 44.1, 45.6, 45.35, 45.85, 45.1, 46.35, 46.1, 46.6, 47.85, 47.6, 48.6, 48.85, 48.35, 49.85, 49.35, 49.1, 49.6, 50.6, 50.35, 50.1, 50.85, 51.6, 51.35, 51.1, 52.1, 52.85, 53.6, 53.1, 53.35, 54.1, 54.6, 54.85, 54.35, 55.1, 55.35, 55.85, 55.6, 56.6, 56.35, 56.1, 56.85, 57.6, 58.6, 58.35, 58.85, 59.85, 59.1, 60.85, 60.35, 60.6, 60.1, 61.6, 61.35, 61.1, 62.1, 62.85, 63.85, 63.35, 63.6, 63.1}\n",
      "\n",
      "************************* TotalCharges *************************\n",
      "\n",
      "{'1667.25', '563.65', '2453.3', '505.9', '305.55', '2096.1', '515.75', '402.5', '3691.2', '48.75', '1201.65', '2790.65', '483.7', '2723.4', '6770.85', '4976.15', '1931.3', '212.3', '1993.25', '6227.5', '2471.6', '4759.55', '866.4', '3649.6', '235.5', '2339.3', '178.1', '2490.15', '70.2', '7446.9', '3582.4', '1579.7', '1203.9', '1090.6', '5762.95', '4414.3', '614.45', '1247.75', '8166.8', '5728.55', '163.55', '3954.1', '25.2', '2830.45', '475.1', '4267.15', '987.95', '1776.55', '4616.1', '392.65', '383.55', '4113.1', '825.4', '150.85', '788.55', '900.5', '321.9', '2032.3', '2215.25', '2003.6', '90.6', '97.5', '1432.55', '6819.45', '5567.45', '810.85', '2964.8', '79.7', '275.9', '3624.3', '2142.8', '6985.65', '2815.25', '791.7', '3092', '6766.95', '84.65', '780.5', '60.15', '164.5', '255.5', '1258.6', '2011.4', '346.2', '2768.35', '3656.25', '5600.15', '6581.9', '4424.2', '174.45', '6549.45', '2638.1', '809.25', '2550.9', '4539.6', '70.8', '235.8', '1267.95', '1715.15', '309.4', '3013.05', '832.05', '6937.95', '6254.2', '1992.95', '1777.9', '4973.4', '6557.75', '237.3', '507.9', '8375.05', '1951', '1564.05', '4566.5', '1299.8', '293.85', '335.65', '125.5', '5231.2', '2320.8', '3887.25', '19.1', '3474.05', '95', '2387.75', '2053.05', '6383.35', '1728.2', '503.6', '165.35', '6241.35', '514.75', '5016.25', '5224.95', '3770', '2479.05', '7719.5', '4811.6', '6230.1', '3825.85', '2122.45', '4922.4', '1288.75', '1697.7', '1358.6', '4156.8', '2583.75', '5643.4', '156.85', '5624.85', '57.2', '265.35', '3771.5', '1215.45', '5961.1', '1319.85', '4146.05', '612.95', '5118.95', '6503.2', '2162.6', '2509.95', '3861.45', '1673.8', '739.35', '4916.4', '2317.1', '6794.75', '927.1', '1008.7', '6526.65', '5011.15', '261.25', '1929.35', '89.9', '6719.9', '33.2', '391.7', '4354.45', '4443.45', '2603.3', '1195.25', '81.05', '989.45', '98.35', '3948.45', '1279', '72.1', '6654.1', '384.25', '2568.15', '6109.75', '321.65', '53.55', '4224.7', '3708.4', '46.35', '159.45', '1230.9', '467.55', '470.95', '4868.4', '321.4', '679.3', '715', '275.7', '6376.55', '6595.9', '6869.7', '152.7', '4213.9', '3650.35', '1442.2', '1784.9', '5222.35', '4985.9', '1342.15', '4025.6', '1476.25', '712.25', '2379.1', '1327.85', '1477.65', '802.35', '4108.15', '3019.5', '5445.95', '1083', '4872.35', '168.65', '3161.4', '622.9', '2597.6', '914.3', '331.9', '4254.1', '6039.9', '2960.1', '6953.4', '2310.2', '4534.9', '1115.2', '677.05', '1130.85', '1558.7', '7129.45', '1441.1', '696.35', '196.4', '2462.6', '2178.6', '1857.75', '365.65', '4092.85', '4888.7', '369.6', '1429.65', '742.9', '6812.95', '289.1', '839.4', '373.5', '1036.75', '2549.1', '5243.05', '5330.2', '113.85', '467.7', '110.05', '1021.75', '140.7', '678.45', '3959.35', '8003.8', '1652.1', '875.35', '360.55', '412.1', '1445.2', '181.6', '1510.5', '7348.8', '1221.65', '2276.1', '198.5', '1266.4', '4760.3', '419.35', '516.15', '708.8', '5706.2', '6109.65', '2791.5', '2130.45', '1515.1', '4103.9', '1758.6', '199.45', '5824.75', '2139.2', '4692.55', '1652.95', '4374.55', '488.65', '161.5', '1071.4', '412.5', '40.25', '4513.65', '3623.95', '238.5', '4920.55', '757.1', '3545.1', '1169.35', '5233.25', '1861.1', '3250.45', '6597.25', '100.35', '543.8', '1140.05', '7047.5', '4233.95', '7372.65', '6164.7', '64.55', '3640.45', '3462.1', '521.35', '2208.05', '512.25', '5895.45', '167.2', '1120.95', '754.65', '2080.1', '571.15', '936.85', '734.6', '4323.35', '1818.9', '436.2', '3270.25', '1336.9', '447.9', '4298.45', '404.35', '27.55', '2684.85', '7532.15', '1994.3', '405.7', '1620.8', '581.7', '1346.2', '5327.25', '1718.2', '996.85', '834.15', '3471.1', '4013.8', '1893.95', '1125.6', '6448.05', '3857.1', '70.65', '912', '865', '5935.1', '1710.9', '571.45', '3058.15', '97.1', '806.95', '452.8', '564.35', '857.8', '25.4', '1500.5', '498.25', '2839.65', '76.45', '827.3', '247.25', '4415.75', '1411.2', '6643.5', '899.8', '5890', '1745.5', '7898.45', '2483.5', '1146.05', '862.4', '882.55', '4362.05', '2015.8', '6179.35', '2368.4', '7782.85', '5614.45', '2530.4', '3684.95', '1131.3', '5166.2', '1732.95', '1566.9', '7882.25', '718.1', '48.45', '740.8', '471.55', '3321.35', '173', '6474.45', '4459.15', '7962.2', '2337.45', '1421.75', '638', '1555.65', '44', '1600.95', '1556.85', '1338.15', '1387', '1700.9', '6237.05', '3431.75', '2347.85', '553.4', '7852.4', '4238.45', '2068.55', '631.85', '874.8', '1047.7', '3930.6', '2220.1', '3810.8', '6314.35', '1593.1', '4908.25', '95.1', '7689.8', '2820.65', '3521.7', '3247.55', '6585.2', '3375.9', '7246.15', '42.9', '4680.05', '7848.5', '1253.5', '5950.2', '4895.1', '6398.05', '44.1', '1218.45', '1641.8', '2514.5', '5265.1', '7849.85', '693.45', '7658.3', '67.1', '659.45', '237.7', '6632.75', '1564.4', '46.4', '5083.55', '537.35', '1696.2', '4052.4', '1051.05', '1252', '939.7', '169.75', '158.4', '1810.85', '1275.6', '2548.55', '2227.1', '1742.75', '7383.7', '3058.3', '2697.4', '1779.95', '346.4', '2939.8', '930.4', '5265.2', '688.65', '2555.05', '60.65', '25.7', '25', '1070.7', '5744.35', '6000.1', '330.05', '832.35', '906.85', '5068.05', '6252.7', '4456.35', '1167.8', '85.7', '2404.1', '6033.3', '853', '70.35', '5038.45', '1413', '326.65', '2908.2', '44.05', '769.1', '3540.65', '5431.4', '2106.3', '7845.8', '8013.55', '1617.5', '1758.9', '4729.3', '1587.55', '1458.1', '1108', '815.5', '617.15', '202.9', '55.2', '1108.8', '309.1', '6281.45', '6741.15', '1611', '2510.7', '5153.5', '608.8', '6615.15', '492', '59.75', '1190.5', '470.6', '856.65', '1384.75', '692.35', '4798.4', '5212.65', '106.2', '4959.15', '1035.5', '6631.85', '8333.95', '2362.1', '276.5', '5348.65', '893', '3778.1', '4664.5', '231.45', '2917.5', '2874.45', '4331.4', '6668', '305.95', '2669.45', '259.65', '5597.65', '1856.4', '164.6', '1580.1', '68.8', '25.85', '71.55', '4586.15', '1639.3', '1363.45', '2868.15', '6688.95', '638.55', '890.5', '2715.3', '644.5', '6589.6', '653.95', '193.8', '497.6', '1498.85', '7210.85', '1715.1', '661.55', '2263.4', '3254.35', '35.85', '708.2', '1321.3', '4149.45', '301.9', '1527.35', '1424.5', '1561.5', '59.25', '5484.4', '329.75', '2683.2', '8192.6', '324.2', '2274.9', '7362.9', '69.9', '805.1', '958.25', '226.2', '3588.4', '3804.4', '31.35', '1445.3', '170.9', '1497.9', '2130.55', '4317.35', '1275.7', '5275.8', '151.65', '646.05', '254.5', '1724.15', '105.5', '5706.3', '1133.65', '6328.7', '123.8', '7051.95', '5034.05', '2479.25', '1798.65', '5435', '490.55', '940.35', '75.7', '1936.85', '1923.85', '3574.5', '356.1', '220.45', '4133.95', '1430.05', '94.55', '332.5', '564.65', '1683.7', '89.75', '1219.85', '3563.8', '5461.45', '6219.6', '565.75', '2066', '338.9', '82.85', '5430.65', '847.8', '7713.55', '62', '3237.05', '5468.45', '1584.8', '1718.35', '19.2', '610.2', '7611.55', '529.5', '788.05', '322.9', '3851.45', '1679.25', '152.95', '5683.6', '6363.45', '3410.6', '7251.7', '1782', '662.95', '4965.1', '2076.05', '220.75', '7159.7', '107.1', '712.85', '3626.1', '2324.7', '6302.85', '552.7', '4507.15', '3512.15', '1692.6', '459.95', '3000.25', '5031.85', '235.65', '3361.05', '29.85', '1559.15', '1521.2', '330.8', '3423.5', '4310.35', '844.45', '4264.6', '181.65', '1743.5', '5475.9', '2537', '3678.3', '898.35', '7251.9', '221.1', '4888.2', '45.05', '2191.15', '4534.45', '4068', '294.5', '313.4', '1193.55', '536.4', '6373.1', '3089.1', '501', '1474.75', '1952.8', '964.35', '7842.3', '58', '2187.55', '220.6', '5769.6', '1581.2', '1566.75', '6590.8', '1985.15', '4903.2', '4824.45', '2443.3', '119.3', '3198.6', '2028.8', '317.75', '80.8', '825.7', '321.7', '2763.35', '641.25', '6555.2', '5968.4', '2045.55', '1442.6', '2854.55', '4508.65', '830.25', '701.3', '5560', '1246.4', '7581.5', '5551.15', '2193', '5129.3', '6325.25', '219.35', '6019.35', '4348.1', '2470.1', '6413.65', '99.75', '651.55', '69.15', '85.55', '92.75', '886.7', '4428.6', '78.25', '4931.8', '5037.55', '1715.65', '326.8', '533.05', '208.85', '662.65', '3581.6', '1205.05', '263.05', '77.15', '1653.45', '562.6', '1315.35', '1537.9', '2931', '284.9', '2341.5', '1842.7', '2625.55', '2090.25', '141.5', '4299.75', '1540.35', '8425.15', '765.15', '178.7', '5553.25', '930.45', '923.85', '3444.85', '4677.1', '341.35', '1727.5', '4056.75', '7475.85', '2203.7', '69.85', '5194.05', '5708.2', '3077', '597.9', '2585.95', '1244.5', '3055.5', '1414.45', '5940.85', '1390.6', '4807.45', '7173.15', '546.95', '73.6', '6941.2', '3488.15', '7317.1', '1608.15', '497.55', '1451.9', '6396.45', '63.15', '4388.4', '7472.15', '4995.35', '547.65', '6638.35', '2649.15', '3275.15', '265.8', '44.35', '7665.8', '601.55', '741', '4009.2', '79.45', '1126.35', '669', '4837.6', '4889.2', '5931', '5023', '6157.6', '237.65', '299.2', '219.5', '675.6', '833.55', '383.65', '457.1', '142.35', '926.2', '576.7', '2088.05', '3409.6', '4557.5', '837.95', '2879.9', '187.45', '6767.1', '34.75', '1252.85', '25.35', '1818.3', '101.9', '3382.3', '199.85', '695.85', '1540.2', '568.2', '2034.25', '39.8', '229.5', '4187.75', '455.3', '179.35', '2042.05', '161.45', '931.9', '7039.45', '7288.4', '1742.95', '2961.4', '1152.7', '2414.55', '72.4', '7405.5', '1740.7', '1381.2', '475.25', '2928.5', '1151.55', '6725.3', '4615.9', '655.5', '7114.25', '169.8', '85', '20.8', '7609.75', '5916.45', '3744.05', '929.3', '3349.1', '4939.25', '32.7', '1797.75', '3084.9', '548.9', '2072.75', '3778.2', '4264.25', '3273.8', '265.45', '487.75', '3403.4', '6405', '535.55', '6871.9', '89.1', '601.25', '1523.4', '7517.7', '955.6', '3001.2', '3480', '1399.35', '6431.05', '2753.8', '45.55', '6141.65', '2221.55', '3515.25', '1893.5', '3655.45', '2780.6', '3260.1', '279.2', '7806.6', '19.65', '1826.7', '751.65', '4158.25', '1802.15', '7578.05', '1345.65', '5317.8', '3342', '2404.15', '309.25', '125', '1461.45', '237.95', '3019.1', '297.3', '2298.55', '5538.8', '3836.3', '7542.25', '186.3', '682.1', '129.15', '871.4', '117.95', '4664.2', '5595.3', '3190.65', '3182.95', '1369.8', '534.7', '7508.55', '581.85', '1614.2', '69.6', '8477.7', '521.1', '5071.9', '19.05', '6603', '5743.05', '1416.75', '1105.4', '5826.65', '7752.05', '44.6', '4284.8', '1013.6', '2275.1', '3181.8', '2288.7', '7939.25', '6056.9', '284.3', '944.65', '1346.3', '3014.65', '50.65', '1388', '5435.6', '89.25', '424.45', '180.3', '1647', '2799.75', '93.7', '1017.35', '475.2', '7099', '154.8', '90.35', '357', '2007.25', '2813.05', '2545.75', '7031.45', '41.2', '2606.35', '6079', '495.15', '1520.1', '81', '788.8', '1225.65', '5231.3', '4346.4', '6989.7', '1992.85', '4361.55', '99.6', '3190.25', '8310.55', '6602.9', '1660', '5409.75', '3638.25', '5442.05', '1524.85', '141.7', '1841.9', '1263.9', '377.85', '8424.9', '2018.1', '609.1', '552.65', '154.65', '2882.25', '1938.05', '2384.15', '886.4', '55.4', '7069.3', '2536.55', '70.15', '5293.4', '6975.25', '5794.45', '6506.15', '74.1', '84.3', '3085.35', '3346.8', '3186.7', '921.55', '35', '78.95', '990.45', '359.4', '520.95', '7634.25', '3274.35', '435.4', '6333.4', '498.1', '6416.7', '130.25', '340.85', '302.45', '1267', '95.65', '50.8', '217.1', '550.1', '3520.75', '3204.65', '6078.75', '139.25', '1214.05', '3384', '7220.35', '465.45', '45.85', '3919.15', '58.3', '518.9', '8220.4', '507.4', '2289.9', '938.95', '270.15', '6153.85', '1620.45', '2484', '3856.75', '2391.8', '1424.9', '4135', '1023.85', '2595.85', '1329.15', '5059.75', '998.1', '186.05', '244.45', '1809.35', '3157', '5000.2', '6130.85', '1559.3', '1803.7', '1054.8', '1573.05', '788.35', '5610.25', '1493.75', '5232.9', '159.15', '2893.4', '941', '1930.9', '3895.35', '1386.8', '5646.6', '1753', '6747.35', '1686.15', '560.6', '400.3', '6332.75', '7159.05', '118.3', '86.35', '5916.95', '2416.55', '860.85', '96.8', '228.65', '3419.3', '2970.3', '1421.9', '388.6', '2793.55', '2997.45', '599.3', '1787.35', '245.2', '3810.55', '38.45', '91.3', '228.4', '82.7', '235.1', '3410', '617.35', '553', '2186.4', '4097.05', '2754.45', '4297.95', '3196', '2666.75', '6441.85', '2460.55', '1370.35', '2613.4', '485.25', '2282.55', '6457.15', '74.25', '181.8', '225.65', '2200.7', '936.7', '625.05', '666.75', '3686.05', '3912.9', '2839.95', '1269.1', '270.2', '369.05', '4136.4', '3496.3', '1131.2', '970.4', '123.65', '4671.7', '2212.55', '4089.45', '6637.9', '1492.1', '4869.35', '5193.2', '3011.65', '2044.75', '576.95', '784.45', '1801.1', '5289.05', '6538.45', '7752.3', '3162.65', '815.55', '810.2', '146.65', '109.2', '1638.7', '6735.05', '1901.65', '1058.6', '1045.25', '203.95', '661.25', '888.75', '989.05', '1090.65', '43.15', '2933.2', '140.1', '6302.8', '8477.6', '3207.55', '19.25', '7227.45', '2356.75', '202.25', '1871.15', '62.8', '3815.4', '1253.65', '156.1', '828.85', '545.2', '8075.35', '3833.95', '45.6', '3436.1', '1513.6', '98.5', '20.15', '4639.45', '5388.15', '1710.45', '478.1', '1234.8', '4747.65', '3985.35', '1061.6', '718.55', '4368.85', '966.25', '6069.25', '667.7', '2460.35', '4822.85', '74', '198.1', '1378.75', '341.45', '453.4', '1007.8', '71.2', '611.65', '1614.05', '351.5', '1859.1', '2854.95', '2421.75', '2224.5', '94', '2976.95', '143.9', '3437.5', '452.7', '78.3', '49.65', '6185.8', '688.5', '100.25', '809.75', '35.1', '90.1', '134.6', '2440.15', '4627.8', '293.15', '2497.35', '6448.85', '3777.15', '4326.25', '917.45', '2511.55', '7968.85', '38.25', '5549.4', '767.55', '4214.25', '6780.1', '4481', '4874.8', '564.4', '168.9', '1682.4', '2647.1', '605.75', '316.9', '4122.65', '840.1', '547.8', '431', '1286', '202.15', '1129.35', '711.9', '3199', '1662.05', '494.9', '7737.55', '1336.8', '44.8', '627.4', '2688.45', '469.85', '1764.75', '55', '4261.2', '1615.1', '108.7', '880.05', '7209', '220.65', '3880.05', '248.95', '2404.85', '8547.15', '4018.05', '1621.35', '1505.85', '5832.65', '1326.25', '79.5', '458.1', '1629.2', '314.55', '471.7', '1778.5', '3043.6', '137.1', '813.85', '1836.25', '4237.5', '555.4', '8012.75', '503.25', '5508.35', '1205.5', '550.6', '426.65', '1740.8', '7344.45', '237.75', '1031.1', '168.5', '2624.25', '3068.6', '1459.35', '124.45', '5656.75', '452.35', '3969.4', '6614.9', '955.15', '78.05', '2737.05', '676.7', '2312.55', '658.1', '6991.9', '1742.5', '52.05', '436.9', '1110.35', '1612.2', '799', '7142.5', '4307.1', '908.75', '146.05', '788.6', '492.55', '893.2', '1636.95', '669.85', '3549.25', '1288.3', '7133.25', '552.1', '225.75', '8277.05', '7674.55', '411.75', '19.45', '104.3', '731.3', '606.25', '3021.45', '629.35', '3096.9', '2952.85', '477.6', '6668.05', '5375.15', '2959.8', '1442', '2773.9', '29.95', '1218.65', '1055.9', '68.2', '7943.45', '5681.1', '304.6', '4652.4', '4348.65', '7455.45', '1120.3', '1274.05', '1657.4', '207.4', '3343.15', '2043.45', '48.55', '3557.7', '3600.65', '716.1', '2588.95', '5064.45', '1843.05', '5731.4', '2909.95', '109.6', '34.7', '947.4', '4179.2', '1029.35', '2623.65', '6143.15', '7511.65', '5985.75', '1189.9', '5815.15', '1334', '1357.1', '7386.05', '6287.3', '46', '4303.65', '1308.1', '8124.2', '5714.25', '5294.6', '1165.9', '2724.6', '1565.7', '31.9', '5746.75', '89.35', '5598.3', '291.45', '779.25', '8240.85', '79.65', '653.15', '4386.2', '225.55', '3635.15', '358.5', '1183.8', '1183.05', '3838.75', '2689.35', '252.75', '5301.1', '2866.45', '2809.05', '144.95', '3988.5', '147.8', '270.8', '4014', '390.4', '2348.45', '327.45', '999.45', '1191.4', '5116.6', '438.9', '2475.35', '1356.7', '527.9', '865.05', '6239.05', '87.3', '74.35', '179.85', '2016.3', '6563.4', '824.85', '4746.05', '1626.4', '3645.6', '157.55', '857.75', '5608.4', '438.05', '132.25', '2497.2', '864.2', '42.7', '7789.6', '4014.6', '372.45', '4547.25', '916.75', '4869.5', '401.95', '985.05', '1672.1', '3027.25', '7475.1', '1093', '4959.6', '762.1', '6068.65', '854.8', '4847.05', '249.55', '1170.55', '4941.8', '69.95', '157.75', '1391.65', '80.15', '1025.05', '1444.05', '184.15', '357.75', '235', '1174.8', '1146.65', '711.95', '6375.8', '5029.05', '85.45', '797.1', '1087.25', '231.8', '666', '76', '3734.25', '306.6', '3715.65', '362.6', '3122.4', '308.7', '3769.7', '800.3', '1441.8', '43.95', '633.4', '761.95', '19.15', '165.45', '4830.25', '1929', '4040.2', '1233.4', '465.85', '3112.05', '2823', '5405.8', '443.9', '419.9', '6875.35', '4036.85', '47.5', '820.5', '90.55', '7028.5', '94.6', '86.6', '301.4', '566.5', '2874.15', '4990.25', '6562.9', '1398.25', '2441.7', '44.75', '412.6', '2572.95', '2745.2', '5127.95', '382.8', '2062.15', '4854.3', '5236.4', '3425.35', '1866.45', '1093.4', '89.5', '1847.55', '8312.75', '1385.85', '2184.35', '4189.7', '1060.6', '657.5', '369.25', '1423.05', '167.5', '1064.65', '3532.25', '1415.55', '4400.75', '95.55', '7862.25', '8248.5', '5440.9', '239.55', '1221.55', '3539.25', '2933.95', '4327.5', '4124.65', '2723.75', '150.75', '2890.65', '251.65', '4345', '6603.8', '402.6', '320.45', '2168.9', '1272.05', '3092.65', '684.85', '71', '60.1', '3944.5', '4107.3', '433.75', '4871.45', '1051.9', '1781.35', '730.1', '2196.15', '7101.5', '1760.25', '1281.25', '4807.35', '3848.8', '29.15', '1022.6', '4070.95', '79.8', '1162.85', '45.8', '318.6', '1623.15', '607.3', '1612.75', '6368.2', '1956.4', '2365.15', '4882.8', '4744.35', '1346.9', '1323.7', '7082.5', '560.85', '3175.85', '49.5', '386.5', '352.65', '70.5', '1400.55', '610.75', '5960.5', '2409.9', '293.65', '3105.55', '7623.2', '285.2', '4458.15', '25.05', '1066.15', '116.85', '4390.25', '817.95', '4299.2', '394.1', '2033.85', '567.8', '358.15', '670.35', '1359', '5638.3', '7840.6', '1277.5', '20.95', '2659.45', '1194.3', '6858.9', '2494.65', '6595', '84.4', '6350.5', '608.5', '2006.1', '1406.9', '1939.35', '90.05', '1529.65', '3078.1', '7576.7', '1908.35', '1240.15', '3579.15', '789.55', '3042.25', '3893.6', '77.6', '5753.25', '6849.4', '1888.25', '4126.35', '78.45', '242', '4392.5', '1838.15', '35.75', '2799', '784.25', '2302.35', '477.05', '6605.55', '1198.05', '3019.7', '28.3', '96.1', '1964.6', '2679.7', '3739.8', '900.9', '4575.35', '2292.75', '411.15', '2979.5', '6161.9', '644.35', '1462.05', '1302.65', '1312.15', '2587.7', '2058.5', '159.2', '3887.85', '50.9', '6017.9', '289.3', '3767.4', '85.8', '2298.9', '655.85', '2978.3', '250.05', '5769.75', '487.05', '93.3', '558.8', '413.65', '834.7', '5703.25', '162.3', '7878.3', '2619.15', '1902', '3965.05', '4667', '649.4', '3419.5', '73.1', '7942.15', '246.6', '3373.4', '6201.95', '190.5', '761.85', '3505.1', '1468.75', '6851.65', '3109.9', '583.3', '238.1', '20.2', '1622.45', '1191.2', '6690.75', '1851.45', '177.4', '997.75', '1033', '3972.25', '4853.75', '330.6', '1315', '771.95', '7149.35', '1821.95', '24.2', '3475.55', '1992.55', '2515.3', '1848.8', '1054.75', '4541.9', '4577.9', '6567.9', '308.25', '1777.6', '789.2', '111.05', '647.5', '5427.05', '1867.7', '44.7', '587.7', '5676', '135', '6152.3', '2495.15', '1337.5', '2049.05', '179.25', '25.8', '2877.05', '2264.05', '2766.4', '3208.65', '298.35', '1234.6', '1943.9', '8250', '8126.65', '1147', '3808', '990.3', '3121.45', '2236.2', '4917.9', '4054.2', '1924.1', '5956.85', '764.95', '168.15', '1348.9', '6716.45', '4997.5', '2610.65', '6474.4', '6341.45', '697.7', '819.95', '4758.8', '7984.15', '1143.8', '45.75', '1297.8', '18.9', '5139.65', '71.25', '605.9', '3996.8', '3251.85', '4483.95', '531.15', '2730.85', '38', '146.6', '264.85', '2303.35', '5639.05', '2868.05', '83.4', '2628.6', '5150.55', '1402.25', '834.2', '7181.25', '3246.45', '3364.55', '6418.9', '1001.5', '5574.35', '331.35', '5265.5', '727.8', '943.1', '740.3', '677.9', '39.25', '109.25', '3593.8', '3173.35', '4867.95', '1496.45', '2025.1', '4084.35', '633.3', '1134.25', '299.7', '1114.85', '3435.6', '4226.7', '5295.7', '6056.15', '2835.5', '816.8', '1147.85', '1582.75', '5497.05', '7303.05', '323.45', '2499.3', '7168.25', '1041.8', '1404.65', '3629.2', '358.05', '2710.25', '2879.2', '1471.75', '6998.95', '5580.8', '5873.75', '7853.7', '755.6', '151.75', '418.3', '1077.95', '242.4', '609.9', '8436.25', '5611.75', '449.3', '1932.75', '3053', '260.7', '1842.8', '459.6', '3994.45', '261.65', '102.45', '235.05', '7711.45', '3673.15', '1505.45', '143.35', '5893.15', '4478.85', '1101.85', '576.65', '7085.5', '506.9', '926.25', '7133.1', '1263.05', '25.15', '880.2', '2001', '3090.05', '411.45', '2257.75', '3460.95', '6840.95', '3415.25', '773.65', '168.6', '500.1', '5528.9', '1355.1', '7308.95', '1756.6', '228', '3243.45', '1834.15', '540.05', '827.45', '1270.55', '918.7', '52', '2431.35', '1607.2', '1029.8', '3571.6', '931.75', '3330.1', '5411.4', '716.4', '5811.8', '1231.85', '4859.95', '1218.25', '350.3', '377.55', '1216.35', '452.55', '4370.25', '573.15', '6529.25', '8317.95', '1625', '668.85', '2265', '1616.15', '5705.05', '4245.55', '948.9', '4528', '1261', '74.95', '4779.45', '2234.55', '563.5', '21', '3416.85', '2888.7', '8349.7', '6994.8', '212.4', '73', '2656.7', '1253.8', '3687.85', '216.45', '189.95', '3066.45', '2998', '4122.9', '2901.8', '1108.6', '1029.75', '1164.3', '250.1', '191.35', '4543.95', '1539.8', '63', '1216.6', '1149.65', '6565.85', '7854.15', '7559.55', '1679.65', '1117.55', '4619.55', '3562.5', '442.2', '434.1', '51.2', '1538.6', '206.6', '6297.65', '2415.95', '1008.55', '299.05', '415.9', '5424.25', '151.3', '6110.75', '1393.6', '74.9', '324.25', '6707.15', '141.45', '6590.5', '267.6', '313.45', '4494.65', '3694.7', '573.3', '5755.8', '1043.35', '324.3', '407.05', '8041.65', '501.35', '2743.45', '20.85', '664.4', '5913.95', '551.35', '216.9', '76.4', '3008.15', '450.8', '147.55', '1790.6', '5458.8', '465.05', '5222.3', '4820.15', '541.9', '1375.15', '1337.45', '1867.6', '689', '2296.25', '8078.1', '316.2', '2807.1', '4266.4', '1928.7', '824.75', '1734.5', '1539.75', '5607.75', '1553.95', '5629.55', '4016.85', '1783.75', '1316.9', '1093.1', '1344.5', '61.7', '672.55', '5869.4', '246.7', '126.05', '4367.35', '1057', '1187.05', '1901', '114.7', '4059.35', '226.8', '2070.05', '2495.2', '686.95', '2019.8', '1308.4', '835.5', '526.95', '923.5', '1934.45', '8564.75', '2407.3', '723.3', '116.65', '93.85', '2907.55', '415.4', '1548.65', '342.4', '1373', '1776.45', '2215.4', '1917.1', '267.35', '8058.55', '791.75', '116.6', '1704.95', '949.8', '1192.3', '2962', '70', '3580.95', '2283.3', '442.6', '7382.85', '1465.75', '3587.25', '1009.25', '246.25', '1067.15', '1013.2', '4520.15', '3021.3', '1611.15', '1497.05', '1215.1', '356.15', '7322.5', '1242.25', '1110.05', '625.65', '4554.85', '5844.65', '655.9', '3645.75', '6669.45', '2291.2', '3121.1', '86.05', '1782.05', '53.15', '1388.75', '6127.6', '345.9', '1066.9', '733.55', '20.75', '3565.65', '480.6', '1023.95', '1794.8', '5237.4', '1875.55', '1857.85', '550.35', '307', '5610.15', '6333.8', '1381.8', '4949.1', '2511.3', '957.1', '2861.45', '1614.7', '4519.5', '7250.15', '6310.9', '5536.5', '1396', '403.15', '3482.85', '6876.05', '679', '291.9', '428.45', '19.85', '5438.9', '1845.9', '8244.3', '70.85', '790.15', '8443.7', '5073.1', '149.05', '593.2', '3171.15', '3753.2', '2386.85', '6689', '2021.2', '4546', '2230.85', '572.2', '502.85', '111.65', '1655.35', '697.65', '4174.35', '6018.65', '3316.1', '723.4', '1148.1', '218.55', '6172', '896.75', '3221.25', '79.2', '6891.45', '144.15', '6951.15', '631.4', '7365.7', '2075.1', '1390.85', '273.2', '3187.65', '3452.55', '1759.55', '7657.4', '1212.85', '49.8', '6441.4', '943.85', '4107.25', '4300.8', '117.05', '258.35', '854.9', '3437.45', '115.95', '3829.75', '1057.85', '1500.95', '1215.6', '6895.5', '102.5', '1292.6', '2448.5', '7325.1', '1206.05', '5168.1', '649.65', '1287.85', '946.95', '5315.1', '217.5', '6979.8', '2576.8', '165.2', '8065.65', '713.75', '509.3', '2199.05', '51.15', '702', '450.4', '4209.95', '5215.1', '770.5', '828.2', '3069.45', '329.95', '1122.4', '1261.45', '6856.95', '3229.4', '134.5', '62.05', '3015.75', '1156.55', '3204.4', '1024.65', '2094.9', '252', '1096.25', '69.55', '2383.6', '384.5', '415.55', '1285.05', '4085.75', '3958.85', '411.6', '538.5', '2841.55', '438.25', '3958.2', '185.4', '999.9', '734.35', '3121.4', '74.2', '4664.15', '181.1', '4543.15', '6822.15', '1312.45', '367.95', '206.15', '8035.95', '4447.75', '44.15', '6982.5', '6891.4', '3211.9', '684.4', '1375.4', '2106.05', '585.95', '2568.55', '1462.6', '825.1', '1097.15', '7567.2', '6094.25', '1024', '1533.8', '462.8', '593.05', '4872.2', '690.25', '956.65', '1224.05', '3882.3', '6914.95', '5129.45', '8349.45', '5069.65', '1378.25', '4454.25', '116.95', '336.7', '482.25', '4532.3', '5498.8', '1249.25', '2838.55', '4749.15', '1261.7', '3491.55', '3687.75', '1597.4', '1783.6', '4871.05', '39.3', '5125.75', '1233.15', '1258.35', '889.9', '70.7', '7234.8', '6586.85', '710.05', '1504.05', '660.9', '1212.1', '261.3', '5594', '969.85', '7856', '272.95', '4222.95', '4060.55', '4916.95', '220.4', '1291.35', '4512.7', '469.8', '4904.2', '424.75', '1175.85', '579.4', '639.65', '246.5', '542.4', '5555.3', '6841.45', '779.2', '1813.1', '5276.1', '38.8', '312.7', '5071.05', '3707.6', '3313.4', '2934.3', '347.65', '3134.7', '6518.35', '2967.35', '73.55', '1423.65', '19.95', '814.75', '1637.3', '5215.25', '50.5', '357.15', '85.15', '5426.85', '35.25', '81.7', '130.1', '1004.5', '2169.75', '548.8', '530.05', '1498.55', '257.05', '908.15', '1423.15', '5299.65', '7690.9', '632.95', '86', '5574.75', '967.85', '146.4', '226.55', '5831.2', '84.5', '210.65', '6758.45', '4735.2', '1375.6', '3264.45', '763.1', '365.35', '1679.4', '6936.85', '19.75', '8109.8', '1993.2', '7118.9', '930.9', '50.35', '525.55', '140.95', '454.15', '4828.05', '5060.9', '846.8', '58.15', '3005.8', '855.1', '393.15', '1185', '1739.6', '7922.75', '2425.4', '4295.35', '574.5', '2546.85', '4911.05', '6886.25', '1277.75', '1957.1', '3147.15', '1536.75', '6480.9', '3597.5', '518.75', '340.25', '894.3', '1334.5', '44.45', '1530.6', '193.05', '5377.8', '20.1', '52.2', '1554.9', '124.4', '36.8', '1581.95', '420.2', '3554.6', '5199.8', '1546.3', '5848.6', '1096.6', '2201.75', '3058.65', '4259.3', '3545.05', '4718.25', '1597.25', '35.9', '54.35', '7920.7', '5692.65', '1436.95', '4738.85', '321.75', '2331.3', '2016.45', '455.5', '990.9', '55.8', '251.25', '186.15', '2316.85', '371.65', '5720.95', '221.35', '3591.25', '87.9', '927.65', '2117.2', '96.85', '434.8', '1026.35', '149.55', '4913.3', '2745.7', '3865.45', '1454.25', '2896.55', '2263.45', '7321.05', '118.5', '5971.25', '4855.35', '1553.2', '688', '1145.7', '1461.15', '5832', '4003.85', '4039.5', '5878.9', '4555.2', '1301.1', '5861.75', '1671.6', '6339.45', '229.4', '505.95', '504.2', '1583.5', '6880.85', '91.45', '6126.15', '2188.45', '2078.55', '1970.5', '1559.25', '43.85', '6463.15', '6077.75', '171.15', '5124.55', '632.2', '6989.45', '5036.9', '2898.95', '3110.1', '1514.85', '790.7', '4275.75', '415.05', '917.15', '244.85', '5234.95', '3483.45', '2607.6', '7839.85', '4741.45', '8312.4', '855.3', '999.8', '1056.95', '160.75', '2877.95', '679.85', '1529.2', '786.3', '916', '2894.55', '1138.8', '970.45', '5293.2', '916.9', '3050.15', '112.75', '5893.9', '1127.35', '1676.95', '2007.85', '51.6', '1505.15', '1303.5', '572.45', '482.8', '4627.65', '2665', '1422.65', '1147.45', '1841.2', '122.7', '2351.45', '5661.7', '95.45', '78.65', '2564.95', '2215', '1363.25', '2281.6', '424.5', '332.45', '2509.25', '6309.65', '8425.3', '1567', '331.3', '134.7', '6444.05', '2248.05', '1416.5', '1374.2', '567.45', '1623.4', '266.95', '1837.7', '1021.8', '169.45', '76.95', '4480.7', '1111.85', '970.55', '1235.55', '6687.85', '593.3', '2012.7', '713.6', '1864.65', '3886.05', '3674.95', '1574.45', '75.75', '154.85', '1941.5', '5682.25', '829.1', '1790.15', '369.15', '6375.2', '786.5', '532.1', '4765', '5264.25', '5522.7', '4653.85', '5154.5', '294.9', '717.3', '3990.6', '7413.55', '4162.05', '6944.5', '108.95', '2301.15', '2381.55', '340.35', '1592.35', '6254.45', '7919.8', '82.3', '80.95', '2347.9', '933.3', '2231.05', '7544', '387.7', '7881.2', '198.25', '7061.65', '2168.15', '1482.3', '535.05', '91.1', '161.65', '692.55', '947.75', '3450.15', '4116.9', '1264.2', '422.7', '1723.95', '742.95', '865.8', '434.5', '2274.1', '1874.3', '3899.05', '6046.1', '3088.75', '919.4', '1364.75', '19.8', '937.5', '1701.65', '1597.05', '892.65', '523.1', '219', '4730.9', '781.25', '294.2', '6889.8', '85.5', '6674.65', '3046.4', '1633', '198', '905.55', '7611.85', '1303.25', '583.45', '4523.25', '1331.05', '2245.4', '573.05', '1043.4', '146.9', '77.75', '5511.65', '5812.6', '2093.9', '54.9', '3213.75', '2560.1', '5264.5', '706.6', '1022.95', '772.4', '8093.15', '3273.95', '963.95', '4759.85', '818.45', '113.5', '6697.2', '3030.6', '1050.5', '4453.3', '607.7', '1516.6', '1539.45', '4263.45', '211.95', '3067.2', '6479.4', '1087.7', '6430.9', '3035.8', '6976.75', '1004.75', '1173.35', '7334.05', '4479.2', '3949.15', '6782.15', '1380.1', '697.25', '147.15', '187.75', '762.25', '2871.5', '3994.05', '8670.1', '65.95', '1269.6', '1588.75', '6225.4', '49.9', '4590.35', '842.9', '1971.5', '3952.65', '3713.95', '1652.4', '5386.5', '45.7', '2180.55', '74.7', '416.45', '235.2', '812.5', '222.65', '113.95', '2210.2', '1748.55', '6754.35', '4063', '4179.1', '3566.7', '1023.9', '365.8', '55.55', '616.9', '165.5', '8086.4', '8672.45', '6382.55', '275.4', '2109.35', '5617.75', '4025.5', '1238.45', '6962.85', '2018.4', '980.35', '3581.4', '7104.2', '368.85', '6991.6', '40.9', '1886.25', '1820.9', '4113.7', '4759.75', '3480.35', '131.65', '242.8', '7040.85', '2596.15', '1200.15', '174.2', '20.4', '1170.5', '565.35', '305.1', '1345.75', '799.65', '33.6', '1098.85', '7188.5', '1382.9', '1742.45', '270.95', '95.6', '2835.9', '185.55', '460.25', '1258.15', '1345.85', '344.5', '1554', '2658.8', '181.5', '232.55', '485.2', '516.3', '5437.1', '3024.15', '54.65', '4265', '2496.7', '7074.4', '44.2', '2413.05', '5589.45', '1378.45', '4684.3', '453.75', '4026.4', '1355.45', '118.4', '6287.25', '273.4', '452.2', '3778.85', '3457.45', '4284.2', '757.95', '2774.55', '181.7', '755.4', '2538.05', '123.05', '78.9', '7511.9', '2135.5', '7245.9', '4250.1', '4903.15', '994.8', '389.8', '4689.5', '279.3', '6816.95', '3116.15', '5985', '1411.65', '7113.75', '1752.45', '1270.2', '867.3', '401.1', '1875.25', '194.55', '3094.05', '930.95', '7244.7', '7349.35', '605.25', '6392.85', '2444.25', '1709.15', '1790.8', '4116.8', '1380.4', '278.85', '4284.65', '35.55', '593.75', '329.8', '66.95', '1982.1', '2272.8', '318.5', '1319.95', '554.05', '1244.8', '1259', '1859.2', '3399.85', '1348.5', '828.05', '1412.65', '475.7', '314.45', '208.25', '3043.7', '283.75', '1077.05', '5420.65', '5526.75', '1237.3', '613.95', '5953', '5029.2', '2570', '3047.15', '56', '3795.45', '7556.9', '36.45', '4615.25', '25.25', '1001.2', '420.45', '2633.4', '2375.2', '6129.2', '1372.45', '406.05', '4564.9', '2193.65', '255.6', '4698.05', '1165.6', '746.5', '6844.5', '7039.05', '522.95', '6017.65', '5244.45', '651.5', '2203.1', '74.45', '2664.3', '370.4', '2134.3', '399.25', '3827.9', '6733', '7049.75', '141.1', '6825.65', '785.75', '572.85', '749.35', '6300.85', '541.15', '759.35', '551.95', '5917.55', '6705.7', '545.15', '161.15', '7082.45', '324.15', '1517.5', '2209.75', '4138.05', '5542.55', '934.1', '813.45', '1857.3', '617.85', '229.7', '3533.6', '689.35', '6306.5', '2727.8', '6388.65', '389.95', '7007.6', '3141.7', '362.2', '40.1', '6710.5', '55.45', '847.3', '2728.6', '4653.25', '3842.6', '3062.45', '1529.45', '103.7', '269.65', '216.2', '48.95', '267', '4818.8', '1394.55', '510.8', '883.35', '4045.65', '174.8', '342.3', '4982.5', '539.85', '2467.1', '4805.65', '219.65', '144', '1470.05', '135.2', '7795.95', '1654.7', '950.2', '1898.1', '1447.9', '1830.05', '706.85', '740.55', '37.2', '1242.45', '853.1', '962.9', '3634.8', '6029', '1510.3', '2796.45', '1778.7', '3303.05', '150.6', '3334.95', '164.85', '2727.3', '3369.05', '3457.9', '4812.75', '4138.7', '4159.45', '499.4', '2538.2', '1968.1', '3326.2', '25.3', '1266.35', '914', '3975.7', '5224.5', '132.4', '6921.7', '3211.2', '3097.2', '2696.55', '6365.35', '1350.15', '954.9', '401.5', '676.15', '1240.8', '3921.3', '586.05', '137.25', '2156.25', '4178.65', '2989.6', '1958.95', '19.5', '6733.15', '94.4', '7459.05', '2911.8', '1686.85', '5986.55', '5341.8', '1309', '332.65', '5588.8', '1430.95', '1374.9', '1123.15', '1955.4', '1317.95', '1424.95', '1531.4', '1887', '440.2', '50.45', '323.25', '105.6', '159.4', '777.35', '2258.25', '6065.3', '1438.05', '930.05', '747.2', '4017.45', '3021.6', '780.25', '4155.95', '4042.2', '1509.8', '1588.25', '1111.2', '39.65', '45.15', '5398.6', '295.65', '5430.35', '71.15', '851.75', '2878.55', '2907.35', '2440.25', '1180.95', '2001.5', '1958.45', '4614.55', '4473.45', '1551.6', '2405.05', '1284.2', '478.75', '69.65', '3874.1', '1339.8', '1376.5', '3875.4', '141.65', '4131.2', '6669.05', '447.75', '2919.85', '4693.2', '2341.55', '371.6', '2424.05', '1961.6', '281', '96.45', '672.7', '4473', '5780.7', '1127.2', '92.05', '3161.2', '4456.65', '606.55', '2211.8', '1373.05', '2979.3', '2911.5', '2838.7', '7111.3', '1275.65', '370.25', '2204.35', '4845.4', '485.9', '831.75', '314.95', '250.8', '1706.45', '3846.35', '292.85', '3474.45', '4627.85', '4228.55', '3339.05', '5930.05', '3759.05', '6841.05', '2878.75', '324.6', '333.65', '3862.55', '294.95', '3486.65', '7993.3', '3009.5', '330.25', '2983.8', '330.15', '424.15', '4364.1', '4920.8', '7869.05', '1046.5', '544.55', '2375.4', '163.6', '830.85', '3371', '2076.2', '3186.65', '973.25', '810.45', '2781.85', '2555.9', '1070.25', '335.95', '4905.75', '472.65', '3969.35', '5943.65', '2357.75', '349.65', '18.8', '4036', '973.45', '1750.85', '3184.25', '750.1', '6510.45', '209.1', '2423.4', '865.1', '425.1', '308.05', '6362.35', '8100.25', '6700.05', '227.45', '2857.6', '6218.45', '3166.9', '1281', '6871.7', '239.75', '6132.7', '5632.55', '2421.6', '4972.1', '73.05', '131.05', '8306.05', '113.35', '147.5', '1775.8', '6640.7', '4309.55', '31.2', '1511.2', '2674.15', '435.45', '4086.3', '371.4', '232.4', '7222.75', '1611.65', '603', '1443.65', '83.3', '7565.35', '224.85', '134.35', '903.7', '1198.8', '959.9', '1490.95', '4391.45', '1992.2', '7332.4', '210.3', '3038.55', '1132.35', '1201.15', '5196.1', '717.5', '422.3', '7521.95', '5200.8', '1734.2', '385', '268.45', '6045.9', '91.7', '1416.2', '2603.1', '593.45', '1250.1', '2095', '4304.5', '19', '7589.8', '1640', '3886.85', '2595.25', '2322.85', '845.25', '3720.35', '155.35', '3264.5', '191.1', '654.85', '4713.4', '1620.2', '2193.2', '2239.4', '1025.15', '272.15', '1145.35', '24.9', '773.2', '8033.1', '70.4', '2149.05', '520', '1855.65', '5102.35', '1360.25', '4242.35', '169.65', '1654.6', '2722.2', '952.3', '5825.5', '1884.65', '1914.5', '3754.6', '422.5', '442.85', '4669.2', '2020.9', '7555', '1734.65', '5124.6', '138.85', '4707.1', '77.5', '571.05', '2758.15', '1392.25', '4720', '1401.4', '2452.7', '1177.05', '7711.25', '237.2', '2748.7', '108.05', '109.8', '1527.5', '673.1', '5817.45', '5376.4', '2326.05', '2010.55', '3365.85', '1570.7', '3653', '6252.9', '81.95', '7467.5', '4747.5', '218.5', '531', '2345.55', '5846.65', '6339.3', '1776', '3953.7', '1359.45', '30.55', '387.4', '1301.7', '4509.5', '674.55', '3439', '4517.25', '7009.5', '901.25', '6293.75', '2647.2', '4889.3', '396.3', '780.85', '1032', '700.85', '1166.7', '1245.6', '75.05', '1178.4', '4657.95', '781.4', '226.45', '6300.15', '575.45', '7297.75', '849.1', '6144.55', '720.1', '2459.8', '1880.85', '5931.75', '408.25', '1174.35', '6994.6', '220.1', '926', '49.55', '1080.55', '45.4', '78.8', '1043.8', '921.3', '3309.25', '1126.75', '1834.95', '1460.85', '1028.75', '244.65', '1160.75', '552.9', '903.6', '6981.35', '1446.8', '273', '668.4', '2575.45', '1885.15', '5012.1', '454.05', '1046.1', '2184.6', '1682.05', '147.75', '2200.25', '4140.1', '71.35', '356.65', '1685.9', '1167.6', '298.45', '1211.65', '284.35', '6792.45', '100.2', '483.15', '180.7', '79.9', '184.65', '229.55', '6151.9', '249.4', '7843.55', '1124.2', '196.15', '4515.85', '396.1', '5356.45', '865.75', '3217.55', '2165.05', '1815', '4144.9', '505.45', '1863.8', '6096.45', '1028.9', '1406.65', '288.05', '676.35', '5535.8', '1301', '2513.5', '3824.2', '1975.85', '1229.1', '4096.9', '804.85', '514.6', '4304', '454.65', '267.4', '3097', '1158.85', '6093.3', '2088.45', '442.45', '3251.3', '2361.8', '2511.95', '775.6', '1678.05', '4510.8', '1181.75', '2635', '6301.7', '370.65', '20.5', '653.25', '4126.2', '1836.9', '2541.25', '6049.5', '601.6', '6841.4', '829.3', '153.8', '3626.35', '1307.8', '2755.35', '1601.2', '637.4', '5174.35', '1411.35', '5515.8', '805.2', '4378.9', '128.6', '2196.3', '2847.4', '6912.7', '5997.1', '3958.25', '2117.25', '2929.75', '1238.65', '1544.05', '5750', '4312.5', '1681.6', '794.25', '60', '775.3', '973.35', '2839.45', '8100.55', '521.8', '80.25', '73.45', '1410.25', '114.1', '702.05', '143.65', '967.9', '6547.7', '776.25', '4145.25', '301.55', '5251.75', '2995.45', '227.35', '791.15', '7624.2', '2029.05', '995.35', '577.15', '4378.35', '937.6', '1033.9', '4188.4', '512.45', '20.45', '497.3', '5958.85', '609.65', '5779.6', '1387.35', '577.6', '351.55', '369.3', '1362.85', '1020.2', '6713.2', '624.15', '24.75', '1563.9', '4138.9', '44.4', '914.6', '169.05', '63.75', '1118.8', '7108.2', '4738.3', '465.7', '4707.85', '762.45', '2424.45', '3735.45', '5882.75', '322.5', '1113.95', '3132.75', '172.35', '2139.1', '50.15', '6316.2', '401.3', '2845.15', '49.95', '214.55', '1152.8', '693.3', '8496.7', '934.15', '5552.5', '69.4', '387.2', '3913.3', '2684.35', '1448.6', '5688.05', '994.55', '438', '2621.75', '1567.55', '2151.6', '48.35', '546.85', '5817', '7470.1', '1374.35', '3017.65', '6096.9', '754', '6859.5', '5774.55', '132.2', '3870', '3541.1', '239.45', '515.45', '33.7', '1882.8', '215.25', '3765.05', '595.5', '1137.05', '3442.8', '5568.35', '5471.75', '466.6', '81.25', '990.85', '678.2', '3970.4', '74.5', '645.8', '3665.55', '247', '323.15', '3870.3', '1832.4', '6401.25', '868.1', '6033.1', '239', '1067.05', '217.55', '3706.95', '255.25', '483.3', '299.75', '909.25', '6347.55', '1761.05', '1710.15', '185.2', '1010', '4620.4', '1129.75', '80.05', '422.6', '563.05', '45.65', '101.45', '2618.3', '5060.85', '630.6', '75.35', '1972.35', '104.2', '468.35', '5459.2', '2751', '4487.3', '2535.55', '3355.65', '314.6', '7299.65', '5042.75', '795.65', '3283.05', '1068.85', '1298.7', '6823.4', '1451.1', '6725.5', '5976.9', '7774.05', '6263.8', '155.65', '63.6', '1849.95', '2510.2', '1039.45', '4398.15', '727.85', '892.7', '3756.4', '5839.3', '1070.15', '4299.95', '4154.55', '641.35', '80.85', '1155.6', '3808.2', '8456.75', '2309.55', '3801.3', '1648.45', '6425.65', '7181.95', '3512.5', '4641.1', '1328.35', '1210.3', '1215.65', '299.3', '1087.45', '5885.4', '1025.95', '4964.7', '5763.3', '3233.6', '1750.7', '1222.05', '4445.3', '3847.6', '259.4', '389.25', '2979.2', '5309.5', '1391.15', '6352.4', '1079.45', '5764.7', '395.6', '1309.15', '6140.85', '5135.15', '3131.8', '1799.3', '5586.45', '4461.85', '134.75', '1522.65', '1444.65', '4991.5', '4688.65', '4338.6', '70.1', '541.5', '2023.55', '578.5', '2655.25', '184.05', '1013.35', '3975.9', '268.35', '6692.65', '94.15', '6029.9', '5253.95', '6786.1', '2196.45', '4065', '672.2', '41.85', '5373.1', '5064.85', '633.45', '6511.25', '374', '315.3', '5496.9', '1336.1', '1156.1', '297.35', '1237.65', '2812.2', '561.15', '5038.15', '4375.8', '109.5', '449.75', '139.4', '2136.9', '1714.55', '238.15', '4131.95', '223.6', '80.35', '1797.1', '2719.2', '425.9', '1752.65', '1637.4', '4469.1', '655.3', '2754', '5411.65', '1060.2', '758.6', '5289.8', '678.8', '4750.95', '1604.5', '272.2', '2067', '3119.9', '3886.45', '857.2', '79.35', '1698.55', '4300.45', '1336.65', '5618.3', '1329.2', '1537.85', '2447.95', '387.9', '3168.75', '2333.05', '554.25', '4914.8', '2433.9', '1448.8', '4859.25', '280.4', '3723.65', '2483.05', '5336.35', '3165.6', '1011.8', '2030.3', '4804.75', '3344.1', '3956.7', '438.4', '2390.45', '1910.75', '1687.95', '417.75', '1912.85', '1297.35', '2354.8', '3365.4', '2319.8', '8297.5', '2660.2', '1948.35', '6993.65', '1738.9', '3019.25', '7082.85', '3467', '3358.65', '3548.3', '3822.45', '469.65', '8196.4', '5481.25', '835.15', '2462.55', '2867.75', '331.6', '1405.3', '1153.25', '7491.75', '1151.05', '1929.95', '4016.2', '2570.2', '1423.85', '7467.55', '1058.25', '3952.45', '57.5', '4350.1', '3145.9', '573.75', '360.1', '210.75', '416.4', '700.45', '7723.9', '7965.95', '80', '1434.6', '20.7', '918.75', '4399.5', '7550.3', '242.05', '1874.45', '75.45', '4946.7', '5812', '340.4', '711.15', '1765.95', '2954.5', '646.85', '574.35', '1035.7', '6055.55', '1505.35', '5229.8', '2832.75', '3983.6', '6001.45', '1173.55', '3370.2', '4613.95', '7422.1', '847.25', '5601.4', '5921.35', '2406.1', '5757.2', '1334.45', '6393.65', '96.05', '2522.4', '8308.9', '95.05', '589.25', '4885.85', '3252', '4137.2', '4983.05', '4421.95', '3023.85', '89.3', '3846.75', '1027.25', '195.05', '196.75', '253', '6145.2', '1266.1', '30.2', '2024.1', '229.6', '743.3', '493.65', '597', '24.7', '54.75', '413.25', '265.3', '1626.05', '496.9', '1419.4', '2516.2', '446.1', '6038.55', '4541.2', '1024.7', '501.2', '4820.55', '4576.3', '1912.15', '2264.5', '3632', '3363.8', '1082.8', '302.35', '5785.65', '378.4', '194.2', '1474.9', '3242.5', '79.6', '864.85', '5175.3', '151.8', '189.1', '428.7', '1274.45', '523.15', '2747.2', '3545.35', '2680.15', '2015.35', '4236.6', '4003', '224.5', '1840.75', '71.65', '1425.45', '1713.1', '717.95', '653.9', '920.5', '1389.85', '5718.2', '2625.25', '5703', '4527.45', '1301.9', '233.7', '1463.7', '2048.8', '4368.95', '119.5', '8309.55', '5324.5', '2576.2', '50.05', '58.85', '525', '1081.45', '5067.45', '1940.85', '1290', '2937.65', '3527.6', '5163.3', '527.35', '839.65', '3046.05', '1178.25', '2036.55', '59.05', '1830.1', '1730.35', '5760.65', '2265.25', '178.8', '5088.4', '61.35', '1233.25', '670.65', '3974.7', '7982.5', '1403.1', '2471.25', '6860.6', '368.1', '4804.65', '923.1', '4616.05', '846', '1107.25', '2108.35', '6873.75', '889', '5498.2', '663.05', '1651.95', '1815.3', '1389.35', '225.6', '1396.25', '4733.1', '1359.5', '107.25', '2796.35', '1502.65', '75.3', '6435.25', '2460.15', '484.05', '7553.6', '6058.95', '7133.45', '1974.8', '735.9', '5822.3', '1356.3', '735.5', '1263.85', '467.15', '951.55', '3465.05', '311.6', '2083.1', '3478.75', '2021.35', '46.3', '2427.1', '2000.2', '446.05', '3762', '2351.8', '3008.55', '170.5', '335.75', '1882.55', '4040.65', '1980.3', '198.7', '341.6', '5731.85', '4914.9', '1123.65', '154.55', '979.05', '6293.45', '4308.25', '394.85', '8016.6', '1296.15', '4154.8', '2424.5', '1157.05', '5154.6', '61.05', '121.25', '2673.45', '343.6', '5509.3', '4663.4', '278.4', '57.4', '223.15', '4542.35', '5480.25', '551.3', '4900.65', '7261.75', '4119.4', '4113.15', '7987.6', '3357.9', '1620.25', '5032.25', '49.3', '292.4', '1156.35', '865.55', '3389.25', '173.15', '49.25', '350.1', '1500.25', '2564.3', '7156.2', '566.1', '5585.4', '5680.9', '264.55', '8399.15', '3503.5', '5432.2', '450.65', '4016.3', '408.5', '4863.85', '1046.2', '3741.85', '244.75', '1177.95', '3266', '7069.25', '1785.65', '5746.15', '1218.55', '337.9', '232.35', '526.7', '473.9', '1260.7', '413', '319.15', '385.55', '2633.3', '4919.7', '6194.1', '69.35', '7432.05', '1888.65', '3183.4', '412.55', '1454.15', '5662.25', '4145.9', '7482.1', '1654.45', '6471.85', '1292.2', '888.65', '137.85', '2157.3', '3320.6', '918.6', '263.65', '4915.15', '155.8', '4953.25', '39.85', '92.5', '5589.3', '344.2', '7447.7', '2965.75', '4549.05', '1092.35', '6903.1', '4526.85', '1275.85', '1388.45', '3342.45', '75.8', '3772.65', '226.95', '49.7', '1208.15', '5637.85', '2395.05', '50.75', '868.5', '5794.65', '6997.3', '457.3', '184.95', '2816.65', '4495.65', '1258.3', '4447.55', '6171.2', '260.9', '4890.5', '7726.35', '1733.15', '1354.4', '3474.2', '2254.2', '866.45', '929.2', '4211.55', '24.6', '2971.7', '4191.45', '95.85', '5550.1', '288.35', '5602.25', '1769.6', '296.15', '3937.45', '1048.45', '5598', '811.8', '797.25', '1386.9', '1006.9', '5012.35', '3959.15', '861.85', '486.2', '7240.65', '1079.65', '24.05', '7930.55', '310.6', '470', '1821.2', '93.45', '4385.05', '819.4', '2897.95', '5099.15', '1820.45', '444.75', '609.05', '50.7', '1111.65', '864.55', '3605.6', '837.5', '3420.5', '4891.5', '129.2', '2627.35', '1520.9', '43.8', '20', '1427.55', '120.25', '911.6', '47.7', '887.35', '1129.1', '660.05', '6496.15', '241.3', '964.9', '3682.45', '2169.8', '2335.3', '5727.45', '5623.7', '1852.85', '4801.1', '7382.25', '61.15', '580.8', '1299.1', '1379.6', '4193.4', '1663.5', '418.8', '45.95', '49', '355.9', '122', '486.05', '7707.7', '3775.85', '360.35', '3255.35', '19.6', '4391.25', '1269.55', '7537.5', '1673.4', '1506.4', '1493.1', '1208.35', '215.8', '602.9', '232.5', '1383.6', '1033.95', '4254.85', '3704.15', '3029.1', '5333.35', '5914.4', '2282.95', '4754.3', '1837.9', '148.05', '2070.6', '3529.95', '79.95', '68.65', '3094.65', '295.95', '1665.2', '5749.8', '1978.65', '3915.4', '2936.25', '1547.35', '5784.3', '7530.8', '826.1', '5730.15', '5189.75', '1810.55', '1864.2', '59.55', '4428.45', '3615.6', '8543.25', '1253.9', '1672.15', '4448.8', '4213.35', '5731.45', '426.35', '4039', '1058.1', '3265.95', '2431.95', '5360.75', '756.4', '5315.8', '1115.15', '1680.25', '3418.2', '364.55', '7379.8', '4599.15', '117.8', '4674.55', '1396.9', '1886.4', '5979.7', '1004.35', '624.6', '973.65', '3551.65', '5025.8', '702.9', '1021.55', '80.5', '3454.6', '84.8', '109.3', '1466.1', '72', '683.25', '2094.65', '89.15', '1439.35', '958.1', '2187.15', '69.75', '5329.55', '5898.6', '654.55', '6613.65', '1737.45', '5149.5', '2237.55', '3027.65', '2869.85', '7679.65', '3409.1', '223.9', '190.05', '220.95', '339.9', '6125.4', '5924.4', '3541.35', '4055.5', '7318.2', '287.4', '6067.4', '3263.9', '6215.35', '538.2', '6283.3', '842.25', '417', '2188.5', '1267.05', '1016.7', '7132.15', '1732.6', '1095.65', '7985.9', '8476.5', '80.55', '248.4', '5043.2', '1937.4', '399.45', '1188.25', '527.5', '7076.35', '178.5', '1236.15', '3532.85', '729.95', '494.05', '6449.15', '4784.45', '75.1', '1364.3', '2768.65', '740', '2276.95', '8404.9', '556.35', '993.15', '4858.7', '1412.4', '874.2', '1411.9', '2157.5', '971.3', '695.75', '2553.7', '474.9', '1031.7', '308.1', '1846.65', '2395.7', '45.2', '1358.85', '1288', '4438.2', '535.35', '3789.2', '1233.65', '4186.3', '3244.4', '1397.65', '374.5', '1725', '1789.25', '1495.1', '2789.7', '1422.05', '2171.15', '533.6', '3180.5', '5617.95', '67.55', '5206.55', '2191.7', '688.2', '3442.15', '300.7', '1689.45', '59.85', '1483.25', '3883.3', '1899.65', '1973.75', '502.6', '2338.35', '450.9', '5810.9', '76.65', '244.8', '347.25', '673.25', '8165.1', '1993.8', '6292.7', '730.4', '504.05', '53.95', '8129.3', '3509.4', '1507', '1718.95', '518.3', '221.9', '334.8', '1641.3', '3089.6', '353.65', '5611.7', '1130', '44.65', '2065.15', '7882.5', '1057.55', '3282.75', '703.55', '3725.5', '81.1', '188.1', '5717.85', '68.5', '92.45', '141.6', '1115.6', '2763', '107.6', '414.95', '201.1', '348.8', '811.65', '981.45', '673.2', '857.25', '8022.85', '6929.4', '5963.95', '2659.4', '1759.4', '1133.7', '4925.35', '2896.4', '7107', '1725.4', '2921.75', '3835.55', '3440.25', '3145.15', '436.6', '494.95', '780.2', '470.2', '1088.25', '4059.85', '4335.2', '764.55', '7966.9', '521.3', '1719.15', '1379.8', '69.7', '6256.2', '1081.25', '1271.8', '1630.4', '5919.35', '1184', '5016.65', '1914.9', '2078.95', '1037.75', '808.95', '5357.75', '463.05', '2545.7', '4408.45', '832.3', '1959.5', '1082.75', '1850.65', '1424.2', '604.7', '1250.85', '519.15', '6652.45', '222.3', '6004.85', '318.9', '5036.3', '2070.75', '3263.6', '371.9', '5714.2', '174.75', '7035.6', '4464.8', '5645.8', '1144.5', '115.1', '1195.75', '7283.25', '928.4', '20.3', '486.85', '8289.2', '24.4', '4525.8', '6081.4', '902.25', '29.7', '7548.1', '1119.35', '746.75', '2964', '3478.15', '1036', '3210.35', '1835.3', '1165.55', '608.15', '4378.8', '2238.5', '6322.1', '79.05', '3229.65', '3858.05', '942.95', '682.15', '3152.5', '481.1', '4902.8', '872.65', '1119.9', '4917.75', '157.65', '62.9', '348.15', '5283.95', '493.95', '1067.65', '1230.25', '355.2', '130.75', '1423.35', '333.55', '5903.15', '2243.9', '4230.25', '400', '2215.45', '439.75', '4681.75', '1293.8', '307.4', '7110.75', '2566.5', '170.85', '1646.45', '2716.3', '4060.9', '1178.75', '2654.05', '514', '207.35', '2598.95', '5686.4', '1574.5', '6521.9', '2686.05', '1761.45', '6856.45', '4816.7', '370.5', '343.45', '5453.4', ' ', '398.55', '1502.25', '1816.75', '3794.5', '1062.1', '770.6', '5515.45', '292.8', '1083.7', '3510.3', '1171.3', '418.25', '876.75', '3432.9', '1389.6', '746.05', '540.95', '1267.2', '1099.6', '1222.25', '461.3', '692.1', '3527.3', '3128.8', '531.55', '54.5', '978.6', '2044.95', '870.25', '3107.3', '24', '1553.9', '1078.75', '91.4', '5125.5', '45.35', '2239.65', '1273.3', '467.5', '161.95', '2208.75', '4921.2', '6139.5', '2948.6', '4109', '7346.2', '488.25', '3147.5', '5264.3', '5737.6', '916.15', '2692.75', '324.8', '156.35', '1522.7', '4993.4', '1691.9', '1509.9', '849.9', '3236.35', '419.4', '29.9', '385.9', '2033.05', '4166.35', '4952.95', '1496.9', '3479.05', '3865.6', '3366.05', '3348.1', '877.35', '2698.35', '251.75', '2911.3', '701.05', '3670.5', '2531.4', '7053.35', '1743.9', '113.1', '949.85', '6224.8', '8468.2', '8182.75', '1240.25', '4220.35', '741.4', '2636.05', '759.55', '152.6', '1747.2', '695.05', '1794.65', '5000.05', '3487.95', '5135.35', '1107.2', '1023.75', '2085.45', '4872.45', '257', '5566.4', '4449.75', '6671.7', '2287.25', '106.85', '1253.15', '2455.05', '3320.75', '6717.9', '1763.55', '4748.7', '7511.3', '223.45', '4719.75', '2708.2', '445.85', '2731', '1292.65', '793.55', '1125.2', '6293.2', '5860.7', '3377.8', '331.85', '1074.65', '531.6', '992.7', '171.45', '3751.15', '6423', '70.75', '6470.1', '2209.15', '4692.95', '7677.4', '3169.55', '2342.2', '1463.5', '2435.15', '1755.35', '533.9', '1901.25', '1618.2', '1905.7', '720.45', '2088.8', '1397.3', '6668.35', '187.35', '88.8', '7337.55', '4016.75', '106.9', '651.4', '1859.5', '460.2', '3281.65', '684.05', '1888.45', '6579.05', '6890', '345.5', '520.55', '6468.6', '3143.65', '357.7', '2651.2', '94.45', '1343.4', '973.55', '5438.95', '253.8', '3921.1', '3414.65', '198.6', '778.1', '451.55', '559.2', '2343.85', '5443.65', '35.45', '3091.75', '3219.75', '2958.95', '4861.45', '4442.75', '130.5', '7396.15', '5510.65', '1725.95', '7261.25', '7138.65', '3217.65', '3928.3', '101.65', '144.35', '3941.7', '5308.7', '3871.85', '5293.95', '2974.5', '1011.05', '7616', '4685.55', '743.05', '6311.2', '1414.65', '6465', '4977.2', '4676.7', '73.65', '3566.6', '55.05', '4577.75', '4504.9', '1798.9', '760.05', '47.95', '1325.85', '1663.75', '1193.05', '665.45', '350.35', '53.5', '1228.65', '1072.6', '178.85', '2181.75', '939.8', '1493.2', '3473.4', '4735.35', '156.4', '6130.95', '6052.25', '1982.6', '2030.75', '6223.3', '4819.75', '445.95', '1326.35', '1306.3', '8337.45', '1110.5', '1498.2', '266.6', '2293.6', '295.55', '44.95', '130.15', '6137', '5044.8', '70.45', '163.7', '7751.7', '92.65', '5464.65', '153.3', '50.1', '1188.2', '433.5', '3756.45', '6827.5', '1415', '6703.5', '628.65', '480.75', '3233.85', '2492.25', '7714.65', '1311.75', '5238.9', '5669.5', '422.4', '6588.95', '5364.8', '19.9', '197.4', '3646.8', '1094.5', '1172.95', '1789.65', '42.45', '1463.45', '1291.3', '3791.6', '2718.3', '611.45', '1441.95', '190.1', '435', '221.7', '7746.7', '216.75', '4730.6', '382.2', '5791.1', '108.65', '3371.75', '119.75', '140.4', '208.7', '44.3', '130.55', '973.1', '943', '76.35', '3327.05', '6342.7', '474.8', '56.25', '685.55', '4524.05', '1716.45', '280', '2542.45', '70.6', '736.8', '2274.35', '7610.1', '7723.7', '7015.9', '1270.25', '1359.7', '389.6', '7262', '2896.6', '97', '1171.5', '2724.25', '1643.25', '20.35', '19.4', '1907.85', '2964.05', '6273.4', '1772.25', '1208.6', '5487', '7238.6', '4323.45', '4874.7', '704.3', '88.35', '3124.5', '49.05', '5025.85', '5084.65', '268.4', '1445.95', '6487.2', '7323.15', '43.3', '953.65', '1563.95', '1189.4', '174.65', '1078.9', '1183.2', '3641.5', '7281.6', '3902.45', '876.15', '2433.5', '2349.8', '7171.7', '79.15', '34.8', '2681.15', '108.15', '4322.85', '62.25', '996.95', '1905.4', '2757.85', '927.35', '1139.2', '1588.7', '3126.85', '7365.3', '659.65', '233.65', '958.15', '1971.15', '4753.85', '99.45', '1498.65', '4674.4', '5986.45', '343.95', '5957.9', '1601.5', '405.6', '100.4', '663.55', '90.75', '469.25', '144.55', '1940.8', '6126.1', '562.7', '6129.65', '1103.25', '1559.45', '5431.9', '792.15', '4594.95', '1012.4', '890.35', '262.05', '523.5', '233.55', '2369.3', '242.95', '2093.4', '772.85', '709.5', '215.2', '51.25', '415.95', '1468.9', '3906.7', '174.7', '1433.8', '2234.95', '804.25', '307.6', '1916', '3645.5', '164.3', '2082.95', '2271.85', '6312.9', '4860.35', '536.35', '765.45', '6460.55', '8046.85', '4862.5', '237.25', '1743.05', '4859.1', '7266.95', '262.3', '3784', '433.95', '5980.75', '863.1', '73.5', '5514.95', '69.2', '5817.7', '5436.45', '1144.6', '6910.3', '7195.35', '1672.35', '5121.3', '1217.25', '1248.9', '3023.65', '583', '363.15', '1653.85', '2110.15', '152.3', '4533.9', '3045.75', '4326.8', '3353.4', '5763.15', '463.6', '291.4', '629.55', '8175.9', '7767.25', '1501.75', '1278.8', '8405', '99.95', '5730.7', '1005.7', '4539.35', '5936.55', '962.25', '7002.95', '2038.7', '3314.15', '3990.75', '101.1', '296.1', '5925.75', '19.55', '979.5', '5974.3', '92.25', '1049.6', '21.05', '602.55', '8061.5', '274.7', '274.35', '100.8', '6028.95', '521.9', '2157.95', '3838.2', '1573.95', '955.75', '318.1', '4111.35', '90.85', '4689.15', '1296.8', '1901.05', '38.7', '732.5', '1505.9', '20.9', '155.9', '445.3', '7748.75', '1782.4', '417.65', '902', '1032.05', '23.45', '2448.75', '48.6', '75.6', '1525.35', '1494.5', '82.9', '1128.1', '913.3', '4144.8', '2111.3', '70.3', '6585.35', '1286.05', '349.8', '529.8', '272', '3522.65', '3618.7', '5186', '5265.55', '6925.9', '3902.6', '4459.8', '135.75', '2553.35', '768.05', '45.25', '633.85', '4690.65', '5696.6', '3966.3', '80.3', '7904.25', '869.9', '24.25', '1175.6', '1988.05', '3340.55', '1505.05', '374.8', '244.1', '1642.75', '451.1', '5347.95', '2985.25', '1756.2', '741.5', '2169.4', '739.9', '3460.3', '5742.9', '2198.3', '679.55', '74.3', '5965.95', '3334.9', '4839.15', '2723.15', '1395.05', '69.25', '35.05', '524.5', '3590.2', '2531.8', '2104.55', '4600.95', '208', '5278.15', '84.75', '5082.8', '1712.9', '176.3', '5776.45', '1164.05', '2398.4', '5899.85', '852.7', '106.55', '3007.25', '5165.7', '8058.85', '1730.65', '7689.95', '1943.2', '2806.9', '511.25', '1442.65', '1372.9', '4671.65', '2779.5', '4192.15', '4947.55', '3035.35', '2656.3', '283.95', '7430.75', '2599.95', '6744.25', '85.05', '2566.3', '93.4', '70.25', '145.4', '240.45', '2498.4', '293.3', '2642.05', '7990.05', '4134.85', '6223.8', '1207', '7932.5', '617.65', '1595.5', '189.45', '3923.8', '357.6', '4747.2', '114.15', '89.55', '5610.7', '4589.85', '228.75', '669.45', '204.55', '106.8', '1377.7', '4504.55', '163.2', '635.9', '3845.45', '3608', '201', '7544.3', '1545.4', '270.6', '3297', '2661.1', '2283.15', '7758.9', '5224.35', '75.9', '69.8', '2277.65', '50.55', '5485.5', '8152.3', '1900.25', '1534.75', '927.15', '890.6', '1311.6', '1077.5', '367.55', '6330.4', '6148.45', '1415.85', '390.85', '6075.9', '7279.35', '1327.15', '1938.9', '5867', '1683.6', '830.7', '256.25', '4116.15', '2333.85', '5025', '533.5', '1345.55', '568.85', '4563', '1414.8', '2782.4', '381.3', '1825.5', '1367.75', '266.8', '251.6', '150', '1793.25', '4896.35', '1789.9', '3625.2', '5676.65', '1857.25', '3946.9', '1712.7', '713.1', '856.35', '5948.7', '958.45', '639.7', '5552.05', '827.05', '399.6', '4164.4', '4048.95', '82.15', '1952.25', '1784.5', '302.75', '834.1', '546.45', '4729.75', '1215.8', '826', '829.55', '1322.55', '3541.4', '373', '201.7', '1806.35', '2227.8', '2111.45', '6520.8', '2966.95', '4018.35', '266.9', '2802.3', '1020.75', '1474.35', '5969.3', '183.15', '165.4', '1335.2', '1745.2', '1532.45', '49.75', '777.3', '5720.35', '1440.75', '1341.5', '4981.15', '1003.05', '79.1', '397', '6751.35', '2762.75', '1426.4', '188.7', '404.2', '80.2', '3974.15', '45.1', '1304.8', '4764', '25.1', '897.75', '205.05', '220.35', '107.05', '446.8', '528.45', '55.3', '84.6', '1043.3', '5980.55', '6385.95', '4805.3', '875.55', '1304.85', '3168', '411.25', '1654.85', '233.9', '134.05', '7031.3', '110.15', '690.5', '5727.15', '1910.6', '1813.35', '365.55', '69.5', '287.85', '3126.45', '6841.3', '3930.55', '1226.45', '1747.85', '191.05', '432.25', '189.2', '1776.95', '790', '3848', '1709.1', '118.25', '158.95', '982.95', '5647.95', '754.5', '185.6', '471.35', '821.6', '2657.55', '762.5', '3973.2', '2552.9', '492.1', '224.05', '659.35', '432.5', '5685.8', '7176.55', '129.6', '6519.75', '767.9', '38.15', '893.55', '6511.8', '892.15', '5625.55', '4234.15', '3877.65', '7320.9', '347.4', '4740', '127.1', '93.55', '3465.7', '45.3', '3942.45', '2391.15', '4808.7', '5396.25', '8529.5', '2122.05', '4029.95', '2438.6', '2924.05', '2369.7', '945.7', '929.45', '4318.35', '416.3', '162.15', '7854.9', '79.55', '4451.85', '4793.8', '429.55', '153.95', '4860.85', '313', '2847.2', '184.4', '4062.2', '2627.2', '2203.65', '1424.6', '600.25', '7459', '5791.85', '2688.85', '1767.35', '257.6', '921.4', '477.7', '1790.65', '176.2', '4911.35', '2344.5', '5897.4', '1265.65', '5437.75', '1983.15', '1232.9', '197.7', '3003.55', '7875', '3624.35', '40.2', '3605.2', '1074.3', '3379.25', '528.35', '3160.55', '961.4', '3171.6', '587.4', '201.95', '2419', '5999.85', '1766.75', '3301.05', '487.95', '6440.25', '836.35', '79.25', '4630.2', '580.1', '290.55', '196.35', '5311.85', '4834', '320.4', '245.15', '19.7', '4039.3', '5835.5', '7291.75', '903.8', '1699.15', '1102.4', '6743.55', '2249.1', '406.95', '102.75', '476.8', '6145.85', '6034.85', '3782.4', '1086.75', '1195.95', '5918.8', '5576.3', '4946.05', '2804.45', '1549.75', '1182.55', '599.25', '810.7', '70.05', '196.95', '1470.95', '600', '20.6', '899.45', '1460.65', '1245.05', '319.6', '489.45', '190.25', '346.45', '1457.25', '2983.65', '1815.65', '5219.65', '5040.2', '1796.55', '325.45', '18.85', '365.4', '8164.1', '1861.5', '255.35', '6424.7', '167.3', '85.1', '1540.05', '125.95', '4264', '2848.45', '3914.05', '270.7', '4600.7', '2345.2', '1031.4', '3603.45', '5673.7', '68.95', '1849.2', '1210.4', '209.9', '1625.65', '5460.2', '1873.7', '2603.95', '854.45', '3517.9', '1237.85', '369.1', '613.4', '818.05', '333.6', '6205.5', '1808.7', '724.65', '4631.7', '658.95', '1430.25', '3177.25', '273.75', '3894.4', '1489.3', '3888.65', '2586', '6779.05', '3082.1', '2640.55', '582.5', '6152.4', '5711.05', '5655.45', '2401.05', '592.75', '612.1', '5809.75', '938.65', '150.35', '579', '996.45', '303.15', '4634.35', '490.65', '7049.5', '392.5', '5629.15', '75.55', '1322.85', '403.35', '2192.9', '4968', '1114.55', '375.25', '1478.85', '2031.95', '2548.65', '4492.9', '56.35', '5969.85', '381.2', '1199.4', '5564.85', '280.35', '7534.65', '5270.6', '5450.7', '136.75', '608', '2447.45', '705.45', '7804.15', '5743.3', '1185.95', '654.5', '1336.15', '309.35', '6118.95', '260.8', '3090.65', '355.1', '6369.45', '6428.4', '1295.4', '302.6', '7030.65', '620.55', '1406', '6838.6', '3834.4', '401.85', '5500.6', '7887.25', '44.9', '5321.25', '5538.35', '3617.1', '587.45', '6744.2', '4069.9', '8332.15', '7388.45', '2217.15', '300.4', '5563.65', '256.6', '4282.4', '6849.75', '2862.55', '680.05', '7213.75', '24.45', '1669.4', '5013', '2619.25', '1931.75', '707.5', '172.85', '7397', '1070.5', '1573.7', '689.75', '225.85', '765.5', '303.7', '213.35', '8127.6', '2651.1', '6721.6', '1049.05', '3036.75', '3561.15', '1990.5', '419.7', '1052.35', '1340.1', '2172.05', '749.25', '543', '55.25', '1490.4', '1332.4', '1073.3', '2313.8', '1068.15', '2364', '3778', '1916.2', '184.1', '5959.3', '3369.25', '2429.1', '6578.55', '1872.2', '1802.55', '2065.4', '2483.65', '4932.5', '20.65', '1059.55', '146.3', '520.1', '300.8', '3231.05', '4929.55', '3901.25', '162.55', '193.6', '298.7', '2107.15', '1400.3', '249.95', '6561.25', '3950.85', '681.4', '4263.4', '171', '1821.8', '1121.05', '812.4', '1729.35', '8331.95', '328.95', '6383.9', '3627.3', '3729.6', '45', '454', '6176.6', '3653.35', '1268.85', '50.6', '615.35', '2467.75', '1643.55', '6683.4', '2884.9', '5121.75', '5886.85', '2006.95', '712.75', '70.55', '1426.45', '2145', '4273.45', '978', '264.8', '1654.75', '1259.35', '1688.9', '5894.5', '139.35', '3023.55', '1311.3', '2807.65', '950.75', '5991.05', '8594.4', '1133.9', '317.25', '743.5', '5733.4', '5468.95', '1096.65', '755.5', '1011.5', '3249.4', '7112.15', '2626.15', '3692.85', '1222.8', '165', '1022.5', '5981.65', '7998.8', '3306.85', '997.65', '53.05', '5483.9', '5621.85', '1417.9', '156.25', '2177.45', '2010.95', '1534.05', '418.4', '1285.8', '4285.8', '743.75', '6954.15', '830.8', '83.75', '8684.8', '76.2', '3527', '1790.35', '5401.9', '3616.25', '3292.3', '243.65', '4134.7', '49.85', '265.75', '7285.7', '61.45', '417.5', '1090.1', '4783.5', '234.85', '937.1', '84.2', '522.35', '738.2', '159.35', '2862.75', '2427.35', '1558.65', '780.15', '6110.2', '4297.6', '4965', '112.3', '477.55', '471.85', '1160.45', '1294.6', '1398.6', '5785.5', '5329', '838.7', '154.3', '223.75', '472.25', '3139.8', '878.35', '1519', '907.05', '162.45', '5290.45', '122.9', '195.3', '1677.85', '801.3', '6424.25', '1387.45', '4533.7', '1132.75', '865.85', '1389.2', '2602.9', '68.35', '1203.95', '1889.5', '3645.05', '3512.9', '1108.2', '6296.75', '5841.35', '5567.55', '3161.6', '493.4', '7554.05', '3351.55', '2198.9', '4551.5', '136.05', '1451.6', '239.05', '620.75', '1313.55', '858.6', '713', '435.25', '71.1', '183.75', '803.3', '7008.15', '7806.5', '19.3', '3876.2', '220.8', '795.15', '1801.9', '2054.4', '6536.5', '3694.45', '3103.25', '552.95', '378.6', '1282.85', '770.4', '58.9', '306.05', '54.7', '879.8', '1014.25', '1868.4', '4287.2', '593.85', '600.15', '319.85', '4370.75', '3721.9', '966.55', '1242.2', '253.9', '5502.55', '1347.15', '810.3', '3673.6', '605.45', '44.55', '214.75', '25.75', '4904.85', '3766.2', '20.05', '279.5', '7661.8', '4549.45', '4422.95', '54.3', '1422.1', '3413.25', '1800.05', '2633.95', '1498.35', '554.45', '6155.4', '4984.85', '3046.15', '2250.65', '3726.15', '1052.4', '1714.95', '402.85', '679.8', '393.45', '5688.45', '813.3', '5581.05', '4475.9', '246.3', '232.1', '851.2', '973.95', '4176.7', '1493.55', '4786.15', '4884.85', '196.9', '1453.1', '100.9', '20.55', '1161.75', '24.8', '768.45', '3729.75', '6367.2', '6786.4', '202.3', '7548.6', '5941.05', '36.55', '5031', '931.55', '84.85', '389.1', '3268.05', '6411.25', '279.25', '336.15', '714.15', '3688.6', '334.65', '3953.15', '160.85', '910.45', '6236.75', '409.9', '741.7', '1222.65', '873.4', '947.3', '1093.2', '1209.25', '3772.5', '3472.05', '896.9', '417.7', '280.85', '3205.6', '3273.55', '4217.8', '2146.5', '1911.5', '1923.5', '620.35', '7493.05', '6397.6', '152.45', '259.8', '5017.9', '908.55', '1072', '914.4', '4200.25', '6572.85', '111.4', '1424.4', '2917.65', '5163', '4014.2', '415.1', '217.45', '1254.7', '160.8', '4594.65', '1426.75', '68.75', '4732.35', '4484.05', '5448.6', '856.5', '798.2', '2278.75', '6042.7', '1414.2', '7732.65', '745.3', '4024.2', '867.1', '4687.9', '335.4', '4079.55', '2524.45', '1441.65', '113.55', '1600.25', '2092.9', '935.9', '6066.55', '2656.5', '639.45', '1431.65', '587.1', '1071.6', '1135.7', '158.35', '5070.4', '1095.3', '467.85', '1348.95', '2244.95', '2369.05', '6843.15', '208.45', '6253', '2077.95', '69.1', '2970.8', '638.95', '354.05', '89.05', '780.1', '6014.85', '1054.6', '590.35', '256.75', '129.55', '94.5', '439.2', '641.15', '5229.45', '592.65', '1042.65', '6501.35', '5883.85', '6382', '1007.9', '851.8', '696.8', '1192.7', '3532', '338.1', '160.05', '3004.15', '7953.25', '166.3', '20.25', '46.2', '279.55', '3801.7', '68.45', '3131.55', '74.4', '5305.05', '6404', '4847.35', '2658.4', '6083.1', '1752.55', '595.05', '2184.85', '5969.95', '4904.25', '414.1', '1094.35', '3027.4', '1112.3', '4018.55', '475', '272.35', '21.1', '1328.15', '273.25', '2653.65', '2119.5', '180.25', '8071.05', '726.1', '3238.4', '299.4', '6185.15', '145', '199.75', '1664.3', '2259.35', '1131.5', '2308.6', '8182.85', '934.8', '3398.9', '838.5', '6697.35', '1434.1', '3395.8', '4747.85', '255.55', '3201.55', '733.95', '845.6', '5138.1', '2473.95', '2181.55', '3470.8', '1594.75', '7412.25', '1079.05', '4849.1', '683.75', '1313.25', '59.2', '5017.7', '1927.3', '2249.95', '1336.35', '6770.5', '456.85', '953.45', '145.15', '7880.25', '970.85', '2434.45', '153.05', '1614.9', '678.75', '3088.25', '1261.35', '1879.25', '524.35', '7629.85', '74.6', '214.4', '6688.1', '55.7', '30.5', '2416.1', '7634.8', '2614.1', '3877.95', '5893.95', '75.5', '2852.4', '6548.65', '637.55', '204.7', '1327.4', '1949.4', '4042.3', '720.05', '1013.05', '733.35', '6859.05', '6010.05', '1048.85', '5798.3', '2419.55', '4194.85', '1862.9', '3580.3', '635.6', '139.75', '144.8', '321.05', '2540.1', '137.6', '819.55', '1871.85', '2088.75', '137.95', '1064.95', '6885.75', '4535.85', '4433.3', '521', '31.55', '461.7', '195.65', '313.6', '294.45', '1596.6', '1748.9', '1400.85', '200.2', '1702.9', '139.05', '571.75', '1212.25', '3807.35', '286.8', '174.3', '648.65', '1305.95', '168.2', '1255.1', '4786.1', '1816.2', '3662.25', '827.7', '2554', '7895.15', '1401.15', '70.9', '723.35'}\n",
      "\n",
      "************************* Churn *************************\n",
      "\n",
      "{0, 1}\n",
      "\n"
     ]
    }
   ],
   "source": [
    "# for getting missing values\n",
    "for i in cust_churn.columns :\n",
    "    print('*****'*5 , i , '*****'*5)\n",
    "    print()\n",
    "    print(set(cust_churn[i].tolist())) #i means one by one variable\n",
    "    # set = unique values\n",
    "    print()\n",
    "    \n",
    "    '''It will give unique values of every column'''"
   ]
  },
  {
   "cell_type": "code",
   "execution_count": 29,
   "id": "b6d9ff20",
   "metadata": {},
   "outputs": [],
   "source": [
    "cust_churn['TotalCharges']= cust_churn['TotalCharges'].replace(' ', np.nan)"
   ]
  },
  {
   "cell_type": "code",
   "execution_count": 30,
   "id": "d4dca6d1",
   "metadata": {},
   "outputs": [
    {
     "data": {
      "text/plain": [
       "20.2      11\n",
       "19.75      9\n",
       "20.05      8\n",
       "19.9       8\n",
       "19.65      8\n",
       "          ..\n",
       "6849.4     1\n",
       "692.35     1\n",
       "130.15     1\n",
       "3211.9     1\n",
       "6844.5     1\n",
       "Name: TotalCharges, Length: 6530, dtype: int64"
      ]
     },
     "execution_count": 30,
     "metadata": {},
     "output_type": "execute_result"
    }
   ],
   "source": [
    "cust_churn['TotalCharges'].value_counts()"
   ]
  },
  {
   "cell_type": "code",
   "execution_count": 31,
   "id": "ac493757",
   "metadata": {},
   "outputs": [
    {
     "data": {
      "text/plain": [
       "(7043, 21)"
      ]
     },
     "execution_count": 31,
     "metadata": {},
     "output_type": "execute_result"
    }
   ],
   "source": [
    "cust_churn.shape"
   ]
  },
  {
   "cell_type": "code",
   "execution_count": 96,
   "id": "7f31bb21",
   "metadata": {},
   "outputs": [],
   "source": [
    "cust_churn= cust_churn.reset_index()[cust_churn.columns]\n",
    "cust_churn['TotalCharges']= cust_churn['TotalCharges'].astype(float)"
   ]
  },
  {
   "cell_type": "code",
   "execution_count": 44,
   "id": "167edb98",
   "metadata": {},
   "outputs": [
    {
     "name": "stdout",
     "output_type": "stream",
     "text": [
      "<class 'pandas.core.frame.DataFrame'>\n",
      "RangeIndex: 7032 entries, 0 to 7031\n",
      "Data columns (total 21 columns):\n",
      " #   Column            Non-Null Count  Dtype  \n",
      "---  ------            --------------  -----  \n",
      " 0   customerID        7032 non-null   object \n",
      " 1   gender            7032 non-null   object \n",
      " 2   SeniorCitizen     7032 non-null   int64  \n",
      " 3   Partner           7032 non-null   object \n",
      " 4   Dependents        7032 non-null   object \n",
      " 5   tenure            7032 non-null   int64  \n",
      " 6   PhoneService      7032 non-null   object \n",
      " 7   MultipleLines     7032 non-null   object \n",
      " 8   InternetService   7032 non-null   object \n",
      " 9   OnlineSecurity    7032 non-null   object \n",
      " 10  OnlineBackup      7032 non-null   object \n",
      " 11  DeviceProtection  7032 non-null   object \n",
      " 12  TechSupport       7032 non-null   object \n",
      " 13  StreamingTV       7032 non-null   object \n",
      " 14  StreamingMovies   7032 non-null   object \n",
      " 15  Contract          7032 non-null   object \n",
      " 16  PaperlessBilling  7032 non-null   object \n",
      " 17  PaymentMethod     7032 non-null   object \n",
      " 18  MonthlyCharges    7032 non-null   float64\n",
      " 19  TotalCharges      7032 non-null   float64\n",
      " 20  Churn             7032 non-null   int64  \n",
      "dtypes: float64(2), int64(3), object(16)\n",
      "memory usage: 1.1+ MB\n"
     ]
    }
   ],
   "source": [
    "cust_churn.info()"
   ]
  },
  {
   "cell_type": "code",
   "execution_count": 42,
   "id": "aa4daee6",
   "metadata": {},
   "outputs": [
    {
     "data": {
      "text/plain": [
       "Index(['customerID', 'gender', 'SeniorCitizen', 'Partner', 'Dependents',\n",
       "       'tenure', 'PhoneService', 'MultipleLines', 'InternetService',\n",
       "       'OnlineSecurity', 'OnlineBackup', 'DeviceProtection', 'TechSupport',\n",
       "       'StreamingTV', 'StreamingMovies', 'Contract', 'PaperlessBilling',\n",
       "       'PaymentMethod', 'MonthlyCharges', 'TotalCharges', 'Churn'],\n",
       "      dtype='object')"
      ]
     },
     "execution_count": 42,
     "metadata": {},
     "output_type": "execute_result"
    }
   ],
   "source": [
    "cust_churn.columns"
   ]
  },
  {
   "cell_type": "code",
   "execution_count": 45,
   "id": "bff7bb09",
   "metadata": {},
   "outputs": [],
   "source": [
    "cust_churn = pd.get_dummies (cust_churn ,columns =['gender', 'Partner', 'Dependents',\n",
    "            'PhoneService', 'MultipleLines', 'InternetService',\n",
    "       'OnlineSecurity', 'OnlineBackup', 'DeviceProtection', 'TechSupport',\n",
    "       'StreamingTV', 'StreamingMovies', 'Contract', 'PaperlessBilling',\n",
    "       'PaymentMethod'] , drop_first = True) \n",
    "# '''label encoder works for binary as the no. of sub category increases\n",
    "# it starts to assign weights , & in this case we can use one hot encoder and\n",
    "# can drop the multiple columns not required.'''"
   ]
  },
  {
   "cell_type": "code",
   "execution_count": 46,
   "id": "ea9620e1",
   "metadata": {},
   "outputs": [
    {
     "data": {
      "text/plain": [
       "(7032, 32)"
      ]
     },
     "execution_count": 46,
     "metadata": {},
     "output_type": "execute_result"
    }
   ],
   "source": [
    "cust_churn.shape"
   ]
  },
  {
   "cell_type": "code",
   "execution_count": 47,
   "id": "78e73257",
   "metadata": {},
   "outputs": [
    {
     "name": "stdout",
     "output_type": "stream",
     "text": [
      "<class 'pandas.core.frame.DataFrame'>\n",
      "RangeIndex: 7032 entries, 0 to 7031\n",
      "Data columns (total 32 columns):\n",
      " #   Column                                 Non-Null Count  Dtype  \n",
      "---  ------                                 --------------  -----  \n",
      " 0   customerID                             7032 non-null   object \n",
      " 1   SeniorCitizen                          7032 non-null   int64  \n",
      " 2   tenure                                 7032 non-null   int64  \n",
      " 3   MonthlyCharges                         7032 non-null   float64\n",
      " 4   TotalCharges                           7032 non-null   float64\n",
      " 5   Churn                                  7032 non-null   int64  \n",
      " 6   gender_Male                            7032 non-null   uint8  \n",
      " 7   Partner_Yes                            7032 non-null   uint8  \n",
      " 8   Dependents_Yes                         7032 non-null   uint8  \n",
      " 9   PhoneService_Yes                       7032 non-null   uint8  \n",
      " 10  MultipleLines_No phone service         7032 non-null   uint8  \n",
      " 11  MultipleLines_Yes                      7032 non-null   uint8  \n",
      " 12  InternetService_Fiber optic            7032 non-null   uint8  \n",
      " 13  InternetService_No                     7032 non-null   uint8  \n",
      " 14  OnlineSecurity_No internet service     7032 non-null   uint8  \n",
      " 15  OnlineSecurity_Yes                     7032 non-null   uint8  \n",
      " 16  OnlineBackup_No internet service       7032 non-null   uint8  \n",
      " 17  OnlineBackup_Yes                       7032 non-null   uint8  \n",
      " 18  DeviceProtection_No internet service   7032 non-null   uint8  \n",
      " 19  DeviceProtection_Yes                   7032 non-null   uint8  \n",
      " 20  TechSupport_No internet service        7032 non-null   uint8  \n",
      " 21  TechSupport_Yes                        7032 non-null   uint8  \n",
      " 22  StreamingTV_No internet service        7032 non-null   uint8  \n",
      " 23  StreamingTV_Yes                        7032 non-null   uint8  \n",
      " 24  StreamingMovies_No internet service    7032 non-null   uint8  \n",
      " 25  StreamingMovies_Yes                    7032 non-null   uint8  \n",
      " 26  Contract_One year                      7032 non-null   uint8  \n",
      " 27  Contract_Two year                      7032 non-null   uint8  \n",
      " 28  PaperlessBilling_Yes                   7032 non-null   uint8  \n",
      " 29  PaymentMethod_Credit card (automatic)  7032 non-null   uint8  \n",
      " 30  PaymentMethod_Electronic check         7032 non-null   uint8  \n",
      " 31  PaymentMethod_Mailed check             7032 non-null   uint8  \n",
      "dtypes: float64(2), int64(3), object(1), uint8(26)\n",
      "memory usage: 508.3+ KB\n"
     ]
    }
   ],
   "source": [
    "cust_churn.info()"
   ]
  },
  {
   "cell_type": "code",
   "execution_count": 48,
   "id": "822849a1",
   "metadata": {},
   "outputs": [
    {
     "data": {
      "text/html": [
       "<div>\n",
       "<style scoped>\n",
       "    .dataframe tbody tr th:only-of-type {\n",
       "        vertical-align: middle;\n",
       "    }\n",
       "\n",
       "    .dataframe tbody tr th {\n",
       "        vertical-align: top;\n",
       "    }\n",
       "\n",
       "    .dataframe thead th {\n",
       "        text-align: right;\n",
       "    }\n",
       "</style>\n",
       "<table border=\"1\" class=\"dataframe\">\n",
       "  <thead>\n",
       "    <tr style=\"text-align: right;\">\n",
       "      <th></th>\n",
       "      <th>customerID</th>\n",
       "      <th>SeniorCitizen</th>\n",
       "      <th>tenure</th>\n",
       "      <th>MonthlyCharges</th>\n",
       "      <th>TotalCharges</th>\n",
       "      <th>Churn</th>\n",
       "      <th>gender_Male</th>\n",
       "      <th>Partner_Yes</th>\n",
       "      <th>Dependents_Yes</th>\n",
       "      <th>PhoneService_Yes</th>\n",
       "      <th>...</th>\n",
       "      <th>StreamingTV_No internet service</th>\n",
       "      <th>StreamingTV_Yes</th>\n",
       "      <th>StreamingMovies_No internet service</th>\n",
       "      <th>StreamingMovies_Yes</th>\n",
       "      <th>Contract_One year</th>\n",
       "      <th>Contract_Two year</th>\n",
       "      <th>PaperlessBilling_Yes</th>\n",
       "      <th>PaymentMethod_Credit card (automatic)</th>\n",
       "      <th>PaymentMethod_Electronic check</th>\n",
       "      <th>PaymentMethod_Mailed check</th>\n",
       "    </tr>\n",
       "  </thead>\n",
       "  <tbody>\n",
       "    <tr>\n",
       "      <th>0</th>\n",
       "      <td>7590-VHVEG</td>\n",
       "      <td>0</td>\n",
       "      <td>1</td>\n",
       "      <td>29.85</td>\n",
       "      <td>29.85</td>\n",
       "      <td>0</td>\n",
       "      <td>0</td>\n",
       "      <td>1</td>\n",
       "      <td>0</td>\n",
       "      <td>0</td>\n",
       "      <td>...</td>\n",
       "      <td>0</td>\n",
       "      <td>0</td>\n",
       "      <td>0</td>\n",
       "      <td>0</td>\n",
       "      <td>0</td>\n",
       "      <td>0</td>\n",
       "      <td>1</td>\n",
       "      <td>0</td>\n",
       "      <td>1</td>\n",
       "      <td>0</td>\n",
       "    </tr>\n",
       "    <tr>\n",
       "      <th>1</th>\n",
       "      <td>5575-GNVDE</td>\n",
       "      <td>0</td>\n",
       "      <td>34</td>\n",
       "      <td>56.95</td>\n",
       "      <td>1889.50</td>\n",
       "      <td>0</td>\n",
       "      <td>1</td>\n",
       "      <td>0</td>\n",
       "      <td>0</td>\n",
       "      <td>1</td>\n",
       "      <td>...</td>\n",
       "      <td>0</td>\n",
       "      <td>0</td>\n",
       "      <td>0</td>\n",
       "      <td>0</td>\n",
       "      <td>1</td>\n",
       "      <td>0</td>\n",
       "      <td>0</td>\n",
       "      <td>0</td>\n",
       "      <td>0</td>\n",
       "      <td>1</td>\n",
       "    </tr>\n",
       "    <tr>\n",
       "      <th>2</th>\n",
       "      <td>3668-QPYBK</td>\n",
       "      <td>0</td>\n",
       "      <td>2</td>\n",
       "      <td>53.85</td>\n",
       "      <td>108.15</td>\n",
       "      <td>1</td>\n",
       "      <td>1</td>\n",
       "      <td>0</td>\n",
       "      <td>0</td>\n",
       "      <td>1</td>\n",
       "      <td>...</td>\n",
       "      <td>0</td>\n",
       "      <td>0</td>\n",
       "      <td>0</td>\n",
       "      <td>0</td>\n",
       "      <td>0</td>\n",
       "      <td>0</td>\n",
       "      <td>1</td>\n",
       "      <td>0</td>\n",
       "      <td>0</td>\n",
       "      <td>1</td>\n",
       "    </tr>\n",
       "    <tr>\n",
       "      <th>3</th>\n",
       "      <td>7795-CFOCW</td>\n",
       "      <td>0</td>\n",
       "      <td>45</td>\n",
       "      <td>42.30</td>\n",
       "      <td>1840.75</td>\n",
       "      <td>0</td>\n",
       "      <td>1</td>\n",
       "      <td>0</td>\n",
       "      <td>0</td>\n",
       "      <td>0</td>\n",
       "      <td>...</td>\n",
       "      <td>0</td>\n",
       "      <td>0</td>\n",
       "      <td>0</td>\n",
       "      <td>0</td>\n",
       "      <td>1</td>\n",
       "      <td>0</td>\n",
       "      <td>0</td>\n",
       "      <td>0</td>\n",
       "      <td>0</td>\n",
       "      <td>0</td>\n",
       "    </tr>\n",
       "    <tr>\n",
       "      <th>4</th>\n",
       "      <td>9237-HQITU</td>\n",
       "      <td>0</td>\n",
       "      <td>2</td>\n",
       "      <td>70.70</td>\n",
       "      <td>151.65</td>\n",
       "      <td>1</td>\n",
       "      <td>0</td>\n",
       "      <td>0</td>\n",
       "      <td>0</td>\n",
       "      <td>1</td>\n",
       "      <td>...</td>\n",
       "      <td>0</td>\n",
       "      <td>0</td>\n",
       "      <td>0</td>\n",
       "      <td>0</td>\n",
       "      <td>0</td>\n",
       "      <td>0</td>\n",
       "      <td>1</td>\n",
       "      <td>0</td>\n",
       "      <td>1</td>\n",
       "      <td>0</td>\n",
       "    </tr>\n",
       "  </tbody>\n",
       "</table>\n",
       "<p>5 rows × 32 columns</p>\n",
       "</div>"
      ],
      "text/plain": [
       "   customerID  SeniorCitizen  tenure  MonthlyCharges  TotalCharges  Churn  \\\n",
       "0  7590-VHVEG              0       1           29.85         29.85      0   \n",
       "1  5575-GNVDE              0      34           56.95       1889.50      0   \n",
       "2  3668-QPYBK              0       2           53.85        108.15      1   \n",
       "3  7795-CFOCW              0      45           42.30       1840.75      0   \n",
       "4  9237-HQITU              0       2           70.70        151.65      1   \n",
       "\n",
       "   gender_Male  Partner_Yes  Dependents_Yes  PhoneService_Yes  ...  \\\n",
       "0            0            1               0                 0  ...   \n",
       "1            1            0               0                 1  ...   \n",
       "2            1            0               0                 1  ...   \n",
       "3            1            0               0                 0  ...   \n",
       "4            0            0               0                 1  ...   \n",
       "\n",
       "   StreamingTV_No internet service  StreamingTV_Yes  \\\n",
       "0                                0                0   \n",
       "1                                0                0   \n",
       "2                                0                0   \n",
       "3                                0                0   \n",
       "4                                0                0   \n",
       "\n",
       "   StreamingMovies_No internet service  StreamingMovies_Yes  \\\n",
       "0                                    0                    0   \n",
       "1                                    0                    0   \n",
       "2                                    0                    0   \n",
       "3                                    0                    0   \n",
       "4                                    0                    0   \n",
       "\n",
       "   Contract_One year  Contract_Two year  PaperlessBilling_Yes  \\\n",
       "0                  0                  0                     1   \n",
       "1                  1                  0                     0   \n",
       "2                  0                  0                     1   \n",
       "3                  1                  0                     0   \n",
       "4                  0                  0                     1   \n",
       "\n",
       "   PaymentMethod_Credit card (automatic)  PaymentMethod_Electronic check  \\\n",
       "0                                      0                               1   \n",
       "1                                      0                               0   \n",
       "2                                      0                               0   \n",
       "3                                      0                               0   \n",
       "4                                      0                               1   \n",
       "\n",
       "   PaymentMethod_Mailed check  \n",
       "0                           0  \n",
       "1                           1  \n",
       "2                           1  \n",
       "3                           0  \n",
       "4                           0  \n",
       "\n",
       "[5 rows x 32 columns]"
      ]
     },
     "execution_count": 48,
     "metadata": {},
     "output_type": "execute_result"
    }
   ],
   "source": [
    "cust_churn.head()\n",
    "# '''We only need to do feature scaling in tenure,MonthlyCharges,TotalCharges\n",
    "#  as other all columns are having binary values'''"
   ]
  },
  {
   "cell_type": "code",
   "execution_count": 50,
   "id": "8b2692d6",
   "metadata": {},
   "outputs": [],
   "source": [
    "from sklearn.preprocessing import StandardScaler\n",
    "scaler = StandardScaler()\n",
    "scaler_col = ['tenure','MonthlyCharges','TotalCharges']\n",
    "# '''storing variables in scaler_col which need to be transformed'''\n",
    "\n",
    "cust_churn[scaler_col]=scaler.fit_transform(cust_churn[scaler_col])\n",
    "# '''we passed those variables for transformation'''"
   ]
  },
  {
   "cell_type": "code",
   "execution_count": 51,
   "id": "145be37d",
   "metadata": {},
   "outputs": [
    {
     "data": {
      "text/html": [
       "<div>\n",
       "<style scoped>\n",
       "    .dataframe tbody tr th:only-of-type {\n",
       "        vertical-align: middle;\n",
       "    }\n",
       "\n",
       "    .dataframe tbody tr th {\n",
       "        vertical-align: top;\n",
       "    }\n",
       "\n",
       "    .dataframe thead th {\n",
       "        text-align: right;\n",
       "    }\n",
       "</style>\n",
       "<table border=\"1\" class=\"dataframe\">\n",
       "  <thead>\n",
       "    <tr style=\"text-align: right;\">\n",
       "      <th></th>\n",
       "      <th>customerID</th>\n",
       "      <th>SeniorCitizen</th>\n",
       "      <th>tenure</th>\n",
       "      <th>MonthlyCharges</th>\n",
       "      <th>TotalCharges</th>\n",
       "      <th>Churn</th>\n",
       "      <th>gender_Male</th>\n",
       "      <th>Partner_Yes</th>\n",
       "      <th>Dependents_Yes</th>\n",
       "      <th>PhoneService_Yes</th>\n",
       "      <th>...</th>\n",
       "      <th>StreamingTV_No internet service</th>\n",
       "      <th>StreamingTV_Yes</th>\n",
       "      <th>StreamingMovies_No internet service</th>\n",
       "      <th>StreamingMovies_Yes</th>\n",
       "      <th>Contract_One year</th>\n",
       "      <th>Contract_Two year</th>\n",
       "      <th>PaperlessBilling_Yes</th>\n",
       "      <th>PaymentMethod_Credit card (automatic)</th>\n",
       "      <th>PaymentMethod_Electronic check</th>\n",
       "      <th>PaymentMethod_Mailed check</th>\n",
       "    </tr>\n",
       "  </thead>\n",
       "  <tbody>\n",
       "    <tr>\n",
       "      <th>0</th>\n",
       "      <td>7590-VHVEG</td>\n",
       "      <td>0</td>\n",
       "      <td>-1.280248</td>\n",
       "      <td>-1.161694</td>\n",
       "      <td>-0.994194</td>\n",
       "      <td>0</td>\n",
       "      <td>0</td>\n",
       "      <td>1</td>\n",
       "      <td>0</td>\n",
       "      <td>0</td>\n",
       "      <td>...</td>\n",
       "      <td>0</td>\n",
       "      <td>0</td>\n",
       "      <td>0</td>\n",
       "      <td>0</td>\n",
       "      <td>0</td>\n",
       "      <td>0</td>\n",
       "      <td>1</td>\n",
       "      <td>0</td>\n",
       "      <td>1</td>\n",
       "      <td>0</td>\n",
       "    </tr>\n",
       "    <tr>\n",
       "      <th>1</th>\n",
       "      <td>5575-GNVDE</td>\n",
       "      <td>0</td>\n",
       "      <td>0.064303</td>\n",
       "      <td>-0.260878</td>\n",
       "      <td>-0.173740</td>\n",
       "      <td>0</td>\n",
       "      <td>1</td>\n",
       "      <td>0</td>\n",
       "      <td>0</td>\n",
       "      <td>1</td>\n",
       "      <td>...</td>\n",
       "      <td>0</td>\n",
       "      <td>0</td>\n",
       "      <td>0</td>\n",
       "      <td>0</td>\n",
       "      <td>1</td>\n",
       "      <td>0</td>\n",
       "      <td>0</td>\n",
       "      <td>0</td>\n",
       "      <td>0</td>\n",
       "      <td>1</td>\n",
       "    </tr>\n",
       "    <tr>\n",
       "      <th>2</th>\n",
       "      <td>3668-QPYBK</td>\n",
       "      <td>0</td>\n",
       "      <td>-1.239504</td>\n",
       "      <td>-0.363923</td>\n",
       "      <td>-0.959649</td>\n",
       "      <td>1</td>\n",
       "      <td>1</td>\n",
       "      <td>0</td>\n",
       "      <td>0</td>\n",
       "      <td>1</td>\n",
       "      <td>...</td>\n",
       "      <td>0</td>\n",
       "      <td>0</td>\n",
       "      <td>0</td>\n",
       "      <td>0</td>\n",
       "      <td>0</td>\n",
       "      <td>0</td>\n",
       "      <td>1</td>\n",
       "      <td>0</td>\n",
       "      <td>0</td>\n",
       "      <td>1</td>\n",
       "    </tr>\n",
       "    <tr>\n",
       "      <th>3</th>\n",
       "      <td>7795-CFOCW</td>\n",
       "      <td>0</td>\n",
       "      <td>0.512486</td>\n",
       "      <td>-0.747850</td>\n",
       "      <td>-0.195248</td>\n",
       "      <td>0</td>\n",
       "      <td>1</td>\n",
       "      <td>0</td>\n",
       "      <td>0</td>\n",
       "      <td>0</td>\n",
       "      <td>...</td>\n",
       "      <td>0</td>\n",
       "      <td>0</td>\n",
       "      <td>0</td>\n",
       "      <td>0</td>\n",
       "      <td>1</td>\n",
       "      <td>0</td>\n",
       "      <td>0</td>\n",
       "      <td>0</td>\n",
       "      <td>0</td>\n",
       "      <td>0</td>\n",
       "    </tr>\n",
       "    <tr>\n",
       "      <th>4</th>\n",
       "      <td>9237-HQITU</td>\n",
       "      <td>0</td>\n",
       "      <td>-1.239504</td>\n",
       "      <td>0.196178</td>\n",
       "      <td>-0.940457</td>\n",
       "      <td>1</td>\n",
       "      <td>0</td>\n",
       "      <td>0</td>\n",
       "      <td>0</td>\n",
       "      <td>1</td>\n",
       "      <td>...</td>\n",
       "      <td>0</td>\n",
       "      <td>0</td>\n",
       "      <td>0</td>\n",
       "      <td>0</td>\n",
       "      <td>0</td>\n",
       "      <td>0</td>\n",
       "      <td>1</td>\n",
       "      <td>0</td>\n",
       "      <td>1</td>\n",
       "      <td>0</td>\n",
       "    </tr>\n",
       "  </tbody>\n",
       "</table>\n",
       "<p>5 rows × 32 columns</p>\n",
       "</div>"
      ],
      "text/plain": [
       "   customerID  SeniorCitizen    tenure  MonthlyCharges  TotalCharges  Churn  \\\n",
       "0  7590-VHVEG              0 -1.280248       -1.161694     -0.994194      0   \n",
       "1  5575-GNVDE              0  0.064303       -0.260878     -0.173740      0   \n",
       "2  3668-QPYBK              0 -1.239504       -0.363923     -0.959649      1   \n",
       "3  7795-CFOCW              0  0.512486       -0.747850     -0.195248      0   \n",
       "4  9237-HQITU              0 -1.239504        0.196178     -0.940457      1   \n",
       "\n",
       "   gender_Male  Partner_Yes  Dependents_Yes  PhoneService_Yes  ...  \\\n",
       "0            0            1               0                 0  ...   \n",
       "1            1            0               0                 1  ...   \n",
       "2            1            0               0                 1  ...   \n",
       "3            1            0               0                 0  ...   \n",
       "4            0            0               0                 1  ...   \n",
       "\n",
       "   StreamingTV_No internet service  StreamingTV_Yes  \\\n",
       "0                                0                0   \n",
       "1                                0                0   \n",
       "2                                0                0   \n",
       "3                                0                0   \n",
       "4                                0                0   \n",
       "\n",
       "   StreamingMovies_No internet service  StreamingMovies_Yes  \\\n",
       "0                                    0                    0   \n",
       "1                                    0                    0   \n",
       "2                                    0                    0   \n",
       "3                                    0                    0   \n",
       "4                                    0                    0   \n",
       "\n",
       "   Contract_One year  Contract_Two year  PaperlessBilling_Yes  \\\n",
       "0                  0                  0                     1   \n",
       "1                  1                  0                     0   \n",
       "2                  0                  0                     1   \n",
       "3                  1                  0                     0   \n",
       "4                  0                  0                     1   \n",
       "\n",
       "   PaymentMethod_Credit card (automatic)  PaymentMethod_Electronic check  \\\n",
       "0                                      0                               1   \n",
       "1                                      0                               0   \n",
       "2                                      0                               0   \n",
       "3                                      0                               0   \n",
       "4                                      0                               1   \n",
       "\n",
       "   PaymentMethod_Mailed check  \n",
       "0                           0  \n",
       "1                           1  \n",
       "2                           1  \n",
       "3                           0  \n",
       "4                           0  \n",
       "\n",
       "[5 rows x 32 columns]"
      ]
     },
     "execution_count": 51,
     "metadata": {},
     "output_type": "execute_result"
    }
   ],
   "source": [
    "cust_churn.head() \n",
    "# '''Now, those variables are scaled'''"
   ]
  },
  {
   "cell_type": "code",
   "execution_count": 52,
   "id": "237ad05f",
   "metadata": {},
   "outputs": [],
   "source": [
    "#split the data into indepenedent and dependent variables\n",
    "x= cust_churn.drop(['customerID' , 'Churn'], axis=1)\n",
    "y= cust_churn['Churn']"
   ]
  },
  {
   "cell_type": "code",
   "execution_count": 53,
   "id": "b7e00009",
   "metadata": {},
   "outputs": [
    {
     "data": {
      "text/html": [
       "<div>\n",
       "<style scoped>\n",
       "    .dataframe tbody tr th:only-of-type {\n",
       "        vertical-align: middle;\n",
       "    }\n",
       "\n",
       "    .dataframe tbody tr th {\n",
       "        vertical-align: top;\n",
       "    }\n",
       "\n",
       "    .dataframe thead th {\n",
       "        text-align: right;\n",
       "    }\n",
       "</style>\n",
       "<table border=\"1\" class=\"dataframe\">\n",
       "  <thead>\n",
       "    <tr style=\"text-align: right;\">\n",
       "      <th></th>\n",
       "      <th>SeniorCitizen</th>\n",
       "      <th>tenure</th>\n",
       "      <th>MonthlyCharges</th>\n",
       "      <th>TotalCharges</th>\n",
       "      <th>gender_Male</th>\n",
       "      <th>Partner_Yes</th>\n",
       "      <th>Dependents_Yes</th>\n",
       "      <th>PhoneService_Yes</th>\n",
       "      <th>MultipleLines_No phone service</th>\n",
       "      <th>MultipleLines_Yes</th>\n",
       "      <th>...</th>\n",
       "      <th>StreamingTV_No internet service</th>\n",
       "      <th>StreamingTV_Yes</th>\n",
       "      <th>StreamingMovies_No internet service</th>\n",
       "      <th>StreamingMovies_Yes</th>\n",
       "      <th>Contract_One year</th>\n",
       "      <th>Contract_Two year</th>\n",
       "      <th>PaperlessBilling_Yes</th>\n",
       "      <th>PaymentMethod_Credit card (automatic)</th>\n",
       "      <th>PaymentMethod_Electronic check</th>\n",
       "      <th>PaymentMethod_Mailed check</th>\n",
       "    </tr>\n",
       "  </thead>\n",
       "  <tbody>\n",
       "    <tr>\n",
       "      <th>0</th>\n",
       "      <td>0</td>\n",
       "      <td>-1.280248</td>\n",
       "      <td>-1.161694</td>\n",
       "      <td>-0.994194</td>\n",
       "      <td>0</td>\n",
       "      <td>1</td>\n",
       "      <td>0</td>\n",
       "      <td>0</td>\n",
       "      <td>1</td>\n",
       "      <td>0</td>\n",
       "      <td>...</td>\n",
       "      <td>0</td>\n",
       "      <td>0</td>\n",
       "      <td>0</td>\n",
       "      <td>0</td>\n",
       "      <td>0</td>\n",
       "      <td>0</td>\n",
       "      <td>1</td>\n",
       "      <td>0</td>\n",
       "      <td>1</td>\n",
       "      <td>0</td>\n",
       "    </tr>\n",
       "  </tbody>\n",
       "</table>\n",
       "<p>1 rows × 30 columns</p>\n",
       "</div>"
      ],
      "text/plain": [
       "   SeniorCitizen    tenure  MonthlyCharges  TotalCharges  gender_Male  \\\n",
       "0              0 -1.280248       -1.161694     -0.994194            0   \n",
       "\n",
       "   Partner_Yes  Dependents_Yes  PhoneService_Yes  \\\n",
       "0            1               0                 0   \n",
       "\n",
       "   MultipleLines_No phone service  MultipleLines_Yes  ...  \\\n",
       "0                               1                  0  ...   \n",
       "\n",
       "   StreamingTV_No internet service  StreamingTV_Yes  \\\n",
       "0                                0                0   \n",
       "\n",
       "   StreamingMovies_No internet service  StreamingMovies_Yes  \\\n",
       "0                                    0                    0   \n",
       "\n",
       "   Contract_One year  Contract_Two year  PaperlessBilling_Yes  \\\n",
       "0                  0                  0                     1   \n",
       "\n",
       "   PaymentMethod_Credit card (automatic)  PaymentMethod_Electronic check  \\\n",
       "0                                      0                               1   \n",
       "\n",
       "   PaymentMethod_Mailed check  \n",
       "0                           0  \n",
       "\n",
       "[1 rows x 30 columns]"
      ]
     },
     "execution_count": 53,
     "metadata": {},
     "output_type": "execute_result"
    }
   ],
   "source": [
    "x.head(1)"
   ]
  },
  {
   "cell_type": "code",
   "execution_count": 54,
   "id": "4b4930e5",
   "metadata": {},
   "outputs": [
    {
     "data": {
      "text/plain": [
       "0    0\n",
       "1    0\n",
       "2    1\n",
       "3    0\n",
       "4    1\n",
       "Name: Churn, dtype: int64"
      ]
     },
     "execution_count": 54,
     "metadata": {},
     "output_type": "execute_result"
    }
   ],
   "source": [
    "y.head()"
   ]
  },
  {
   "cell_type": "code",
   "execution_count": 55,
   "id": "bc6591ab",
   "metadata": {},
   "outputs": [
    {
     "data": {
      "text/plain": [
       "((5174, 21), (1869, 21))"
      ]
     },
     "execution_count": 55,
     "metadata": {},
     "output_type": "execute_result"
    }
   ],
   "source": [
    "churn_no.shape , churn_yes.shape"
   ]
  },
  {
   "cell_type": "code",
   "execution_count": 56,
   "id": "16fee2aa",
   "metadata": {},
   "outputs": [
    {
     "name": "stdout",
     "output_type": "stream",
     "text": [
      "0    5163\n",
      "1    1869\n",
      "Name: Churn, dtype: int64\n",
      "*************************\n",
      "0    5163\n",
      "1    5163\n",
      "Name: Churn, dtype: int64\n"
     ]
    }
   ],
   "source": [
    "## handling imbalance prob- doing oversampling & target is minority class\n",
    "# '''SMOTE = synthetic artificial approach. Here it will target the minority \n",
    "# class as it needs to be increased to match the majority class. The majority\n",
    "# class is 0 --> 5163 which will be kept as it is and the minority calss which\n",
    "# is 1 --> 1869 will be oversampled to match 5163 i.e., 3294 data will be \n",
    "# added. Initially total cols were 7032 and after oversampling the total \n",
    "# cols is 10326.'''\n",
    "import imblearn\n",
    "from imblearn.over_sampling import SMOTE\n",
    "smote = SMOTE()\n",
    "x_smote, y_smote = smote.fit_resample(x,y)\n",
    "print(y.value_counts())\n",
    "print('*****'*5)\n",
    "print(y_smote.value_counts())"
   ]
  },
  {
   "cell_type": "code",
   "execution_count": 58,
   "id": "435760b2",
   "metadata": {},
   "outputs": [
    {
     "name": "stdout",
     "output_type": "stream",
     "text": [
      "(7032, 30)\n",
      "******************************\n"
     ]
    },
    {
     "data": {
      "text/plain": [
       "(10326, 30)"
      ]
     },
     "execution_count": 58,
     "metadata": {},
     "output_type": "execute_result"
    }
   ],
   "source": [
    "print(x.shape)\n",
    "print('*****'*6)\n",
    "x_smote.shape"
   ]
  },
  {
   "cell_type": "code",
   "execution_count": 59,
   "id": "eeca8865",
   "metadata": {},
   "outputs": [
    {
     "name": "stdout",
     "output_type": "stream",
     "text": [
      "(7032,)\n",
      "******************************\n"
     ]
    },
    {
     "data": {
      "text/plain": [
       "(10326,)"
      ]
     },
     "execution_count": 59,
     "metadata": {},
     "output_type": "execute_result"
    }
   ],
   "source": [
    "print(y.shape)\n",
    "print('*****'*6)\n",
    "y_smote.shape"
   ]
  },
  {
   "cell_type": "code",
   "execution_count": 60,
   "id": "a4c29c3b",
   "metadata": {},
   "outputs": [],
   "source": [
    "#split the data into train and test\n",
    "from sklearn.model_selection import train_test_split\n",
    "x_train,x_test,y_train,y_test= train_test_split(x_smote,y_smote, \n",
    "                                                test_size= 0.3 , \n",
    "                                                random_state=101)"
   ]
  },
  {
   "cell_type": "code",
   "execution_count": 61,
   "id": "9be6301d",
   "metadata": {},
   "outputs": [
    {
     "data": {
      "application/vnd.jupyter.widget-view+json": {
       "model_id": "9a6c6985b7604a09ba3d74d70c5002ca",
       "version_major": 2,
       "version_minor": 0
      },
      "text/plain": [
       "Summarize dataset:   0%|          | 0/5 [00:00<?, ?it/s]"
      ]
     },
     "metadata": {},
     "output_type": "display_data"
    },
    {
     "data": {
      "application/vnd.jupyter.widget-view+json": {
       "model_id": "4dc3d9046a7c427dbc3b22b85d1a5986",
       "version_major": 2,
       "version_minor": 0
      },
      "text/plain": [
       "Generate report structure:   0%|          | 0/1 [00:00<?, ?it/s]"
      ]
     },
     "metadata": {},
     "output_type": "display_data"
    },
    {
     "data": {
      "application/vnd.jupyter.widget-view+json": {
       "model_id": "caf87be1325a402686ee393859ce6ce0",
       "version_major": 2,
       "version_minor": 0
      },
      "text/plain": [
       "Render HTML:   0%|          | 0/1 [00:00<?, ?it/s]"
      ]
     },
     "metadata": {},
     "output_type": "display_data"
    },
    {
     "data": {
      "application/vnd.jupyter.widget-view+json": {
       "model_id": "c4efc651e5884a348097aaff9bcc51d1",
       "version_major": 2,
       "version_minor": 0
      },
      "text/plain": [
       "Export report to file:   0%|          | 0/1 [00:00<?, ?it/s]"
      ]
     },
     "metadata": {},
     "output_type": "display_data"
    }
   ],
   "source": [
    "#panda profiling\n",
    "from pandas_profiling import ProfileReport\n",
    "reports= ProfileReport(cust_churn) # on original data\n",
    "reports.to_file(output_file = 'Tele_Output.html')"
   ]
  },
  {
   "cell_type": "markdown",
   "id": "5e2bd3b8",
   "metadata": {},
   "source": [
    "# Logistic regression"
   ]
  },
  {
   "cell_type": "code",
   "execution_count": 62,
   "id": "590afb18",
   "metadata": {},
   "outputs": [],
   "source": [
    "from sklearn.linear_model import LogisticRegression\n"
   ]
  },
  {
   "cell_type": "code",
   "execution_count": 63,
   "id": "88d83d44",
   "metadata": {},
   "outputs": [
    {
     "data": {
      "text/plain": [
       "LogisticRegression()"
      ]
     },
     "execution_count": 63,
     "metadata": {},
     "output_type": "execute_result"
    }
   ],
   "source": [
    "logit = LogisticRegression()\n",
    "logit.fit(x_train, y_train)"
   ]
  },
  {
   "cell_type": "code",
   "execution_count": 64,
   "id": "88bb20ac",
   "metadata": {},
   "outputs": [],
   "source": [
    "y_pred_logit_train=logit.predict(x_train)\n",
    "y_pred_logit_test=logit.predict(x_test)"
   ]
  },
  {
   "cell_type": "code",
   "execution_count": 66,
   "id": "17c3b36d",
   "metadata": {},
   "outputs": [],
   "source": [
    "from sklearn.metrics import confusion_matrix, classification_report , accuracy_score"
   ]
  },
  {
   "cell_type": "code",
   "execution_count": 67,
   "id": "dbb188c7",
   "metadata": {},
   "outputs": [
    {
     "name": "stdout",
     "output_type": "stream",
     "text": [
      "              precision    recall  f1-score   support\n",
      "\n",
      "           0       0.84      0.77      0.80      3611\n",
      "           1       0.78      0.85      0.82      3617\n",
      "\n",
      "    accuracy                           0.81      7228\n",
      "   macro avg       0.81      0.81      0.81      7228\n",
      "weighted avg       0.81      0.81      0.81      7228\n",
      "\n",
      "***************************************************************\n",
      "              precision    recall  f1-score   support\n",
      "\n",
      "           0       0.84      0.76      0.80      1552\n",
      "           1       0.78      0.86      0.82      1546\n",
      "\n",
      "    accuracy                           0.81      3098\n",
      "   macro avg       0.81      0.81      0.81      3098\n",
      "weighted avg       0.81      0.81      0.81      3098\n",
      "\n"
     ]
    }
   ],
   "source": [
    "print(classification_report(y_train, y_pred_logit_train ))\n",
    "print('*******'*9)\n",
    "print(classification_report(y_test, y_pred_logit_test ))\n",
    "# '''When ever we have imbalanced dataset and we balance it, accuracy is not \n",
    "# a good metric'''"
   ]
  },
  {
   "cell_type": "code",
   "execution_count": 68,
   "id": "f096cf31",
   "metadata": {},
   "outputs": [
    {
     "name": "stdout",
     "output_type": "stream",
     "text": [
      "0.8076923076923077\n",
      "***************************************************************\n",
      "0.8066494512588767\n"
     ]
    }
   ],
   "source": [
    "print(accuracy_score(y_train, y_pred_logit_train ))\n",
    "print('*******'*9)\n",
    "print(accuracy_score(y_test, y_pred_logit_test ))\n",
    "# '''When ever we have imbalanced dataset and we balance it, accuracy is not \n",
    "# a good metric'''"
   ]
  },
  {
   "cell_type": "code",
   "execution_count": 69,
   "id": "1967df42",
   "metadata": {},
   "outputs": [
    {
     "data": {
      "text/plain": [
       "Index(['customerID', 'SeniorCitizen', 'tenure', 'MonthlyCharges',\n",
       "       'TotalCharges', 'Churn', 'gender_Male', 'Partner_Yes', 'Dependents_Yes',\n",
       "       'PhoneService_Yes', 'MultipleLines_No phone service',\n",
       "       'MultipleLines_Yes', 'InternetService_Fiber optic',\n",
       "       'InternetService_No', 'OnlineSecurity_No internet service',\n",
       "       'OnlineSecurity_Yes', 'OnlineBackup_No internet service',\n",
       "       'OnlineBackup_Yes', 'DeviceProtection_No internet service',\n",
       "       'DeviceProtection_Yes', 'TechSupport_No internet service',\n",
       "       'TechSupport_Yes', 'StreamingTV_No internet service', 'StreamingTV_Yes',\n",
       "       'StreamingMovies_No internet service', 'StreamingMovies_Yes',\n",
       "       'Contract_One year', 'Contract_Two year', 'PaperlessBilling_Yes',\n",
       "       'PaymentMethod_Credit card (automatic)',\n",
       "       'PaymentMethod_Electronic check', 'PaymentMethod_Mailed check'],\n",
       "      dtype='object')"
      ]
     },
     "execution_count": 69,
     "metadata": {},
     "output_type": "execute_result"
    }
   ],
   "source": [
    "cust_churn.columns"
   ]
  },
  {
   "cell_type": "code",
   "execution_count": 70,
   "id": "cbe65db3",
   "metadata": {},
   "outputs": [
    {
     "data": {
      "text/plain": [
       "7590-VHVEG    1\n",
       "0265-PSUAE    1\n",
       "2956-GGUCQ    1\n",
       "6008-NAIXK    1\n",
       "5956-YHHRX    1\n",
       "             ..\n",
       "7874-ECPQJ    1\n",
       "9796-MVYXX    1\n",
       "2637-FKFSY    1\n",
       "1552-AAGRX    1\n",
       "3186-AJIEK    1\n",
       "Name: customerID, Length: 7032, dtype: int64"
      ]
     },
     "execution_count": 70,
     "metadata": {},
     "output_type": "execute_result"
    }
   ],
   "source": [
    "cust_churn['customerID'].value_counts()\n",
    "# '''All are single'''"
   ]
  },
  {
   "cell_type": "code",
   "execution_count": 71,
   "id": "3c5a9fbb",
   "metadata": {},
   "outputs": [],
   "source": [
    "cust_churn['Probability']= logit.predict_proba(cust_churn[x_test.columns])[:,1]\n"
   ]
  },
  {
   "cell_type": "code",
   "execution_count": 72,
   "id": "860df6b4",
   "metadata": {},
   "outputs": [
    {
     "data": {
      "text/html": [
       "<div>\n",
       "<style scoped>\n",
       "    .dataframe tbody tr th:only-of-type {\n",
       "        vertical-align: middle;\n",
       "    }\n",
       "\n",
       "    .dataframe tbody tr th {\n",
       "        vertical-align: top;\n",
       "    }\n",
       "\n",
       "    .dataframe thead th {\n",
       "        text-align: right;\n",
       "    }\n",
       "</style>\n",
       "<table border=\"1\" class=\"dataframe\">\n",
       "  <thead>\n",
       "    <tr style=\"text-align: right;\">\n",
       "      <th></th>\n",
       "      <th>customerID</th>\n",
       "      <th>SeniorCitizen</th>\n",
       "      <th>tenure</th>\n",
       "      <th>MonthlyCharges</th>\n",
       "      <th>TotalCharges</th>\n",
       "      <th>Churn</th>\n",
       "      <th>gender_Male</th>\n",
       "      <th>Partner_Yes</th>\n",
       "      <th>Dependents_Yes</th>\n",
       "      <th>PhoneService_Yes</th>\n",
       "      <th>...</th>\n",
       "      <th>StreamingTV_Yes</th>\n",
       "      <th>StreamingMovies_No internet service</th>\n",
       "      <th>StreamingMovies_Yes</th>\n",
       "      <th>Contract_One year</th>\n",
       "      <th>Contract_Two year</th>\n",
       "      <th>PaperlessBilling_Yes</th>\n",
       "      <th>PaymentMethod_Credit card (automatic)</th>\n",
       "      <th>PaymentMethod_Electronic check</th>\n",
       "      <th>PaymentMethod_Mailed check</th>\n",
       "      <th>Probability</th>\n",
       "    </tr>\n",
       "  </thead>\n",
       "  <tbody>\n",
       "    <tr>\n",
       "      <th>0</th>\n",
       "      <td>7590-VHVEG</td>\n",
       "      <td>0</td>\n",
       "      <td>-1.280248</td>\n",
       "      <td>-1.161694</td>\n",
       "      <td>-0.994194</td>\n",
       "      <td>0</td>\n",
       "      <td>0</td>\n",
       "      <td>1</td>\n",
       "      <td>0</td>\n",
       "      <td>0</td>\n",
       "      <td>...</td>\n",
       "      <td>0</td>\n",
       "      <td>0</td>\n",
       "      <td>0</td>\n",
       "      <td>0</td>\n",
       "      <td>0</td>\n",
       "      <td>1</td>\n",
       "      <td>0</td>\n",
       "      <td>1</td>\n",
       "      <td>0</td>\n",
       "      <td>0.775876</td>\n",
       "    </tr>\n",
       "    <tr>\n",
       "      <th>1</th>\n",
       "      <td>5575-GNVDE</td>\n",
       "      <td>0</td>\n",
       "      <td>0.064303</td>\n",
       "      <td>-0.260878</td>\n",
       "      <td>-0.173740</td>\n",
       "      <td>0</td>\n",
       "      <td>1</td>\n",
       "      <td>0</td>\n",
       "      <td>0</td>\n",
       "      <td>1</td>\n",
       "      <td>...</td>\n",
       "      <td>0</td>\n",
       "      <td>0</td>\n",
       "      <td>0</td>\n",
       "      <td>1</td>\n",
       "      <td>0</td>\n",
       "      <td>0</td>\n",
       "      <td>0</td>\n",
       "      <td>0</td>\n",
       "      <td>1</td>\n",
       "      <td>0.119212</td>\n",
       "    </tr>\n",
       "    <tr>\n",
       "      <th>2</th>\n",
       "      <td>3668-QPYBK</td>\n",
       "      <td>0</td>\n",
       "      <td>-1.239504</td>\n",
       "      <td>-0.363923</td>\n",
       "      <td>-0.959649</td>\n",
       "      <td>1</td>\n",
       "      <td>1</td>\n",
       "      <td>0</td>\n",
       "      <td>0</td>\n",
       "      <td>1</td>\n",
       "      <td>...</td>\n",
       "      <td>0</td>\n",
       "      <td>0</td>\n",
       "      <td>0</td>\n",
       "      <td>0</td>\n",
       "      <td>0</td>\n",
       "      <td>1</td>\n",
       "      <td>0</td>\n",
       "      <td>0</td>\n",
       "      <td>1</td>\n",
       "      <td>0.342422</td>\n",
       "    </tr>\n",
       "    <tr>\n",
       "      <th>3</th>\n",
       "      <td>7795-CFOCW</td>\n",
       "      <td>0</td>\n",
       "      <td>0.512486</td>\n",
       "      <td>-0.747850</td>\n",
       "      <td>-0.195248</td>\n",
       "      <td>0</td>\n",
       "      <td>1</td>\n",
       "      <td>0</td>\n",
       "      <td>0</td>\n",
       "      <td>0</td>\n",
       "      <td>...</td>\n",
       "      <td>0</td>\n",
       "      <td>0</td>\n",
       "      <td>0</td>\n",
       "      <td>1</td>\n",
       "      <td>0</td>\n",
       "      <td>0</td>\n",
       "      <td>0</td>\n",
       "      <td>0</td>\n",
       "      <td>0</td>\n",
       "      <td>0.083011</td>\n",
       "    </tr>\n",
       "    <tr>\n",
       "      <th>4</th>\n",
       "      <td>9237-HQITU</td>\n",
       "      <td>0</td>\n",
       "      <td>-1.239504</td>\n",
       "      <td>0.196178</td>\n",
       "      <td>-0.940457</td>\n",
       "      <td>1</td>\n",
       "      <td>0</td>\n",
       "      <td>0</td>\n",
       "      <td>0</td>\n",
       "      <td>1</td>\n",
       "      <td>...</td>\n",
       "      <td>0</td>\n",
       "      <td>0</td>\n",
       "      <td>0</td>\n",
       "      <td>0</td>\n",
       "      <td>0</td>\n",
       "      <td>1</td>\n",
       "      <td>0</td>\n",
       "      <td>1</td>\n",
       "      <td>0</td>\n",
       "      <td>0.910641</td>\n",
       "    </tr>\n",
       "  </tbody>\n",
       "</table>\n",
       "<p>5 rows × 33 columns</p>\n",
       "</div>"
      ],
      "text/plain": [
       "   customerID  SeniorCitizen    tenure  MonthlyCharges  TotalCharges  Churn  \\\n",
       "0  7590-VHVEG              0 -1.280248       -1.161694     -0.994194      0   \n",
       "1  5575-GNVDE              0  0.064303       -0.260878     -0.173740      0   \n",
       "2  3668-QPYBK              0 -1.239504       -0.363923     -0.959649      1   \n",
       "3  7795-CFOCW              0  0.512486       -0.747850     -0.195248      0   \n",
       "4  9237-HQITU              0 -1.239504        0.196178     -0.940457      1   \n",
       "\n",
       "   gender_Male  Partner_Yes  Dependents_Yes  PhoneService_Yes  ...  \\\n",
       "0            0            1               0                 0  ...   \n",
       "1            1            0               0                 1  ...   \n",
       "2            1            0               0                 1  ...   \n",
       "3            1            0               0                 0  ...   \n",
       "4            0            0               0                 1  ...   \n",
       "\n",
       "   StreamingTV_Yes  StreamingMovies_No internet service  StreamingMovies_Yes  \\\n",
       "0                0                                    0                    0   \n",
       "1                0                                    0                    0   \n",
       "2                0                                    0                    0   \n",
       "3                0                                    0                    0   \n",
       "4                0                                    0                    0   \n",
       "\n",
       "   Contract_One year  Contract_Two year  PaperlessBilling_Yes  \\\n",
       "0                  0                  0                     1   \n",
       "1                  1                  0                     0   \n",
       "2                  0                  0                     1   \n",
       "3                  1                  0                     0   \n",
       "4                  0                  0                     1   \n",
       "\n",
       "   PaymentMethod_Credit card (automatic)  PaymentMethod_Electronic check  \\\n",
       "0                                      0                               1   \n",
       "1                                      0                               0   \n",
       "2                                      0                               0   \n",
       "3                                      0                               0   \n",
       "4                                      0                               1   \n",
       "\n",
       "   PaymentMethod_Mailed check  Probability  \n",
       "0                           0     0.775876  \n",
       "1                           1     0.119212  \n",
       "2                           1     0.342422  \n",
       "3                           0     0.083011  \n",
       "4                           0     0.910641  \n",
       "\n",
       "[5 rows x 33 columns]"
      ]
     },
     "execution_count": 72,
     "metadata": {},
     "output_type": "execute_result"
    }
   ],
   "source": [
    "cust_churn.head()"
   ]
  },
  {
   "cell_type": "code",
   "execution_count": 73,
   "id": "dec670e4",
   "metadata": {},
   "outputs": [
    {
     "data": {
      "text/html": [
       "<div>\n",
       "<style scoped>\n",
       "    .dataframe tbody tr th:only-of-type {\n",
       "        vertical-align: middle;\n",
       "    }\n",
       "\n",
       "    .dataframe tbody tr th {\n",
       "        vertical-align: top;\n",
       "    }\n",
       "\n",
       "    .dataframe thead th {\n",
       "        text-align: right;\n",
       "    }\n",
       "</style>\n",
       "<table border=\"1\" class=\"dataframe\">\n",
       "  <thead>\n",
       "    <tr style=\"text-align: right;\">\n",
       "      <th></th>\n",
       "      <th>customerID</th>\n",
       "      <th>Probability</th>\n",
       "    </tr>\n",
       "  </thead>\n",
       "  <tbody>\n",
       "    <tr>\n",
       "      <th>0</th>\n",
       "      <td>7590-VHVEG</td>\n",
       "      <td>0.775876</td>\n",
       "    </tr>\n",
       "    <tr>\n",
       "      <th>1</th>\n",
       "      <td>5575-GNVDE</td>\n",
       "      <td>0.119212</td>\n",
       "    </tr>\n",
       "    <tr>\n",
       "      <th>2</th>\n",
       "      <td>3668-QPYBK</td>\n",
       "      <td>0.342422</td>\n",
       "    </tr>\n",
       "    <tr>\n",
       "      <th>3</th>\n",
       "      <td>7795-CFOCW</td>\n",
       "      <td>0.083011</td>\n",
       "    </tr>\n",
       "    <tr>\n",
       "      <th>4</th>\n",
       "      <td>9237-HQITU</td>\n",
       "      <td>0.910641</td>\n",
       "    </tr>\n",
       "  </tbody>\n",
       "</table>\n",
       "</div>"
      ],
      "text/plain": [
       "   customerID  Probability\n",
       "0  7590-VHVEG     0.775876\n",
       "1  5575-GNVDE     0.119212\n",
       "2  3668-QPYBK     0.342422\n",
       "3  7795-CFOCW     0.083011\n",
       "4  9237-HQITU     0.910641"
      ]
     },
     "execution_count": 73,
     "metadata": {},
     "output_type": "execute_result"
    }
   ],
   "source": [
    "cust_churn[['customerID', 'Probability']].head()\n",
    "# '''on the basis of the model we are predicting that who may quit\n",
    "# prob of 0.910641 may not turn back but we can motivate person with prob 0.775876 so that\n",
    "# they do not churn'''"
   ]
  },
  {
   "cell_type": "code",
   "execution_count": 74,
   "id": "030864ab",
   "metadata": {},
   "outputs": [
    {
     "data": {
      "text/html": [
       "<div>\n",
       "<style scoped>\n",
       "    .dataframe tbody tr th:only-of-type {\n",
       "        vertical-align: middle;\n",
       "    }\n",
       "\n",
       "    .dataframe tbody tr th {\n",
       "        vertical-align: top;\n",
       "    }\n",
       "\n",
       "    .dataframe thead th {\n",
       "        text-align: right;\n",
       "    }\n",
       "</style>\n",
       "<table border=\"1\" class=\"dataframe\">\n",
       "  <thead>\n",
       "    <tr style=\"text-align: right;\">\n",
       "      <th></th>\n",
       "      <th>customerID</th>\n",
       "      <th>Probability</th>\n",
       "    </tr>\n",
       "  </thead>\n",
       "  <tbody>\n",
       "    <tr>\n",
       "      <th>7012</th>\n",
       "      <td>1035-IPQPU</td>\n",
       "      <td>0.599030</td>\n",
       "    </tr>\n",
       "    <tr>\n",
       "      <th>7013</th>\n",
       "      <td>7398-LXGYX</td>\n",
       "      <td>0.324508</td>\n",
       "    </tr>\n",
       "    <tr>\n",
       "      <th>7014</th>\n",
       "      <td>2823-LKABH</td>\n",
       "      <td>0.793875</td>\n",
       "    </tr>\n",
       "    <tr>\n",
       "      <th>7015</th>\n",
       "      <td>8775-CEBBJ</td>\n",
       "      <td>0.704651</td>\n",
       "    </tr>\n",
       "    <tr>\n",
       "      <th>7016</th>\n",
       "      <td>0550-DCXLH</td>\n",
       "      <td>0.260429</td>\n",
       "    </tr>\n",
       "    <tr>\n",
       "      <th>7017</th>\n",
       "      <td>9281-CEDRU</td>\n",
       "      <td>0.013936</td>\n",
       "    </tr>\n",
       "    <tr>\n",
       "      <th>7018</th>\n",
       "      <td>2235-DWLJU</td>\n",
       "      <td>0.831546</td>\n",
       "    </tr>\n",
       "    <tr>\n",
       "      <th>7019</th>\n",
       "      <td>0871-OPBXW</td>\n",
       "      <td>0.540068</td>\n",
       "    </tr>\n",
       "    <tr>\n",
       "      <th>7020</th>\n",
       "      <td>3605-JISKB</td>\n",
       "      <td>0.018376</td>\n",
       "    </tr>\n",
       "    <tr>\n",
       "      <th>7021</th>\n",
       "      <td>6894-LFHLY</td>\n",
       "      <td>0.880426</td>\n",
       "    </tr>\n",
       "    <tr>\n",
       "      <th>7022</th>\n",
       "      <td>9767-FFLEM</td>\n",
       "      <td>0.512699</td>\n",
       "    </tr>\n",
       "    <tr>\n",
       "      <th>7023</th>\n",
       "      <td>0639-TSIQW</td>\n",
       "      <td>0.520272</td>\n",
       "    </tr>\n",
       "    <tr>\n",
       "      <th>7024</th>\n",
       "      <td>8456-QDAVC</td>\n",
       "      <td>0.765883</td>\n",
       "    </tr>\n",
       "    <tr>\n",
       "      <th>7025</th>\n",
       "      <td>7750-EYXWZ</td>\n",
       "      <td>0.398379</td>\n",
       "    </tr>\n",
       "    <tr>\n",
       "      <th>7026</th>\n",
       "      <td>2569-WGERO</td>\n",
       "      <td>0.009172</td>\n",
       "    </tr>\n",
       "    <tr>\n",
       "      <th>7027</th>\n",
       "      <td>6840-RESVB</td>\n",
       "      <td>0.076979</td>\n",
       "    </tr>\n",
       "    <tr>\n",
       "      <th>7028</th>\n",
       "      <td>2234-XADUH</td>\n",
       "      <td>0.157060</td>\n",
       "    </tr>\n",
       "    <tr>\n",
       "      <th>7029</th>\n",
       "      <td>4801-JZAZL</td>\n",
       "      <td>0.508302</td>\n",
       "    </tr>\n",
       "    <tr>\n",
       "      <th>7030</th>\n",
       "      <td>8361-LTMKD</td>\n",
       "      <td>0.722440</td>\n",
       "    </tr>\n",
       "    <tr>\n",
       "      <th>7031</th>\n",
       "      <td>3186-AJIEK</td>\n",
       "      <td>0.138790</td>\n",
       "    </tr>\n",
       "  </tbody>\n",
       "</table>\n",
       "</div>"
      ],
      "text/plain": [
       "      customerID  Probability\n",
       "7012  1035-IPQPU     0.599030\n",
       "7013  7398-LXGYX     0.324508\n",
       "7014  2823-LKABH     0.793875\n",
       "7015  8775-CEBBJ     0.704651\n",
       "7016  0550-DCXLH     0.260429\n",
       "7017  9281-CEDRU     0.013936\n",
       "7018  2235-DWLJU     0.831546\n",
       "7019  0871-OPBXW     0.540068\n",
       "7020  3605-JISKB     0.018376\n",
       "7021  6894-LFHLY     0.880426\n",
       "7022  9767-FFLEM     0.512699\n",
       "7023  0639-TSIQW     0.520272\n",
       "7024  8456-QDAVC     0.765883\n",
       "7025  7750-EYXWZ     0.398379\n",
       "7026  2569-WGERO     0.009172\n",
       "7027  6840-RESVB     0.076979\n",
       "7028  2234-XADUH     0.157060\n",
       "7029  4801-JZAZL     0.508302\n",
       "7030  8361-LTMKD     0.722440\n",
       "7031  3186-AJIEK     0.138790"
      ]
     },
     "execution_count": 74,
     "metadata": {},
     "output_type": "execute_result"
    }
   ],
   "source": [
    "cust_churn[['customerID', 'Probability']].tail(20)\n",
    "# Logistic reg already considered the threshold value of 0.5 and predicted which cust may quit\n",
    "#and who may not but we calc the Probability column after building and evaluating the model \n",
    "# just to know how much is the prob of churing and how can we motivate the cust to turn back\n",
    "# to the company"
   ]
  },
  {
   "cell_type": "code",
   "execution_count": null,
   "id": "3682a724",
   "metadata": {},
   "outputs": [],
   "source": []
  }
 ],
 "metadata": {
  "kernelspec": {
   "display_name": "Python 3 (ipykernel)",
   "language": "python",
   "name": "python3"
  },
  "language_info": {
   "codemirror_mode": {
    "name": "ipython",
    "version": 3
   },
   "file_extension": ".py",
   "mimetype": "text/x-python",
   "name": "python",
   "nbconvert_exporter": "python",
   "pygments_lexer": "ipython3",
   "version": "3.9.13"
  }
 },
 "nbformat": 4,
 "nbformat_minor": 5
}
